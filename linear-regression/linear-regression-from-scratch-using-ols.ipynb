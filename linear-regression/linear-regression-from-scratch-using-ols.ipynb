{
 "cells": [
  {
   "cell_type": "markdown",
   "id": "e82d5dca",
   "metadata": {
    "papermill": {
     "duration": 0.014207,
     "end_time": "2023-06-22T07:36:12.249157",
     "exception": false,
     "start_time": "2023-06-22T07:36:12.234950",
     "status": "completed"
    },
    "tags": []
   },
   "source": [
    "# Problem Statement"
   ]
  },
  {
   "cell_type": "markdown",
   "id": "5b7001be",
   "metadata": {
    "papermill": {
     "duration": 0.012901,
     "end_time": "2023-06-22T07:36:12.275677",
     "exception": false,
     "start_time": "2023-06-22T07:36:12.262776",
     "status": "completed"
    },
    "tags": []
   },
   "source": [
    "Implement linear regression from scratch using Ordinary Least Squares (OLS) method and compare it with linear regression from sklearn"
   ]
  },
  {
   "cell_type": "markdown",
   "id": "54a36e5f",
   "metadata": {
    "papermill": {
     "duration": 0.012867,
     "end_time": "2023-06-22T07:36:12.301768",
     "exception": false,
     "start_time": "2023-06-22T07:36:12.288901",
     "status": "completed"
    },
    "tags": []
   },
   "source": [
    "# Importing libraries"
   ]
  },
  {
   "cell_type": "code",
   "execution_count": 1,
   "id": "bdaac60c",
   "metadata": {
    "execution": {
     "iopub.execute_input": "2023-06-22T07:36:12.330058Z",
     "iopub.status.busy": "2023-06-22T07:36:12.329618Z",
     "iopub.status.idle": "2023-06-22T07:36:13.839752Z",
     "shell.execute_reply": "2023-06-22T07:36:13.838246Z"
    },
    "papermill": {
     "duration": 1.527774,
     "end_time": "2023-06-22T07:36:13.842842",
     "exception": false,
     "start_time": "2023-06-22T07:36:12.315068",
     "status": "completed"
    },
    "tags": []
   },
   "outputs": [
    {
     "name": "stderr",
     "output_type": "stream",
     "text": [
      "/opt/conda/lib/python3.10/site-packages/scipy/__init__.py:146: UserWarning: A NumPy version >=1.16.5 and <1.23.0 is required for this version of SciPy (detected version 1.23.5\n",
      "  warnings.warn(f\"A NumPy version >={np_minversion} and <{np_maxversion}\"\n"
     ]
    }
   ],
   "source": [
    "import numpy as np\n",
    "import pandas as pd\n",
    "\n",
    "import matplotlib.pyplot as plt\n",
    "\n",
    "from sklearn.model_selection import train_test_split\n",
    "\n",
    "from sklearn.linear_model import LinearRegression\n",
    "\n",
    "from sklearn.metrics import r2_score"
   ]
  },
  {
   "cell_type": "markdown",
   "id": "545ee120",
   "metadata": {
    "papermill": {
     "duration": 0.020316,
     "end_time": "2023-06-22T07:36:13.880305",
     "exception": false,
     "start_time": "2023-06-22T07:36:13.859989",
     "status": "completed"
    },
    "tags": []
   },
   "source": [
    "# Dataset Description"
   ]
  },
  {
   "cell_type": "code",
   "execution_count": 2,
   "id": "98ccf5d1",
   "metadata": {
    "execution": {
     "iopub.execute_input": "2023-06-22T07:36:13.915586Z",
     "iopub.status.busy": "2023-06-22T07:36:13.914534Z",
     "iopub.status.idle": "2023-06-22T07:36:23.245953Z",
     "shell.execute_reply": "2023-06-22T07:36:23.244403Z"
    },
    "papermill": {
     "duration": 9.351965,
     "end_time": "2023-06-22T07:36:23.248880",
     "exception": false,
     "start_time": "2023-06-22T07:36:13.896915",
     "status": "completed"
    },
    "tags": []
   },
   "outputs": [
    {
     "name": "stderr",
     "output_type": "stream",
     "text": [
      "/tmp/ipykernel_20/2368306870.py:1: DtypeWarning: Columns (47,73) have mixed types. Specify dtype option on import or set low_memory=False.\n",
      "  dataset = pd.read_csv(\"/kaggle/input/calcofi/bottle.csv\")\n"
     ]
    }
   ],
   "source": [
    "dataset = pd.read_csv(\"/kaggle/input/calcofi/bottle.csv\")"
   ]
  },
  {
   "cell_type": "code",
   "execution_count": 3,
   "id": "c19d2769",
   "metadata": {
    "execution": {
     "iopub.execute_input": "2023-06-22T07:36:23.277629Z",
     "iopub.status.busy": "2023-06-22T07:36:23.277189Z",
     "iopub.status.idle": "2023-06-22T07:36:23.286096Z",
     "shell.execute_reply": "2023-06-22T07:36:23.285012Z"
    },
    "papermill": {
     "duration": 0.026042,
     "end_time": "2023-06-22T07:36:23.288491",
     "exception": false,
     "start_time": "2023-06-22T07:36:23.262449",
     "status": "completed"
    },
    "tags": []
   },
   "outputs": [
    {
     "data": {
      "text/plain": [
       "(864863, 74)"
      ]
     },
     "execution_count": 3,
     "metadata": {},
     "output_type": "execute_result"
    }
   ],
   "source": [
    "dataset.shape"
   ]
  },
  {
   "cell_type": "code",
   "execution_count": 4,
   "id": "63819f74",
   "metadata": {
    "execution": {
     "iopub.execute_input": "2023-06-22T07:36:23.317983Z",
     "iopub.status.busy": "2023-06-22T07:36:23.317581Z",
     "iopub.status.idle": "2023-06-22T07:36:24.455570Z",
     "shell.execute_reply": "2023-06-22T07:36:24.454468Z"
    },
    "papermill": {
     "duration": 1.155812,
     "end_time": "2023-06-22T07:36:24.458080",
     "exception": false,
     "start_time": "2023-06-22T07:36:23.302268",
     "status": "completed"
    },
    "tags": []
   },
   "outputs": [
    {
     "name": "stdout",
     "output_type": "stream",
     "text": [
      "<class 'pandas.core.frame.DataFrame'>\n",
      "RangeIndex: 864863 entries, 0 to 864862\n",
      "Data columns (total 74 columns):\n",
      " #   Column               Non-Null Count   Dtype  \n",
      "---  ------               --------------   -----  \n",
      " 0   Cst_Cnt              864863 non-null  int64  \n",
      " 1   Btl_Cnt              864863 non-null  int64  \n",
      " 2   Sta_ID               864863 non-null  object \n",
      " 3   Depth_ID             864863 non-null  object \n",
      " 4   Depthm               864863 non-null  int64  \n",
      " 5   T_degC               853900 non-null  float64\n",
      " 6   Salnty               817509 non-null  float64\n",
      " 7   O2ml_L               696201 non-null  float64\n",
      " 8   STheta               812174 non-null  float64\n",
      " 9   O2Sat                661274 non-null  float64\n",
      " 10  Oxy_µmol/Kg          661268 non-null  float64\n",
      " 11  BtlNum               118667 non-null  float64\n",
      " 12  RecInd               864863 non-null  int64  \n",
      " 13  T_prec               853900 non-null  float64\n",
      " 14  T_qual               23127 non-null   float64\n",
      " 15  S_prec               817509 non-null  float64\n",
      " 16  S_qual               74914 non-null   float64\n",
      " 17  P_qual               673755 non-null  float64\n",
      " 18  O_qual               184676 non-null  float64\n",
      " 19  SThtaq               65823 non-null   float64\n",
      " 20  O2Satq               217797 non-null  float64\n",
      " 21  ChlorA               225272 non-null  float64\n",
      " 22  Chlqua               639166 non-null  float64\n",
      " 23  Phaeop               225271 non-null  float64\n",
      " 24  Phaqua               639170 non-null  float64\n",
      " 25  PO4uM                413317 non-null  float64\n",
      " 26  PO4q                 451786 non-null  float64\n",
      " 27  SiO3uM               354091 non-null  float64\n",
      " 28  SiO3qu               510866 non-null  float64\n",
      " 29  NO2uM                337576 non-null  float64\n",
      " 30  NO2q                 529474 non-null  float64\n",
      " 31  NO3uM                337403 non-null  float64\n",
      " 32  NO3q                 529933 non-null  float64\n",
      " 33  NH3uM                64962 non-null   float64\n",
      " 34  NH3q                 808299 non-null  float64\n",
      " 35  C14As1               14432 non-null   float64\n",
      " 36  C14A1p               12760 non-null   float64\n",
      " 37  C14A1q               848605 non-null  float64\n",
      " 38  C14As2               14414 non-null   float64\n",
      " 39  C14A2p               12742 non-null   float64\n",
      " 40  C14A2q               848623 non-null  float64\n",
      " 41  DarkAs               22649 non-null   float64\n",
      " 42  DarkAp               20457 non-null   float64\n",
      " 43  DarkAq               840440 non-null  float64\n",
      " 44  MeanAs               22650 non-null   float64\n",
      " 45  MeanAp               20457 non-null   float64\n",
      " 46  MeanAq               840439 non-null  float64\n",
      " 47  IncTim               14437 non-null   object \n",
      " 48  LightP               18651 non-null   float64\n",
      " 49  R_Depth              864863 non-null  float64\n",
      " 50  R_TEMP               853900 non-null  float64\n",
      " 51  R_POTEMP             818816 non-null  float64\n",
      " 52  R_SALINITY           817509 non-null  float64\n",
      " 53  R_SIGMA              812007 non-null  float64\n",
      " 54  R_SVA                812092 non-null  float64\n",
      " 55  R_DYNHT              818206 non-null  float64\n",
      " 56  R_O2                 696201 non-null  float64\n",
      " 57  R_O2Sat              666448 non-null  float64\n",
      " 58  R_SIO3               354099 non-null  float64\n",
      " 59  R_PO4                413325 non-null  float64\n",
      " 60  R_NO3                337411 non-null  float64\n",
      " 61  R_NO2                337584 non-null  float64\n",
      " 62  R_NH4                64982 non-null   float64\n",
      " 63  R_CHLA               225276 non-null  float64\n",
      " 64  R_PHAEO              225275 non-null  float64\n",
      " 65  R_PRES               864863 non-null  int64  \n",
      " 66  R_SAMP               122006 non-null  float64\n",
      " 67  DIC1                 1999 non-null    float64\n",
      " 68  DIC2                 224 non-null     float64\n",
      " 69  TA1                  2084 non-null    float64\n",
      " 70  TA2                  234 non-null     float64\n",
      " 71  pH2                  10 non-null      float64\n",
      " 72  pH1                  84 non-null      float64\n",
      " 73  DIC Quality Comment  55 non-null      object \n",
      "dtypes: float64(65), int64(5), object(4)\n",
      "memory usage: 488.3+ MB\n"
     ]
    }
   ],
   "source": [
    "dataset.info()"
   ]
  },
  {
   "cell_type": "code",
   "execution_count": 5,
   "id": "4d42e576",
   "metadata": {
    "execution": {
     "iopub.execute_input": "2023-06-22T07:36:24.487859Z",
     "iopub.status.busy": "2023-06-22T07:36:24.487425Z",
     "iopub.status.idle": "2023-06-22T07:36:24.499138Z",
     "shell.execute_reply": "2023-06-22T07:36:24.497765Z"
    },
    "papermill": {
     "duration": 0.030275,
     "end_time": "2023-06-22T07:36:24.502382",
     "exception": false,
     "start_time": "2023-06-22T07:36:24.472107",
     "status": "completed"
    },
    "tags": []
   },
   "outputs": [],
   "source": [
    "#choosing only temperature and salinity cols\n",
    "df = dataset[['T_degC', 'Salnty']]"
   ]
  },
  {
   "cell_type": "code",
   "execution_count": 6,
   "id": "8fc914ad",
   "metadata": {
    "execution": {
     "iopub.execute_input": "2023-06-22T07:36:24.532024Z",
     "iopub.status.busy": "2023-06-22T07:36:24.531603Z",
     "iopub.status.idle": "2023-06-22T07:36:24.556930Z",
     "shell.execute_reply": "2023-06-22T07:36:24.555764Z"
    },
    "papermill": {
     "duration": 0.043036,
     "end_time": "2023-06-22T07:36:24.559501",
     "exception": false,
     "start_time": "2023-06-22T07:36:24.516465",
     "status": "completed"
    },
    "tags": []
   },
   "outputs": [
    {
     "data": {
      "text/html": [
       "<div>\n",
       "<style scoped>\n",
       "    .dataframe tbody tr th:only-of-type {\n",
       "        vertical-align: middle;\n",
       "    }\n",
       "\n",
       "    .dataframe tbody tr th {\n",
       "        vertical-align: top;\n",
       "    }\n",
       "\n",
       "    .dataframe thead th {\n",
       "        text-align: right;\n",
       "    }\n",
       "</style>\n",
       "<table border=\"1\" class=\"dataframe\">\n",
       "  <thead>\n",
       "    <tr style=\"text-align: right;\">\n",
       "      <th></th>\n",
       "      <th>T_degC</th>\n",
       "      <th>Salnty</th>\n",
       "    </tr>\n",
       "  </thead>\n",
       "  <tbody>\n",
       "    <tr>\n",
       "      <th>0</th>\n",
       "      <td>10.50</td>\n",
       "      <td>33.440</td>\n",
       "    </tr>\n",
       "    <tr>\n",
       "      <th>1</th>\n",
       "      <td>10.46</td>\n",
       "      <td>33.440</td>\n",
       "    </tr>\n",
       "    <tr>\n",
       "      <th>2</th>\n",
       "      <td>10.46</td>\n",
       "      <td>33.437</td>\n",
       "    </tr>\n",
       "    <tr>\n",
       "      <th>3</th>\n",
       "      <td>10.45</td>\n",
       "      <td>33.420</td>\n",
       "    </tr>\n",
       "    <tr>\n",
       "      <th>4</th>\n",
       "      <td>10.45</td>\n",
       "      <td>33.421</td>\n",
       "    </tr>\n",
       "  </tbody>\n",
       "</table>\n",
       "</div>"
      ],
      "text/plain": [
       "   T_degC  Salnty\n",
       "0   10.50  33.440\n",
       "1   10.46  33.440\n",
       "2   10.46  33.437\n",
       "3   10.45  33.420\n",
       "4   10.45  33.421"
      ]
     },
     "execution_count": 6,
     "metadata": {},
     "output_type": "execute_result"
    }
   ],
   "source": [
    "df.head()"
   ]
  },
  {
   "cell_type": "markdown",
   "id": "af32995a",
   "metadata": {
    "papermill": {
     "duration": 0.01385,
     "end_time": "2023-06-22T07:36:24.587899",
     "exception": false,
     "start_time": "2023-06-22T07:36:24.574049",
     "status": "completed"
    },
    "tags": []
   },
   "source": [
    "### Dropping null values"
   ]
  },
  {
   "cell_type": "code",
   "execution_count": 7,
   "id": "7b07126b",
   "metadata": {
    "execution": {
     "iopub.execute_input": "2023-06-22T07:36:24.617988Z",
     "iopub.status.busy": "2023-06-22T07:36:24.617448Z",
     "iopub.status.idle": "2023-06-22T07:36:24.630122Z",
     "shell.execute_reply": "2023-06-22T07:36:24.628542Z"
    },
    "papermill": {
     "duration": 0.030768,
     "end_time": "2023-06-22T07:36:24.632887",
     "exception": false,
     "start_time": "2023-06-22T07:36:24.602119",
     "status": "completed"
    },
    "tags": []
   },
   "outputs": [
    {
     "data": {
      "text/plain": [
       "T_degC    10963\n",
       "Salnty    47354\n",
       "dtype: int64"
      ]
     },
     "execution_count": 7,
     "metadata": {},
     "output_type": "execute_result"
    }
   ],
   "source": [
    "df.isna().sum()"
   ]
  },
  {
   "cell_type": "code",
   "execution_count": 8,
   "id": "275bb168",
   "metadata": {
    "execution": {
     "iopub.execute_input": "2023-06-22T07:36:24.663780Z",
     "iopub.status.busy": "2023-06-22T07:36:24.663313Z",
     "iopub.status.idle": "2023-06-22T07:36:24.690406Z",
     "shell.execute_reply": "2023-06-22T07:36:24.689480Z"
    },
    "papermill": {
     "duration": 0.045674,
     "end_time": "2023-06-22T07:36:24.692966",
     "exception": false,
     "start_time": "2023-06-22T07:36:24.647292",
     "status": "completed"
    },
    "tags": []
   },
   "outputs": [
    {
     "name": "stderr",
     "output_type": "stream",
     "text": [
      "/tmp/ipykernel_20/165812464.py:1: SettingWithCopyWarning: \n",
      "A value is trying to be set on a copy of a slice from a DataFrame\n",
      "\n",
      "See the caveats in the documentation: https://pandas.pydata.org/pandas-docs/stable/user_guide/indexing.html#returning-a-view-versus-a-copy\n",
      "  df.dropna(axis = 0, inplace = True)\n"
     ]
    }
   ],
   "source": [
    "df.dropna(axis = 0, inplace = True)"
   ]
  },
  {
   "cell_type": "code",
   "execution_count": 9,
   "id": "0803ca40",
   "metadata": {
    "execution": {
     "iopub.execute_input": "2023-06-22T07:36:24.723458Z",
     "iopub.status.busy": "2023-06-22T07:36:24.723085Z",
     "iopub.status.idle": "2023-06-22T07:36:24.729623Z",
     "shell.execute_reply": "2023-06-22T07:36:24.728528Z"
    },
    "papermill": {
     "duration": 0.024592,
     "end_time": "2023-06-22T07:36:24.731883",
     "exception": false,
     "start_time": "2023-06-22T07:36:24.707291",
     "status": "completed"
    },
    "tags": []
   },
   "outputs": [
    {
     "data": {
      "text/plain": [
       "(814247, 2)"
      ]
     },
     "execution_count": 9,
     "metadata": {},
     "output_type": "execute_result"
    }
   ],
   "source": [
    "df.shape"
   ]
  },
  {
   "cell_type": "code",
   "execution_count": 10,
   "id": "6d4753d9",
   "metadata": {
    "execution": {
     "iopub.execute_input": "2023-06-22T07:36:24.763079Z",
     "iopub.status.busy": "2023-06-22T07:36:24.762660Z",
     "iopub.status.idle": "2023-06-22T07:36:24.798779Z",
     "shell.execute_reply": "2023-06-22T07:36:24.797556Z"
    },
    "papermill": {
     "duration": 0.05493,
     "end_time": "2023-06-22T07:36:24.801420",
     "exception": false,
     "start_time": "2023-06-22T07:36:24.746490",
     "status": "completed"
    },
    "tags": []
   },
   "outputs": [],
   "source": [
    "#taking only first 1000 rows\n",
    "df = df.sample(1000)"
   ]
  },
  {
   "cell_type": "code",
   "execution_count": 11,
   "id": "88fc9bd6",
   "metadata": {
    "execution": {
     "iopub.execute_input": "2023-06-22T07:36:24.833602Z",
     "iopub.status.busy": "2023-06-22T07:36:24.833197Z",
     "iopub.status.idle": "2023-06-22T07:36:24.840574Z",
     "shell.execute_reply": "2023-06-22T07:36:24.839379Z"
    },
    "papermill": {
     "duration": 0.026017,
     "end_time": "2023-06-22T07:36:24.843167",
     "exception": false,
     "start_time": "2023-06-22T07:36:24.817150",
     "status": "completed"
    },
    "tags": []
   },
   "outputs": [
    {
     "data": {
      "text/plain": [
       "(1000, 2)"
      ]
     },
     "execution_count": 11,
     "metadata": {},
     "output_type": "execute_result"
    }
   ],
   "source": [
    "df.shape"
   ]
  },
  {
   "cell_type": "code",
   "execution_count": 12,
   "id": "35463337",
   "metadata": {
    "execution": {
     "iopub.execute_input": "2023-06-22T07:36:24.875675Z",
     "iopub.status.busy": "2023-06-22T07:36:24.874533Z",
     "iopub.status.idle": "2023-06-22T07:36:24.898683Z",
     "shell.execute_reply": "2023-06-22T07:36:24.897354Z"
    },
    "papermill": {
     "duration": 0.043749,
     "end_time": "2023-06-22T07:36:24.901568",
     "exception": false,
     "start_time": "2023-06-22T07:36:24.857819",
     "status": "completed"
    },
    "tags": []
   },
   "outputs": [
    {
     "data": {
      "text/html": [
       "<div>\n",
       "<style scoped>\n",
       "    .dataframe tbody tr th:only-of-type {\n",
       "        vertical-align: middle;\n",
       "    }\n",
       "\n",
       "    .dataframe tbody tr th {\n",
       "        vertical-align: top;\n",
       "    }\n",
       "\n",
       "    .dataframe thead th {\n",
       "        text-align: right;\n",
       "    }\n",
       "</style>\n",
       "<table border=\"1\" class=\"dataframe\">\n",
       "  <thead>\n",
       "    <tr style=\"text-align: right;\">\n",
       "      <th></th>\n",
       "      <th>T_degC</th>\n",
       "      <th>Salnty</th>\n",
       "    </tr>\n",
       "  </thead>\n",
       "  <tbody>\n",
       "    <tr>\n",
       "      <th>count</th>\n",
       "      <td>1000.000000</td>\n",
       "      <td>1000.000000</td>\n",
       "    </tr>\n",
       "    <tr>\n",
       "      <th>mean</th>\n",
       "      <td>10.892001</td>\n",
       "      <td>33.853134</td>\n",
       "    </tr>\n",
       "    <tr>\n",
       "      <th>std</th>\n",
       "      <td>4.183828</td>\n",
       "      <td>0.454413</td>\n",
       "    </tr>\n",
       "    <tr>\n",
       "      <th>min</th>\n",
       "      <td>1.560000</td>\n",
       "      <td>30.480000</td>\n",
       "    </tr>\n",
       "    <tr>\n",
       "      <th>25%</th>\n",
       "      <td>8.000000</td>\n",
       "      <td>33.507425</td>\n",
       "    </tr>\n",
       "    <tr>\n",
       "      <th>50%</th>\n",
       "      <td>10.080000</td>\n",
       "      <td>33.856500</td>\n",
       "    </tr>\n",
       "    <tr>\n",
       "      <th>75%</th>\n",
       "      <td>13.830000</td>\n",
       "      <td>34.203950</td>\n",
       "    </tr>\n",
       "    <tr>\n",
       "      <th>max</th>\n",
       "      <td>27.680000</td>\n",
       "      <td>35.377000</td>\n",
       "    </tr>\n",
       "  </tbody>\n",
       "</table>\n",
       "</div>"
      ],
      "text/plain": [
       "            T_degC       Salnty\n",
       "count  1000.000000  1000.000000\n",
       "mean     10.892001    33.853134\n",
       "std       4.183828     0.454413\n",
       "min       1.560000    30.480000\n",
       "25%       8.000000    33.507425\n",
       "50%      10.080000    33.856500\n",
       "75%      13.830000    34.203950\n",
       "max      27.680000    35.377000"
      ]
     },
     "execution_count": 12,
     "metadata": {},
     "output_type": "execute_result"
    }
   ],
   "source": [
    "df.describe()"
   ]
  },
  {
   "cell_type": "markdown",
   "id": "cc19dce5",
   "metadata": {
    "papermill": {
     "duration": 0.015015,
     "end_time": "2023-06-22T07:36:24.931904",
     "exception": false,
     "start_time": "2023-06-22T07:36:24.916889",
     "status": "completed"
    },
    "tags": []
   },
   "source": [
    "### Linear Relationship"
   ]
  },
  {
   "cell_type": "code",
   "execution_count": 13,
   "id": "fb993f18",
   "metadata": {
    "execution": {
     "iopub.execute_input": "2023-06-22T07:36:24.964551Z",
     "iopub.status.busy": "2023-06-22T07:36:24.964111Z",
     "iopub.status.idle": "2023-06-22T07:36:25.228832Z",
     "shell.execute_reply": "2023-06-22T07:36:25.227620Z"
    },
    "papermill": {
     "duration": 0.28444,
     "end_time": "2023-06-22T07:36:25.231380",
     "exception": false,
     "start_time": "2023-06-22T07:36:24.946940",
     "status": "completed"
    },
    "tags": []
   },
   "outputs": [
    {
     "data": {
      "image/png": "[encoded data removed]",
      "text/plain": [
       "<Figure size 640x480 with 1 Axes>"
      ]
     },
     "metadata": {},
     "output_type": "display_data"
    }
   ],
   "source": [
    "plt.scatter(x = df['T_degC'], y = df['Salnty'], alpha = 0.8)\n",
    "plt.xlabel(\"Water Temperature\")\n",
    "plt.ylabel(\"Water Salinity\")\n",
    "plt.show()\n",
    "#with temperature salinity decreases"
   ]
  },
  {
   "cell_type": "markdown",
   "id": "71c44eac",
   "metadata": {
    "papermill": {
     "duration": 0.015308,
     "end_time": "2023-06-22T07:36:25.263298",
     "exception": false,
     "start_time": "2023-06-22T07:36:25.247990",
     "status": "completed"
    },
    "tags": []
   },
   "source": [
    "# Train-Test Split"
   ]
  },
  {
   "cell_type": "code",
   "execution_count": 14,
   "id": "e9702545",
   "metadata": {
    "execution": {
     "iopub.execute_input": "2023-06-22T07:36:25.296541Z",
     "iopub.status.busy": "2023-06-22T07:36:25.295842Z",
     "iopub.status.idle": "2023-06-22T07:36:25.301429Z",
     "shell.execute_reply": "2023-06-22T07:36:25.300205Z"
    },
    "papermill": {
     "duration": 0.024957,
     "end_time": "2023-06-22T07:36:25.303837",
     "exception": false,
     "start_time": "2023-06-22T07:36:25.278880",
     "status": "completed"
    },
    "tags": []
   },
   "outputs": [],
   "source": [
    "X = df['T_degC']\n",
    "y = df['Salnty']"
   ]
  },
  {
   "cell_type": "code",
   "execution_count": 15,
   "id": "bb798da1",
   "metadata": {
    "execution": {
     "iopub.execute_input": "2023-06-22T07:36:25.337069Z",
     "iopub.status.busy": "2023-06-22T07:36:25.336616Z",
     "iopub.status.idle": "2023-06-22T07:36:25.345330Z",
     "shell.execute_reply": "2023-06-22T07:36:25.344106Z"
    },
    "papermill": {
     "duration": 0.028491,
     "end_time": "2023-06-22T07:36:25.348054",
     "exception": false,
     "start_time": "2023-06-22T07:36:25.319563",
     "status": "completed"
    },
    "tags": []
   },
   "outputs": [],
   "source": [
    "X_train, X_test, y_train, y_test = train_test_split(X, y, test_size = 0.3, random_state = 10, shuffle = True)"
   ]
  },
  {
   "cell_type": "code",
   "execution_count": 16,
   "id": "1b6fb2ea",
   "metadata": {
    "execution": {
     "iopub.execute_input": "2023-06-22T07:36:25.382487Z",
     "iopub.status.busy": "2023-06-22T07:36:25.382053Z",
     "iopub.status.idle": "2023-06-22T07:36:25.388672Z",
     "shell.execute_reply": "2023-06-22T07:36:25.387817Z"
    },
    "papermill": {
     "duration": 0.027033,
     "end_time": "2023-06-22T07:36:25.391011",
     "exception": false,
     "start_time": "2023-06-22T07:36:25.363978",
     "status": "completed"
    },
    "tags": []
   },
   "outputs": [
    {
     "data": {
      "text/plain": [
       "(700,)"
      ]
     },
     "execution_count": 16,
     "metadata": {},
     "output_type": "execute_result"
    }
   ],
   "source": [
    "X_train.shape"
   ]
  },
  {
   "cell_type": "markdown",
   "id": "0c251e1d",
   "metadata": {
    "papermill": {
     "duration": 0.015461,
     "end_time": "2023-06-22T07:36:25.422301",
     "exception": false,
     "start_time": "2023-06-22T07:36:25.406840",
     "status": "completed"
    },
    "tags": []
   },
   "source": [
    "# Linear Regression From Sklearn"
   ]
  },
  {
   "cell_type": "code",
   "execution_count": 17,
   "id": "5f042fa4",
   "metadata": {
    "execution": {
     "iopub.execute_input": "2023-06-22T07:36:25.456014Z",
     "iopub.status.busy": "2023-06-22T07:36:25.455562Z",
     "iopub.status.idle": "2023-06-22T07:36:25.485794Z",
     "shell.execute_reply": "2023-06-22T07:36:25.484951Z"
    },
    "papermill": {
     "duration": 0.050243,
     "end_time": "2023-06-22T07:36:25.488293",
     "exception": false,
     "start_time": "2023-06-22T07:36:25.438050",
     "status": "completed"
    },
    "tags": []
   },
   "outputs": [
    {
     "data": {
      "text/html": [
       "<style>#sk-container-id-1 {color: black;background-color: white;}#sk-container-id-1 pre{padding: 0;}#sk-container-id-1 div.sk-toggleable {background-color: white;}#sk-container-id-1 label.sk-toggleable__label {cursor: pointer;display: block;width: 100%;margin-bottom: 0;padding: 0.3em;box-sizing: border-box;text-align: center;}#sk-container-id-1 label.sk-toggleable__label-arrow:before {content: \"▸\";float: left;margin-right: 0.25em;color: #696969;}#sk-container-id-1 label.sk-toggleable__label-arrow:hover:before {color: black;}#sk-container-id-1 div.sk-estimator:hover label.sk-toggleable__label-arrow:before {color: black;}#sk-container-id-1 div.sk-toggleable__content {max-height: 0;max-width: 0;overflow: hidden;text-align: left;background-color: #f0f8ff;}#sk-container-id-1 div.sk-toggleable__content pre {margin: 0.2em;color: black;border-radius: 0.25em;background-color: #f0f8ff;}#sk-container-id-1 input.sk-toggleable__control:checked~div.sk-toggleable__content {max-height: 200px;max-width: 100%;overflow: auto;}#sk-container-id-1 input.sk-toggleable__control:checked~label.sk-toggleable__label-arrow:before {content: \"▾\";}#sk-container-id-1 div.sk-estimator input.sk-toggleable__control:checked~label.sk-toggleable__label {background-color: #d4ebff;}#sk-container-id-1 div.sk-label input.sk-toggleable__control:checked~label.sk-toggleable__label {background-color: #d4ebff;}#sk-container-id-1 input.sk-hidden--visually {border: 0;clip: rect(1px 1px 1px 1px);clip: rect(1px, 1px, 1px, 1px);height: 1px;margin: -1px;overflow: hidden;padding: 0;position: absolute;width: 1px;}#sk-container-id-1 div.sk-estimator {font-family: monospace;background-color: #f0f8ff;border: 1px dotted black;border-radius: 0.25em;box-sizing: border-box;margin-bottom: 0.5em;}#sk-container-id-1 div.sk-estimator:hover {background-color: #d4ebff;}#sk-container-id-1 div.sk-parallel-item::after {content: \"\";width: 100%;border-bottom: 1px solid gray;flex-grow: 1;}#sk-container-id-1 div.sk-label:hover label.sk-toggleable__label {background-color: #d4ebff;}#sk-container-id-1 div.sk-serial::before {content: \"\";position: absolute;border-left: 1px solid gray;box-sizing: border-box;top: 0;bottom: 0;left: 50%;z-index: 0;}#sk-container-id-1 div.sk-serial {display: flex;flex-direction: column;align-items: center;background-color: white;padding-right: 0.2em;padding-left: 0.2em;position: relative;}#sk-container-id-1 div.sk-item {position: relative;z-index: 1;}#sk-container-id-1 div.sk-parallel {display: flex;align-items: stretch;justify-content: center;background-color: white;position: relative;}#sk-container-id-1 div.sk-item::before, #sk-container-id-1 div.sk-parallel-item::before {content: \"\";position: absolute;border-left: 1px solid gray;box-sizing: border-box;top: 0;bottom: 0;left: 50%;z-index: -1;}#sk-container-id-1 div.sk-parallel-item {display: flex;flex-direction: column;z-index: 1;position: relative;background-color: white;}#sk-container-id-1 div.sk-parallel-item:first-child::after {align-self: flex-end;width: 50%;}#sk-container-id-1 div.sk-parallel-item:last-child::after {align-self: flex-start;width: 50%;}#sk-container-id-1 div.sk-parallel-item:only-child::after {width: 0;}#sk-container-id-1 div.sk-dashed-wrapped {border: 1px dashed gray;margin: 0 0.4em 0.5em 0.4em;box-sizing: border-box;padding-bottom: 0.4em;background-color: white;}#sk-container-id-1 div.sk-label label {font-family: monospace;font-weight: bold;display: inline-block;line-height: 1.2em;}#sk-container-id-1 div.sk-label-container {text-align: center;}#sk-container-id-1 div.sk-container {/* jupyter's `normalize.less` sets `[hidden] { display: none; }` but bootstrap.min.css set `[hidden] { display: none !important; }` so we also need the `!important` here to be able to override the default hidden behavior on the sphinx rendered scikit-learn.org. See: https://github.com/scikit-learn/scikit-learn/issues/21755 */display: inline-block !important;position: relative;}#sk-container-id-1 div.sk-text-repr-fallback {display: none;}</style><div id=\"sk-container-id-1\" class=\"sk-top-container\"><div class=\"sk-text-repr-fallback\"><pre>LinearRegression()</pre><b>In a Jupyter environment, please rerun this cell to show the HTML representation or trust the notebook. <br />On GitHub, the HTML representation is unable to render, please try loading this page with nbviewer.org.</b></div><div class=\"sk-container\" hidden><div class=\"sk-item\"><div class=\"sk-estimator sk-toggleable\"><input class=\"sk-toggleable__control sk-hidden--visually\" id=\"sk-estimator-id-1\" type=\"checkbox\" checked><label for=\"sk-estimator-id-1\" class=\"sk-toggleable__label sk-toggleable__label-arrow\">LinearRegression</label><div class=\"sk-toggleable__content\"><pre>LinearRegression()</pre></div></div></div></div></div>"
      ],
      "text/plain": [
       "LinearRegression()"
      ]
     },
     "execution_count": 17,
     "metadata": {},
     "output_type": "execute_result"
    }
   ],
   "source": [
    "regressor = LinearRegression()\n",
    "regressor.fit(np.array(X_train).reshape(-1, 1), np.array(y_train).reshape(-1, 1))"
   ]
  },
  {
   "cell_type": "code",
   "execution_count": 18,
   "id": "3b0440fe",
   "metadata": {
    "execution": {
     "iopub.execute_input": "2023-06-22T07:36:25.522936Z",
     "iopub.status.busy": "2023-06-22T07:36:25.522257Z",
     "iopub.status.idle": "2023-06-22T07:36:25.528488Z",
     "shell.execute_reply": "2023-06-22T07:36:25.527273Z"
    },
    "papermill": {
     "duration": 0.026302,
     "end_time": "2023-06-22T07:36:25.530850",
     "exception": false,
     "start_time": "2023-06-22T07:36:25.504548",
     "status": "completed"
    },
    "tags": []
   },
   "outputs": [
    {
     "data": {
      "text/plain": [
       "array([[-0.05802125]])"
      ]
     },
     "execution_count": 18,
     "metadata": {},
     "output_type": "execute_result"
    }
   ],
   "source": [
    "m = regressor.coef_\n",
    "m"
   ]
  },
  {
   "cell_type": "code",
   "execution_count": 19,
   "id": "8e730edc",
   "metadata": {
    "execution": {
     "iopub.execute_input": "2023-06-22T07:36:25.565002Z",
     "iopub.status.busy": "2023-06-22T07:36:25.564576Z",
     "iopub.status.idle": "2023-06-22T07:36:25.571189Z",
     "shell.execute_reply": "2023-06-22T07:36:25.570328Z"
    },
    "papermill": {
     "duration": 0.026348,
     "end_time": "2023-06-22T07:36:25.573398",
     "exception": false,
     "start_time": "2023-06-22T07:36:25.547050",
     "status": "completed"
    },
    "tags": []
   },
   "outputs": [
    {
     "data": {
      "text/plain": [
       "array([34.4925945])"
      ]
     },
     "execution_count": 19,
     "metadata": {},
     "output_type": "execute_result"
    }
   ],
   "source": [
    "b = regressor.intercept_\n",
    "b"
   ]
  },
  {
   "cell_type": "code",
   "execution_count": 20,
   "id": "8f62a0f8",
   "metadata": {
    "execution": {
     "iopub.execute_input": "2023-06-22T07:36:25.608445Z",
     "iopub.status.busy": "2023-06-22T07:36:25.607755Z",
     "iopub.status.idle": "2023-06-22T07:36:25.612394Z",
     "shell.execute_reply": "2023-06-22T07:36:25.611594Z"
    },
    "papermill": {
     "duration": 0.024655,
     "end_time": "2023-06-22T07:36:25.614702",
     "exception": false,
     "start_time": "2023-06-22T07:36:25.590047",
     "status": "completed"
    },
    "tags": []
   },
   "outputs": [],
   "source": [
    "y_pred = regressor.predict(np.array(X_test).reshape(-1,1))"
   ]
  },
  {
   "cell_type": "markdown",
   "id": "1f004c04",
   "metadata": {
    "papermill": {
     "duration": 0.016667,
     "end_time": "2023-06-22T07:36:25.647848",
     "exception": false,
     "start_time": "2023-06-22T07:36:25.631181",
     "status": "completed"
    },
    "tags": []
   },
   "source": [
    "### R2 score"
   ]
  },
  {
   "cell_type": "code",
   "execution_count": 21,
   "id": "b94c779a",
   "metadata": {
    "execution": {
     "iopub.execute_input": "2023-06-22T07:36:25.683444Z",
     "iopub.status.busy": "2023-06-22T07:36:25.683016Z",
     "iopub.status.idle": "2023-06-22T07:36:25.691251Z",
     "shell.execute_reply": "2023-06-22T07:36:25.690112Z"
    },
    "papermill": {
     "duration": 0.02894,
     "end_time": "2023-06-22T07:36:25.693812",
     "exception": false,
     "start_time": "2023-06-22T07:36:25.664872",
     "status": "completed"
    },
    "tags": []
   },
   "outputs": [
    {
     "data": {
      "text/plain": [
       "0.2850305795165128"
      ]
     },
     "execution_count": 21,
     "metadata": {},
     "output_type": "execute_result"
    }
   ],
   "source": [
    "r2_score(y_test, y_pred)"
   ]
  },
  {
   "cell_type": "markdown",
   "id": "5ee9db29",
   "metadata": {
    "papermill": {
     "duration": 0.016472,
     "end_time": "2023-06-22T07:36:25.726977",
     "exception": false,
     "start_time": "2023-06-22T07:36:25.710505",
     "status": "completed"
    },
    "tags": []
   },
   "source": [
    "### Best fit line"
   ]
  },
  {
   "cell_type": "code",
   "execution_count": 22,
   "id": "2ca36c8d",
   "metadata": {
    "execution": {
     "iopub.execute_input": "2023-06-22T07:36:25.762818Z",
     "iopub.status.busy": "2023-06-22T07:36:25.761527Z",
     "iopub.status.idle": "2023-06-22T07:36:25.767046Z",
     "shell.execute_reply": "2023-06-22T07:36:25.766144Z"
    },
    "papermill": {
     "duration": 0.02593,
     "end_time": "2023-06-22T07:36:25.769316",
     "exception": false,
     "start_time": "2023-06-22T07:36:25.743386",
     "status": "completed"
    },
    "tags": []
   },
   "outputs": [],
   "source": [
    "x_input = np.linspace(0, 30, 500)\n",
    "y_input = m * x_input + b"
   ]
  },
  {
   "cell_type": "code",
   "execution_count": 23,
   "id": "f7ed1d17",
   "metadata": {
    "execution": {
     "iopub.execute_input": "2023-06-22T07:36:25.804253Z",
     "iopub.status.busy": "2023-06-22T07:36:25.803456Z",
     "iopub.status.idle": "2023-06-22T07:36:25.808070Z",
     "shell.execute_reply": "2023-06-22T07:36:25.807301Z"
    },
    "papermill": {
     "duration": 0.024326,
     "end_time": "2023-06-22T07:36:25.810167",
     "exception": false,
     "start_time": "2023-06-22T07:36:25.785841",
     "status": "completed"
    },
    "tags": []
   },
   "outputs": [],
   "source": [
    "y_input = y_input.reshape(-1, 1)"
   ]
  },
  {
   "cell_type": "code",
   "execution_count": 24,
   "id": "d17e3f52",
   "metadata": {
    "execution": {
     "iopub.execute_input": "2023-06-22T07:36:25.847552Z",
     "iopub.status.busy": "2023-06-22T07:36:25.846407Z",
     "iopub.status.idle": "2023-06-22T07:36:26.075518Z",
     "shell.execute_reply": "2023-06-22T07:36:26.074344Z"
    },
    "papermill": {
     "duration": 0.249496,
     "end_time": "2023-06-22T07:36:26.077977",
     "exception": false,
     "start_time": "2023-06-22T07:36:25.828481",
     "status": "completed"
    },
    "tags": []
   },
   "outputs": [
    {
     "data": {
      "image/png": "[encoded data removed]",
      "text/plain": [
       "<Figure size 640x480 with 1 Axes>"
      ]
     },
     "metadata": {},
     "output_type": "display_data"
    }
   ],
   "source": [
    "plt.scatter(x = X_train, y = y_train, alpha = 0.8)\n",
    "plt.plot(x_input, y_input, c = 'r')\n",
    "plt.xlabel('Water Temperature')\n",
    "plt.ylabel('Water Salinity')\n",
    "plt.show()"
   ]
  },
  {
   "cell_type": "markdown",
   "id": "fb8f7a98",
   "metadata": {
    "papermill": {
     "duration": 0.017094,
     "end_time": "2023-06-22T07:36:26.112345",
     "exception": false,
     "start_time": "2023-06-22T07:36:26.095251",
     "status": "completed"
    },
    "tags": []
   },
   "source": [
    "# Linear Regression From Scratch"
   ]
  },
  {
   "cell_type": "code",
   "execution_count": 25,
   "id": "78cb3937",
   "metadata": {
    "execution": {
     "iopub.execute_input": "2023-06-22T07:36:26.149139Z",
     "iopub.status.busy": "2023-06-22T07:36:26.148750Z",
     "iopub.status.idle": "2023-06-22T07:36:26.159369Z",
     "shell.execute_reply": "2023-06-22T07:36:26.158106Z"
    },
    "papermill": {
     "duration": 0.032188,
     "end_time": "2023-06-22T07:36:26.162157",
     "exception": false,
     "start_time": "2023-06-22T07:36:26.129969",
     "status": "completed"
    },
    "tags": []
   },
   "outputs": [],
   "source": [
    "#m - slope, b = y intercept\n",
    "class LinearRegressionFromScratch:\n",
    "    \n",
    "    def __init__(self):\n",
    "        self.m = None\n",
    "        self.b = None\n",
    "        \n",
    "    def fit(self, X_train, y_train):\n",
    "        num = 0 #numerator\n",
    "        den = 0 #denominator\n",
    "        \n",
    "        X_mean = X_train.mean()\n",
    "        y_mean = y_train.mean()\n",
    "        \n",
    "        for i in range(X_train.shape[0]):\n",
    "            num = num + ((X_train.iloc[i] - X_mean) * (y_train.iloc[i] - y_mean))\n",
    "            den = den + ((X_train.iloc[i] - X_mean) * (X_train.iloc[i] - X_mean))\n",
    "            \n",
    "        self.m = num/den\n",
    "        self.b = y_mean - (self.m * X_mean)\n",
    "        return self.m, self.b\n",
    "        \n",
    "    def predict(self, X_test):\n",
    "        y_pred = []\n",
    "        for i in range(X_test.shape[0]):\n",
    "            y_pred.append(self.m * X_test.iloc[i] + self.b)\n",
    "        return y_pred"
   ]
  },
  {
   "cell_type": "code",
   "execution_count": 26,
   "id": "db968e49",
   "metadata": {
    "execution": {
     "iopub.execute_input": "2023-06-22T07:36:26.199140Z",
     "iopub.status.busy": "2023-06-22T07:36:26.198706Z",
     "iopub.status.idle": "2023-06-22T07:36:26.204078Z",
     "shell.execute_reply": "2023-06-22T07:36:26.202954Z"
    },
    "papermill": {
     "duration": 0.026639,
     "end_time": "2023-06-22T07:36:26.206388",
     "exception": false,
     "start_time": "2023-06-22T07:36:26.179749",
     "status": "completed"
    },
    "tags": []
   },
   "outputs": [],
   "source": [
    "regressor = LinearRegressionFromScratch()"
   ]
  },
  {
   "cell_type": "code",
   "execution_count": 27,
   "id": "c4477025",
   "metadata": {
    "execution": {
     "iopub.execute_input": "2023-06-22T07:36:26.242766Z",
     "iopub.status.busy": "2023-06-22T07:36:26.242346Z",
     "iopub.status.idle": "2023-06-22T07:36:26.284608Z",
     "shell.execute_reply": "2023-06-22T07:36:26.283171Z"
    },
    "papermill": {
     "duration": 0.063553,
     "end_time": "2023-06-22T07:36:26.287228",
     "exception": false,
     "start_time": "2023-06-22T07:36:26.223675",
     "status": "completed"
    },
    "tags": []
   },
   "outputs": [],
   "source": [
    "m, b = regressor.fit(X_train, y_train)"
   ]
  },
  {
   "cell_type": "code",
   "execution_count": 28,
   "id": "cf62db39",
   "metadata": {
    "execution": {
     "iopub.execute_input": "2023-06-22T07:36:26.325079Z",
     "iopub.status.busy": "2023-06-22T07:36:26.324427Z",
     "iopub.status.idle": "2023-06-22T07:36:26.329878Z",
     "shell.execute_reply": "2023-06-22T07:36:26.329009Z"
    },
    "papermill": {
     "duration": 0.026873,
     "end_time": "2023-06-22T07:36:26.332339",
     "exception": false,
     "start_time": "2023-06-22T07:36:26.305466",
     "status": "completed"
    },
    "tags": []
   },
   "outputs": [
    {
     "name": "stdout",
     "output_type": "stream",
     "text": [
      "-0.05802125246595463\n"
     ]
    }
   ],
   "source": [
    "print(m)"
   ]
  },
  {
   "cell_type": "code",
   "execution_count": 29,
   "id": "48c96585",
   "metadata": {
    "execution": {
     "iopub.execute_input": "2023-06-22T07:36:26.369439Z",
     "iopub.status.busy": "2023-06-22T07:36:26.369038Z",
     "iopub.status.idle": "2023-06-22T07:36:26.374340Z",
     "shell.execute_reply": "2023-06-22T07:36:26.372900Z"
    },
    "papermill": {
     "duration": 0.026793,
     "end_time": "2023-06-22T07:36:26.376668",
     "exception": false,
     "start_time": "2023-06-22T07:36:26.349875",
     "status": "completed"
    },
    "tags": []
   },
   "outputs": [
    {
     "name": "stdout",
     "output_type": "stream",
     "text": [
      "34.492594500868606\n"
     ]
    }
   ],
   "source": [
    "print(b)"
   ]
  },
  {
   "cell_type": "code",
   "execution_count": 30,
   "id": "bfeef901",
   "metadata": {
    "execution": {
     "iopub.execute_input": "2023-06-22T07:36:26.414391Z",
     "iopub.status.busy": "2023-06-22T07:36:26.413961Z",
     "iopub.status.idle": "2023-06-22T07:36:26.422845Z",
     "shell.execute_reply": "2023-06-22T07:36:26.421889Z"
    },
    "papermill": {
     "duration": 0.030519,
     "end_time": "2023-06-22T07:36:26.425381",
     "exception": false,
     "start_time": "2023-06-22T07:36:26.394862",
     "status": "completed"
    },
    "tags": []
   },
   "outputs": [],
   "source": [
    "y_pred = regressor.predict(X_test)"
   ]
  },
  {
   "cell_type": "markdown",
   "id": "343fa510",
   "metadata": {
    "papermill": {
     "duration": 0.017134,
     "end_time": "2023-06-22T07:36:26.460052",
     "exception": false,
     "start_time": "2023-06-22T07:36:26.442918",
     "status": "completed"
    },
    "tags": []
   },
   "source": [
    "### R2 score"
   ]
  },
  {
   "cell_type": "code",
   "execution_count": 31,
   "id": "0334a25d",
   "metadata": {
    "execution": {
     "iopub.execute_input": "2023-06-22T07:36:26.497134Z",
     "iopub.status.busy": "2023-06-22T07:36:26.496392Z",
     "iopub.status.idle": "2023-06-22T07:36:26.504115Z",
     "shell.execute_reply": "2023-06-22T07:36:26.503227Z"
    },
    "papermill": {
     "duration": 0.028719,
     "end_time": "2023-06-22T07:36:26.506170",
     "exception": false,
     "start_time": "2023-06-22T07:36:26.477451",
     "status": "completed"
    },
    "tags": []
   },
   "outputs": [
    {
     "data": {
      "text/plain": [
       "0.28503057951651245"
      ]
     },
     "execution_count": 31,
     "metadata": {},
     "output_type": "execute_result"
    }
   ],
   "source": [
    "r2_score(y_test, y_pred)"
   ]
  },
  {
   "cell_type": "markdown",
   "id": "3be3cb0d",
   "metadata": {
    "papermill": {
     "duration": 0.017442,
     "end_time": "2023-06-22T07:36:26.542066",
     "exception": false,
     "start_time": "2023-06-22T07:36:26.524624",
     "status": "completed"
    },
    "tags": []
   },
   "source": [
    "### Best fit line"
   ]
  },
  {
   "cell_type": "code",
   "execution_count": 32,
   "id": "48c9cb67",
   "metadata": {
    "execution": {
     "iopub.execute_input": "2023-06-22T07:36:26.579297Z",
     "iopub.status.busy": "2023-06-22T07:36:26.578884Z",
     "iopub.status.idle": "2023-06-22T07:36:26.584034Z",
     "shell.execute_reply": "2023-06-22T07:36:26.583113Z"
    },
    "papermill": {
     "duration": 0.026588,
     "end_time": "2023-06-22T07:36:26.586257",
     "exception": false,
     "start_time": "2023-06-22T07:36:26.559669",
     "status": "completed"
    },
    "tags": []
   },
   "outputs": [],
   "source": [
    "x_input = np.linspace(0, 30, 500)\n",
    "y_input = m * x_input + b"
   ]
  },
  {
   "cell_type": "code",
   "execution_count": 33,
   "id": "f8e3e88f",
   "metadata": {
    "execution": {
     "iopub.execute_input": "2023-06-22T07:36:26.624518Z",
     "iopub.status.busy": "2023-06-22T07:36:26.624096Z",
     "iopub.status.idle": "2023-06-22T07:36:26.861063Z",
     "shell.execute_reply": "2023-06-22T07:36:26.859657Z"
    },
    "papermill": {
     "duration": 0.25883,
     "end_time": "2023-06-22T07:36:26.863382",
     "exception": false,
     "start_time": "2023-06-22T07:36:26.604552",
     "status": "completed"
    },
    "tags": []
   },
   "outputs": [
    {
     "data": {
      "image/png": "[encoded data removed]",
      "text/plain": [
       "<Figure size 640x480 with 1 Axes>"
      ]
     },
     "metadata": {},
     "output_type": "display_data"
    }
   ],
   "source": [
    "plt.scatter(x = X_train, y = y_train, alpha = 0.8)\n",
    "plt.plot(x_input, y_input, c = 'r')\n",
    "plt.xlabel('Water Temperature')\n",
    "plt.ylabel('Water Salinity')\n",
    "plt.show()"
   ]
  },
  {
   "cell_type": "markdown",
   "id": "30211f3c",
   "metadata": {
    "papermill": {
     "duration": 0.018225,
     "end_time": "2023-06-22T07:36:26.900858",
     "exception": false,
     "start_time": "2023-06-22T07:36:26.882633",
     "status": "completed"
    },
    "tags": []
   },
   "source": [
    "# Inference"
   ]
  },
  {
   "cell_type": "markdown",
   "id": "15f01ffa",
   "metadata": {
    "papermill": {
     "duration": 0.018845,
     "end_time": "2023-06-22T07:36:26.938005",
     "exception": false,
     "start_time": "2023-06-22T07:36:26.919160",
     "status": "completed"
    },
    "tags": []
   },
   "source": [
    "Sklearn uses the exact OLS method which we implemented to perform linear regression."
   ]
  }
 ],
 "metadata": {
  "kernelspec": {
   "display_name": "Python 3",
   "language": "python",
   "name": "python3"
  },
  "language_info": {
   "codemirror_mode": {
    "name": "ipython",
    "version": 3
   },
   "file_extension": ".py",
   "mimetype": "text/x-python",
   "name": "python",
   "nbconvert_exporter": "python",
   "pygments_lexer": "ipython3",
   "version": "3.10.10"
  },
  "papermill": {
   "default_parameters": {},
   "duration": 30.236861,
   "end_time": "2023-06-22T07:36:28.080169",
   "environment_variables": {},
   "exception": null,
   "input_path": "__notebook__.ipynb",
   "output_path": "__notebook__.ipynb",
   "parameters": {},
   "start_time": "2023-06-22T07:35:57.843308",
   "version": "2.4.0"
  }
 },
 "nbformat": 4,
 "nbformat_minor": 5
}
