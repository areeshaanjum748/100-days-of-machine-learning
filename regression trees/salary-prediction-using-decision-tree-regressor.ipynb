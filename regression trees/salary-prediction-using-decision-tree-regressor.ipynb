{
 "cells": [
  {
   "cell_type": "markdown",
   "id": "ed140147",
   "metadata": {
    "papermill": {
     "duration": 0.008752,
     "end_time": "2023-06-11T15:52:10.180178",
     "exception": false,
     "start_time": "2023-06-11T15:52:10.171426",
     "status": "completed"
    },
    "tags": []
   },
   "source": [
    "# Table of Content\n",
    "\n",
    "1. [Problem Statement](#1.)\n",
    "1. [Importing Libraries](#2.)\n",
    "1. [Dataset Description](#3.)\n",
    " * [Null values in the target variable](#3.1)  \n",
    "1. [Feature Selection](#4.)\n",
    "1. [Data Pre-processing](#5.)\n",
    "  * [Dropping null values in the target variable](#5.1)\n",
    "  * [Scaling features](#5.2) \n",
    "1. [Model Building & Evaluation](#6.)\n",
    "1. [Regression Tree](#7.)\n",
    "1. [Things tried](#8.)"
   ]
  },
  {
   "cell_type": "markdown",
   "id": "6869c2b1",
   "metadata": {
    "papermill": {
     "duration": 0.007771,
     "end_time": "2023-06-11T15:52:10.196704",
     "exception": false,
     "start_time": "2023-06-11T15:52:10.188933",
     "status": "completed"
    },
    "tags": []
   },
   "source": [
    "<a id=\"1.\"></a>\n",
    "# Problem Statement"
   ]
  },
  {
   "cell_type": "markdown",
   "id": "813bd331",
   "metadata": {
    "papermill": {
     "duration": 0.007674,
     "end_time": "2023-06-11T15:52:10.212396",
     "exception": false,
     "start_time": "2023-06-11T15:52:10.204722",
     "status": "completed"
    },
    "tags": []
   },
   "source": [
    "We need to predict the salaries of baseball players in 1987 using 1986th-year data.  \n",
    "Target variable - Salary"
   ]
  },
  {
   "cell_type": "markdown",
   "id": "f69ea5ef",
   "metadata": {
    "papermill": {
     "duration": 0.007726,
     "end_time": "2023-06-11T15:52:10.228157",
     "exception": false,
     "start_time": "2023-06-11T15:52:10.220431",
     "status": "completed"
    },
    "tags": []
   },
   "source": [
    "<a id=\"2.\"></a>\n",
    "# Importing Libraries"
   ]
  },
  {
   "cell_type": "code",
   "execution_count": 1,
   "id": "662b1f16",
   "metadata": {
    "execution": {
     "iopub.execute_input": "2023-06-11T15:52:10.247552Z",
     "iopub.status.busy": "2023-06-11T15:52:10.247150Z",
     "iopub.status.idle": "2023-06-11T15:52:12.231564Z",
     "shell.execute_reply": "2023-06-11T15:52:12.230217Z"
    },
    "papermill": {
     "duration": 1.99834,
     "end_time": "2023-06-11T15:52:12.234500",
     "exception": false,
     "start_time": "2023-06-11T15:52:10.236160",
     "status": "completed"
    },
    "tags": []
   },
   "outputs": [],
   "source": [
    "import numpy as np\n",
    "import pandas as pd\n",
    "\n",
    "import matplotlib.pyplot as plt\n",
    "\n",
    "from sklearn.model_selection import cross_val_score\n",
    "\n",
    "from sklearn.preprocessing import StandardScaler\n",
    "\n",
    "from sklearn.tree import DecisionTreeRegressor\n",
    "\n",
    "from sklearn import tree"
   ]
  },
  {
   "cell_type": "markdown",
   "id": "943dfc91",
   "metadata": {
    "papermill": {
     "duration": 0.008408,
     "end_time": "2023-06-11T15:52:12.251217",
     "exception": false,
     "start_time": "2023-06-11T15:52:12.242809",
     "status": "completed"
    },
    "tags": []
   },
   "source": [
    "<a id=\"3.\"></a>\n",
    "# Dataset Description"
   ]
  },
  {
   "cell_type": "code",
   "execution_count": 2,
   "id": "9110b622",
   "metadata": {
    "execution": {
     "iopub.execute_input": "2023-06-11T15:52:12.271431Z",
     "iopub.status.busy": "2023-06-11T15:52:12.270991Z",
     "iopub.status.idle": "2023-06-11T15:52:12.299322Z",
     "shell.execute_reply": "2023-06-11T15:52:12.298134Z"
    },
    "papermill": {
     "duration": 0.042927,
     "end_time": "2023-06-11T15:52:12.302311",
     "exception": false,
     "start_time": "2023-06-11T15:52:12.259384",
     "status": "completed"
    },
    "tags": []
   },
   "outputs": [],
   "source": [
    "df = pd.read_csv('/kaggle/input/hitters-baseball-data/Hitters.csv')"
   ]
  },
  {
   "cell_type": "code",
   "execution_count": 3,
   "id": "bef4c244",
   "metadata": {
    "execution": {
     "iopub.execute_input": "2023-06-11T15:52:12.321469Z",
     "iopub.status.busy": "2023-06-11T15:52:12.321081Z",
     "iopub.status.idle": "2023-06-11T15:52:12.361300Z",
     "shell.execute_reply": "2023-06-11T15:52:12.360040Z"
    },
    "papermill": {
     "duration": 0.052868,
     "end_time": "2023-06-11T15:52:12.363917",
     "exception": false,
     "start_time": "2023-06-11T15:52:12.311049",
     "status": "completed"
    },
    "tags": []
   },
   "outputs": [
    {
     "data": {
      "text/html": [
       "<div>\n",
       "<style scoped>\n",
       "    .dataframe tbody tr th:only-of-type {\n",
       "        vertical-align: middle;\n",
       "    }\n",
       "\n",
       "    .dataframe tbody tr th {\n",
       "        vertical-align: top;\n",
       "    }\n",
       "\n",
       "    .dataframe thead th {\n",
       "        text-align: right;\n",
       "    }\n",
       "</style>\n",
       "<table border=\"1\" class=\"dataframe\">\n",
       "  <thead>\n",
       "    <tr style=\"text-align: right;\">\n",
       "      <th></th>\n",
       "      <th>AtBat</th>\n",
       "      <th>Hits</th>\n",
       "      <th>HmRun</th>\n",
       "      <th>Runs</th>\n",
       "      <th>RBI</th>\n",
       "      <th>Walks</th>\n",
       "      <th>Years</th>\n",
       "      <th>CAtBat</th>\n",
       "      <th>CHits</th>\n",
       "      <th>CHmRun</th>\n",
       "      <th>CRuns</th>\n",
       "      <th>CRBI</th>\n",
       "      <th>CWalks</th>\n",
       "      <th>League</th>\n",
       "      <th>Division</th>\n",
       "      <th>PutOuts</th>\n",
       "      <th>Assists</th>\n",
       "      <th>Errors</th>\n",
       "      <th>Salary</th>\n",
       "      <th>NewLeague</th>\n",
       "    </tr>\n",
       "  </thead>\n",
       "  <tbody>\n",
       "    <tr>\n",
       "      <th>0</th>\n",
       "      <td>293</td>\n",
       "      <td>66</td>\n",
       "      <td>1</td>\n",
       "      <td>30</td>\n",
       "      <td>29</td>\n",
       "      <td>14</td>\n",
       "      <td>1</td>\n",
       "      <td>293</td>\n",
       "      <td>66</td>\n",
       "      <td>1</td>\n",
       "      <td>30</td>\n",
       "      <td>29</td>\n",
       "      <td>14</td>\n",
       "      <td>A</td>\n",
       "      <td>E</td>\n",
       "      <td>446</td>\n",
       "      <td>33</td>\n",
       "      <td>20</td>\n",
       "      <td>NaN</td>\n",
       "      <td>A</td>\n",
       "    </tr>\n",
       "    <tr>\n",
       "      <th>1</th>\n",
       "      <td>315</td>\n",
       "      <td>81</td>\n",
       "      <td>7</td>\n",
       "      <td>24</td>\n",
       "      <td>38</td>\n",
       "      <td>39</td>\n",
       "      <td>14</td>\n",
       "      <td>3449</td>\n",
       "      <td>835</td>\n",
       "      <td>69</td>\n",
       "      <td>321</td>\n",
       "      <td>414</td>\n",
       "      <td>375</td>\n",
       "      <td>N</td>\n",
       "      <td>W</td>\n",
       "      <td>632</td>\n",
       "      <td>43</td>\n",
       "      <td>10</td>\n",
       "      <td>475.0</td>\n",
       "      <td>N</td>\n",
       "    </tr>\n",
       "    <tr>\n",
       "      <th>2</th>\n",
       "      <td>479</td>\n",
       "      <td>130</td>\n",
       "      <td>18</td>\n",
       "      <td>66</td>\n",
       "      <td>72</td>\n",
       "      <td>76</td>\n",
       "      <td>3</td>\n",
       "      <td>1624</td>\n",
       "      <td>457</td>\n",
       "      <td>63</td>\n",
       "      <td>224</td>\n",
       "      <td>266</td>\n",
       "      <td>263</td>\n",
       "      <td>A</td>\n",
       "      <td>W</td>\n",
       "      <td>880</td>\n",
       "      <td>82</td>\n",
       "      <td>14</td>\n",
       "      <td>480.0</td>\n",
       "      <td>A</td>\n",
       "    </tr>\n",
       "    <tr>\n",
       "      <th>3</th>\n",
       "      <td>496</td>\n",
       "      <td>141</td>\n",
       "      <td>20</td>\n",
       "      <td>65</td>\n",
       "      <td>78</td>\n",
       "      <td>37</td>\n",
       "      <td>11</td>\n",
       "      <td>5628</td>\n",
       "      <td>1575</td>\n",
       "      <td>225</td>\n",
       "      <td>828</td>\n",
       "      <td>838</td>\n",
       "      <td>354</td>\n",
       "      <td>N</td>\n",
       "      <td>E</td>\n",
       "      <td>200</td>\n",
       "      <td>11</td>\n",
       "      <td>3</td>\n",
       "      <td>500.0</td>\n",
       "      <td>N</td>\n",
       "    </tr>\n",
       "    <tr>\n",
       "      <th>4</th>\n",
       "      <td>321</td>\n",
       "      <td>87</td>\n",
       "      <td>10</td>\n",
       "      <td>39</td>\n",
       "      <td>42</td>\n",
       "      <td>30</td>\n",
       "      <td>2</td>\n",
       "      <td>396</td>\n",
       "      <td>101</td>\n",
       "      <td>12</td>\n",
       "      <td>48</td>\n",
       "      <td>46</td>\n",
       "      <td>33</td>\n",
       "      <td>N</td>\n",
       "      <td>E</td>\n",
       "      <td>805</td>\n",
       "      <td>40</td>\n",
       "      <td>4</td>\n",
       "      <td>91.5</td>\n",
       "      <td>N</td>\n",
       "    </tr>\n",
       "  </tbody>\n",
       "</table>\n",
       "</div>"
      ],
      "text/plain": [
       "   AtBat  Hits  HmRun  Runs  RBI  Walks  Years  CAtBat  CHits  CHmRun  CRuns  \\\n",
       "0    293    66      1    30   29     14      1     293     66       1     30   \n",
       "1    315    81      7    24   38     39     14    3449    835      69    321   \n",
       "2    479   130     18    66   72     76      3    1624    457      63    224   \n",
       "3    496   141     20    65   78     37     11    5628   1575     225    828   \n",
       "4    321    87     10    39   42     30      2     396    101      12     48   \n",
       "\n",
       "   CRBI  CWalks League Division  PutOuts  Assists  Errors  Salary NewLeague  \n",
       "0    29      14      A        E      446       33      20     NaN         A  \n",
       "1   414     375      N        W      632       43      10   475.0         N  \n",
       "2   266     263      A        W      880       82      14   480.0         A  \n",
       "3   838     354      N        E      200       11       3   500.0         N  \n",
       "4    46      33      N        E      805       40       4    91.5         N  "
      ]
     },
     "execution_count": 3,
     "metadata": {},
     "output_type": "execute_result"
    }
   ],
   "source": [
    "df.head()"
   ]
  },
  {
   "cell_type": "code",
   "execution_count": 4,
   "id": "b894f550",
   "metadata": {
    "execution": {
     "iopub.execute_input": "2023-06-11T15:52:12.383450Z",
     "iopub.status.busy": "2023-06-11T15:52:12.383006Z",
     "iopub.status.idle": "2023-06-11T15:52:12.390799Z",
     "shell.execute_reply": "2023-06-11T15:52:12.389636Z"
    },
    "papermill": {
     "duration": 0.02082,
     "end_time": "2023-06-11T15:52:12.393372",
     "exception": false,
     "start_time": "2023-06-11T15:52:12.372552",
     "status": "completed"
    },
    "tags": []
   },
   "outputs": [
    {
     "data": {
      "text/plain": [
       "(322, 20)"
      ]
     },
     "execution_count": 4,
     "metadata": {},
     "output_type": "execute_result"
    }
   ],
   "source": [
    "df.shape"
   ]
  },
  {
   "cell_type": "code",
   "execution_count": 5,
   "id": "64c2266e",
   "metadata": {
    "execution": {
     "iopub.execute_input": "2023-06-11T15:52:12.412467Z",
     "iopub.status.busy": "2023-06-11T15:52:12.412081Z",
     "iopub.status.idle": "2023-06-11T15:52:12.444858Z",
     "shell.execute_reply": "2023-06-11T15:52:12.442591Z"
    },
    "papermill": {
     "duration": 0.045465,
     "end_time": "2023-06-11T15:52:12.447499",
     "exception": false,
     "start_time": "2023-06-11T15:52:12.402034",
     "status": "completed"
    },
    "tags": []
   },
   "outputs": [
    {
     "name": "stdout",
     "output_type": "stream",
     "text": [
      "<class 'pandas.core.frame.DataFrame'>\n",
      "RangeIndex: 322 entries, 0 to 321\n",
      "Data columns (total 20 columns):\n",
      " #   Column     Non-Null Count  Dtype  \n",
      "---  ------     --------------  -----  \n",
      " 0   AtBat      322 non-null    int64  \n",
      " 1   Hits       322 non-null    int64  \n",
      " 2   HmRun      322 non-null    int64  \n",
      " 3   Runs       322 non-null    int64  \n",
      " 4   RBI        322 non-null    int64  \n",
      " 5   Walks      322 non-null    int64  \n",
      " 6   Years      322 non-null    int64  \n",
      " 7   CAtBat     322 non-null    int64  \n",
      " 8   CHits      322 non-null    int64  \n",
      " 9   CHmRun     322 non-null    int64  \n",
      " 10  CRuns      322 non-null    int64  \n",
      " 11  CRBI       322 non-null    int64  \n",
      " 12  CWalks     322 non-null    int64  \n",
      " 13  League     322 non-null    object \n",
      " 14  Division   322 non-null    object \n",
      " 15  PutOuts    322 non-null    int64  \n",
      " 16  Assists    322 non-null    int64  \n",
      " 17  Errors     322 non-null    int64  \n",
      " 18  Salary     263 non-null    float64\n",
      " 19  NewLeague  322 non-null    object \n",
      "dtypes: float64(1), int64(16), object(3)\n",
      "memory usage: 50.4+ KB\n"
     ]
    }
   ],
   "source": [
    "df.info()"
   ]
  },
  {
   "cell_type": "code",
   "execution_count": 6,
   "id": "a93ea8a5",
   "metadata": {
    "execution": {
     "iopub.execute_input": "2023-06-11T15:52:12.466902Z",
     "iopub.status.busy": "2023-06-11T15:52:12.466430Z",
     "iopub.status.idle": "2023-06-11T15:52:12.534441Z",
     "shell.execute_reply": "2023-06-11T15:52:12.533236Z"
    },
    "papermill": {
     "duration": 0.08107,
     "end_time": "2023-06-11T15:52:12.537449",
     "exception": false,
     "start_time": "2023-06-11T15:52:12.456379",
     "status": "completed"
    },
    "tags": []
   },
   "outputs": [
    {
     "data": {
      "text/html": [
       "<div>\n",
       "<style scoped>\n",
       "    .dataframe tbody tr th:only-of-type {\n",
       "        vertical-align: middle;\n",
       "    }\n",
       "\n",
       "    .dataframe tbody tr th {\n",
       "        vertical-align: top;\n",
       "    }\n",
       "\n",
       "    .dataframe thead th {\n",
       "        text-align: right;\n",
       "    }\n",
       "</style>\n",
       "<table border=\"1\" class=\"dataframe\">\n",
       "  <thead>\n",
       "    <tr style=\"text-align: right;\">\n",
       "      <th></th>\n",
       "      <th>AtBat</th>\n",
       "      <th>Hits</th>\n",
       "      <th>HmRun</th>\n",
       "      <th>Runs</th>\n",
       "      <th>RBI</th>\n",
       "      <th>Walks</th>\n",
       "      <th>Years</th>\n",
       "      <th>CAtBat</th>\n",
       "      <th>CHits</th>\n",
       "      <th>CHmRun</th>\n",
       "      <th>CRuns</th>\n",
       "      <th>CRBI</th>\n",
       "      <th>CWalks</th>\n",
       "      <th>PutOuts</th>\n",
       "      <th>Assists</th>\n",
       "      <th>Errors</th>\n",
       "      <th>Salary</th>\n",
       "    </tr>\n",
       "  </thead>\n",
       "  <tbody>\n",
       "    <tr>\n",
       "      <th>count</th>\n",
       "      <td>322.000000</td>\n",
       "      <td>322.000000</td>\n",
       "      <td>322.000000</td>\n",
       "      <td>322.000000</td>\n",
       "      <td>322.000000</td>\n",
       "      <td>322.000000</td>\n",
       "      <td>322.000000</td>\n",
       "      <td>322.00000</td>\n",
       "      <td>322.000000</td>\n",
       "      <td>322.000000</td>\n",
       "      <td>322.000000</td>\n",
       "      <td>322.000000</td>\n",
       "      <td>322.000000</td>\n",
       "      <td>322.000000</td>\n",
       "      <td>322.000000</td>\n",
       "      <td>322.000000</td>\n",
       "      <td>263.000000</td>\n",
       "    </tr>\n",
       "    <tr>\n",
       "      <th>mean</th>\n",
       "      <td>380.928571</td>\n",
       "      <td>101.024845</td>\n",
       "      <td>10.770186</td>\n",
       "      <td>50.909938</td>\n",
       "      <td>48.027950</td>\n",
       "      <td>38.742236</td>\n",
       "      <td>7.444099</td>\n",
       "      <td>2648.68323</td>\n",
       "      <td>717.571429</td>\n",
       "      <td>69.490683</td>\n",
       "      <td>358.795031</td>\n",
       "      <td>330.118012</td>\n",
       "      <td>260.239130</td>\n",
       "      <td>288.937888</td>\n",
       "      <td>106.913043</td>\n",
       "      <td>8.040373</td>\n",
       "      <td>535.925882</td>\n",
       "    </tr>\n",
       "    <tr>\n",
       "      <th>std</th>\n",
       "      <td>153.404981</td>\n",
       "      <td>46.454741</td>\n",
       "      <td>8.709037</td>\n",
       "      <td>26.024095</td>\n",
       "      <td>26.166895</td>\n",
       "      <td>21.639327</td>\n",
       "      <td>4.926087</td>\n",
       "      <td>2324.20587</td>\n",
       "      <td>654.472627</td>\n",
       "      <td>86.266061</td>\n",
       "      <td>334.105886</td>\n",
       "      <td>333.219617</td>\n",
       "      <td>267.058085</td>\n",
       "      <td>280.704614</td>\n",
       "      <td>136.854876</td>\n",
       "      <td>6.368359</td>\n",
       "      <td>451.118681</td>\n",
       "    </tr>\n",
       "    <tr>\n",
       "      <th>min</th>\n",
       "      <td>16.000000</td>\n",
       "      <td>1.000000</td>\n",
       "      <td>0.000000</td>\n",
       "      <td>0.000000</td>\n",
       "      <td>0.000000</td>\n",
       "      <td>0.000000</td>\n",
       "      <td>1.000000</td>\n",
       "      <td>19.00000</td>\n",
       "      <td>4.000000</td>\n",
       "      <td>0.000000</td>\n",
       "      <td>1.000000</td>\n",
       "      <td>0.000000</td>\n",
       "      <td>0.000000</td>\n",
       "      <td>0.000000</td>\n",
       "      <td>0.000000</td>\n",
       "      <td>0.000000</td>\n",
       "      <td>67.500000</td>\n",
       "    </tr>\n",
       "    <tr>\n",
       "      <th>25%</th>\n",
       "      <td>255.250000</td>\n",
       "      <td>64.000000</td>\n",
       "      <td>4.000000</td>\n",
       "      <td>30.250000</td>\n",
       "      <td>28.000000</td>\n",
       "      <td>22.000000</td>\n",
       "      <td>4.000000</td>\n",
       "      <td>816.75000</td>\n",
       "      <td>209.000000</td>\n",
       "      <td>14.000000</td>\n",
       "      <td>100.250000</td>\n",
       "      <td>88.750000</td>\n",
       "      <td>67.250000</td>\n",
       "      <td>109.250000</td>\n",
       "      <td>7.000000</td>\n",
       "      <td>3.000000</td>\n",
       "      <td>190.000000</td>\n",
       "    </tr>\n",
       "    <tr>\n",
       "      <th>50%</th>\n",
       "      <td>379.500000</td>\n",
       "      <td>96.000000</td>\n",
       "      <td>8.000000</td>\n",
       "      <td>48.000000</td>\n",
       "      <td>44.000000</td>\n",
       "      <td>35.000000</td>\n",
       "      <td>6.000000</td>\n",
       "      <td>1928.00000</td>\n",
       "      <td>508.000000</td>\n",
       "      <td>37.500000</td>\n",
       "      <td>247.000000</td>\n",
       "      <td>220.500000</td>\n",
       "      <td>170.500000</td>\n",
       "      <td>212.000000</td>\n",
       "      <td>39.500000</td>\n",
       "      <td>6.000000</td>\n",
       "      <td>425.000000</td>\n",
       "    </tr>\n",
       "    <tr>\n",
       "      <th>75%</th>\n",
       "      <td>512.000000</td>\n",
       "      <td>137.000000</td>\n",
       "      <td>16.000000</td>\n",
       "      <td>69.000000</td>\n",
       "      <td>64.750000</td>\n",
       "      <td>53.000000</td>\n",
       "      <td>11.000000</td>\n",
       "      <td>3924.25000</td>\n",
       "      <td>1059.250000</td>\n",
       "      <td>90.000000</td>\n",
       "      <td>526.250000</td>\n",
       "      <td>426.250000</td>\n",
       "      <td>339.250000</td>\n",
       "      <td>325.000000</td>\n",
       "      <td>166.000000</td>\n",
       "      <td>11.000000</td>\n",
       "      <td>750.000000</td>\n",
       "    </tr>\n",
       "    <tr>\n",
       "      <th>max</th>\n",
       "      <td>687.000000</td>\n",
       "      <td>238.000000</td>\n",
       "      <td>40.000000</td>\n",
       "      <td>130.000000</td>\n",
       "      <td>121.000000</td>\n",
       "      <td>105.000000</td>\n",
       "      <td>24.000000</td>\n",
       "      <td>14053.00000</td>\n",
       "      <td>4256.000000</td>\n",
       "      <td>548.000000</td>\n",
       "      <td>2165.000000</td>\n",
       "      <td>1659.000000</td>\n",
       "      <td>1566.000000</td>\n",
       "      <td>1378.000000</td>\n",
       "      <td>492.000000</td>\n",
       "      <td>32.000000</td>\n",
       "      <td>2460.000000</td>\n",
       "    </tr>\n",
       "  </tbody>\n",
       "</table>\n",
       "</div>"
      ],
      "text/plain": [
       "            AtBat        Hits       HmRun        Runs         RBI       Walks  \\\n",
       "count  322.000000  322.000000  322.000000  322.000000  322.000000  322.000000   \n",
       "mean   380.928571  101.024845   10.770186   50.909938   48.027950   38.742236   \n",
       "std    153.404981   46.454741    8.709037   26.024095   26.166895   21.639327   \n",
       "min     16.000000    1.000000    0.000000    0.000000    0.000000    0.000000   \n",
       "25%    255.250000   64.000000    4.000000   30.250000   28.000000   22.000000   \n",
       "50%    379.500000   96.000000    8.000000   48.000000   44.000000   35.000000   \n",
       "75%    512.000000  137.000000   16.000000   69.000000   64.750000   53.000000   \n",
       "max    687.000000  238.000000   40.000000  130.000000  121.000000  105.000000   \n",
       "\n",
       "            Years       CAtBat        CHits      CHmRun        CRuns  \\\n",
       "count  322.000000    322.00000   322.000000  322.000000   322.000000   \n",
       "mean     7.444099   2648.68323   717.571429   69.490683   358.795031   \n",
       "std      4.926087   2324.20587   654.472627   86.266061   334.105886   \n",
       "min      1.000000     19.00000     4.000000    0.000000     1.000000   \n",
       "25%      4.000000    816.75000   209.000000   14.000000   100.250000   \n",
       "50%      6.000000   1928.00000   508.000000   37.500000   247.000000   \n",
       "75%     11.000000   3924.25000  1059.250000   90.000000   526.250000   \n",
       "max     24.000000  14053.00000  4256.000000  548.000000  2165.000000   \n",
       "\n",
       "              CRBI       CWalks      PutOuts     Assists      Errors  \\\n",
       "count   322.000000   322.000000   322.000000  322.000000  322.000000   \n",
       "mean    330.118012   260.239130   288.937888  106.913043    8.040373   \n",
       "std     333.219617   267.058085   280.704614  136.854876    6.368359   \n",
       "min       0.000000     0.000000     0.000000    0.000000    0.000000   \n",
       "25%      88.750000    67.250000   109.250000    7.000000    3.000000   \n",
       "50%     220.500000   170.500000   212.000000   39.500000    6.000000   \n",
       "75%     426.250000   339.250000   325.000000  166.000000   11.000000   \n",
       "max    1659.000000  1566.000000  1378.000000  492.000000   32.000000   \n",
       "\n",
       "            Salary  \n",
       "count   263.000000  \n",
       "mean    535.925882  \n",
       "std     451.118681  \n",
       "min      67.500000  \n",
       "25%     190.000000  \n",
       "50%     425.000000  \n",
       "75%     750.000000  \n",
       "max    2460.000000  "
      ]
     },
     "execution_count": 6,
     "metadata": {},
     "output_type": "execute_result"
    }
   ],
   "source": [
    "df.describe()"
   ]
  },
  {
   "cell_type": "markdown",
   "id": "177b4d30",
   "metadata": {
    "papermill": {
     "duration": 0.009033,
     "end_time": "2023-06-11T15:52:12.555925",
     "exception": false,
     "start_time": "2023-06-11T15:52:12.546892",
     "status": "completed"
    },
    "tags": []
   },
   "source": [
    "<a id=\"3.1\"></a>\n",
    "#### Null values in the target variable"
   ]
  },
  {
   "cell_type": "code",
   "execution_count": 7,
   "id": "0ba0279d",
   "metadata": {
    "execution": {
     "iopub.execute_input": "2023-06-11T15:52:12.576438Z",
     "iopub.status.busy": "2023-06-11T15:52:12.576011Z",
     "iopub.status.idle": "2023-06-11T15:52:12.583925Z",
     "shell.execute_reply": "2023-06-11T15:52:12.582725Z"
    },
    "papermill": {
     "duration": 0.021535,
     "end_time": "2023-06-11T15:52:12.586630",
     "exception": false,
     "start_time": "2023-06-11T15:52:12.565095",
     "status": "completed"
    },
    "tags": []
   },
   "outputs": [
    {
     "data": {
      "text/plain": [
       "18.32298136645963"
      ]
     },
     "execution_count": 7,
     "metadata": {},
     "output_type": "execute_result"
    }
   ],
   "source": [
    "#percentage of missing values in target variable\n",
    "df['Salary'].isna().sum()/len(df) * 100"
   ]
  },
  {
   "cell_type": "markdown",
   "id": "bf08277e",
   "metadata": {
    "papermill": {
     "duration": 0.009141,
     "end_time": "2023-06-11T15:52:12.605247",
     "exception": false,
     "start_time": "2023-06-11T15:52:12.596106",
     "status": "completed"
    },
    "tags": []
   },
   "source": [
    "<a id=\"4.\"></a>\n",
    "# Feature Selection"
   ]
  },
  {
   "cell_type": "markdown",
   "id": "23c51499",
   "metadata": {
    "papermill": {
     "duration": 0.009576,
     "end_time": "2023-06-11T15:52:12.624103",
     "exception": false,
     "start_time": "2023-06-11T15:52:12.614527",
     "status": "completed"
    },
    "tags": []
   },
   "source": [
    "Selecting few features which I think is important for salary prediction since the goal of this notebook is to understand regression trees."
   ]
  },
  {
   "cell_type": "code",
   "execution_count": 8,
   "id": "bbda3233",
   "metadata": {
    "execution": {
     "iopub.execute_input": "2023-06-11T15:52:12.645078Z",
     "iopub.status.busy": "2023-06-11T15:52:12.644646Z",
     "iopub.status.idle": "2023-06-11T15:52:12.650052Z",
     "shell.execute_reply": "2023-06-11T15:52:12.648508Z"
    },
    "papermill": {
     "duration": 0.019034,
     "end_time": "2023-06-11T15:52:12.652605",
     "exception": false,
     "start_time": "2023-06-11T15:52:12.633571",
     "status": "completed"
    },
    "tags": []
   },
   "outputs": [],
   "source": [
    "features = ['Years', 'Hits', 'Runs', 'RBI','Walks','PutOuts', 'Salary']"
   ]
  },
  {
   "cell_type": "code",
   "execution_count": 9,
   "id": "5c1f9cc9",
   "metadata": {
    "execution": {
     "iopub.execute_input": "2023-06-11T15:52:12.673043Z",
     "iopub.status.busy": "2023-06-11T15:52:12.672597Z",
     "iopub.status.idle": "2023-06-11T15:52:12.691905Z",
     "shell.execute_reply": "2023-06-11T15:52:12.690673Z"
    },
    "papermill": {
     "duration": 0.032532,
     "end_time": "2023-06-11T15:52:12.694474",
     "exception": false,
     "start_time": "2023-06-11T15:52:12.661942",
     "status": "completed"
    },
    "tags": []
   },
   "outputs": [
    {
     "data": {
      "text/html": [
       "<div>\n",
       "<style scoped>\n",
       "    .dataframe tbody tr th:only-of-type {\n",
       "        vertical-align: middle;\n",
       "    }\n",
       "\n",
       "    .dataframe tbody tr th {\n",
       "        vertical-align: top;\n",
       "    }\n",
       "\n",
       "    .dataframe thead th {\n",
       "        text-align: right;\n",
       "    }\n",
       "</style>\n",
       "<table border=\"1\" class=\"dataframe\">\n",
       "  <thead>\n",
       "    <tr style=\"text-align: right;\">\n",
       "      <th></th>\n",
       "      <th>Years</th>\n",
       "      <th>Hits</th>\n",
       "      <th>Runs</th>\n",
       "      <th>RBI</th>\n",
       "      <th>Walks</th>\n",
       "      <th>PutOuts</th>\n",
       "      <th>Salary</th>\n",
       "    </tr>\n",
       "  </thead>\n",
       "  <tbody>\n",
       "    <tr>\n",
       "      <th>0</th>\n",
       "      <td>1</td>\n",
       "      <td>66</td>\n",
       "      <td>30</td>\n",
       "      <td>29</td>\n",
       "      <td>14</td>\n",
       "      <td>446</td>\n",
       "      <td>NaN</td>\n",
       "    </tr>\n",
       "    <tr>\n",
       "      <th>1</th>\n",
       "      <td>14</td>\n",
       "      <td>81</td>\n",
       "      <td>24</td>\n",
       "      <td>38</td>\n",
       "      <td>39</td>\n",
       "      <td>632</td>\n",
       "      <td>475.0</td>\n",
       "    </tr>\n",
       "    <tr>\n",
       "      <th>2</th>\n",
       "      <td>3</td>\n",
       "      <td>130</td>\n",
       "      <td>66</td>\n",
       "      <td>72</td>\n",
       "      <td>76</td>\n",
       "      <td>880</td>\n",
       "      <td>480.0</td>\n",
       "    </tr>\n",
       "    <tr>\n",
       "      <th>3</th>\n",
       "      <td>11</td>\n",
       "      <td>141</td>\n",
       "      <td>65</td>\n",
       "      <td>78</td>\n",
       "      <td>37</td>\n",
       "      <td>200</td>\n",
       "      <td>500.0</td>\n",
       "    </tr>\n",
       "    <tr>\n",
       "      <th>4</th>\n",
       "      <td>2</td>\n",
       "      <td>87</td>\n",
       "      <td>39</td>\n",
       "      <td>42</td>\n",
       "      <td>30</td>\n",
       "      <td>805</td>\n",
       "      <td>91.5</td>\n",
       "    </tr>\n",
       "    <tr>\n",
       "      <th>...</th>\n",
       "      <td>...</td>\n",
       "      <td>...</td>\n",
       "      <td>...</td>\n",
       "      <td>...</td>\n",
       "      <td>...</td>\n",
       "      <td>...</td>\n",
       "      <td>...</td>\n",
       "    </tr>\n",
       "    <tr>\n",
       "      <th>317</th>\n",
       "      <td>5</td>\n",
       "      <td>127</td>\n",
       "      <td>65</td>\n",
       "      <td>48</td>\n",
       "      <td>37</td>\n",
       "      <td>325</td>\n",
       "      <td>700.0</td>\n",
       "    </tr>\n",
       "    <tr>\n",
       "      <th>318</th>\n",
       "      <td>12</td>\n",
       "      <td>136</td>\n",
       "      <td>76</td>\n",
       "      <td>50</td>\n",
       "      <td>94</td>\n",
       "      <td>313</td>\n",
       "      <td>875.0</td>\n",
       "    </tr>\n",
       "    <tr>\n",
       "      <th>319</th>\n",
       "      <td>6</td>\n",
       "      <td>126</td>\n",
       "      <td>61</td>\n",
       "      <td>43</td>\n",
       "      <td>52</td>\n",
       "      <td>37</td>\n",
       "      <td>385.0</td>\n",
       "    </tr>\n",
       "    <tr>\n",
       "      <th>320</th>\n",
       "      <td>8</td>\n",
       "      <td>144</td>\n",
       "      <td>85</td>\n",
       "      <td>60</td>\n",
       "      <td>78</td>\n",
       "      <td>1314</td>\n",
       "      <td>960.0</td>\n",
       "    </tr>\n",
       "    <tr>\n",
       "      <th>321</th>\n",
       "      <td>11</td>\n",
       "      <td>170</td>\n",
       "      <td>77</td>\n",
       "      <td>44</td>\n",
       "      <td>31</td>\n",
       "      <td>408</td>\n",
       "      <td>1000.0</td>\n",
       "    </tr>\n",
       "  </tbody>\n",
       "</table>\n",
       "<p>322 rows × 7 columns</p>\n",
       "</div>"
      ],
      "text/plain": [
       "     Years  Hits  Runs  RBI  Walks  PutOuts  Salary\n",
       "0        1    66    30   29     14      446     NaN\n",
       "1       14    81    24   38     39      632   475.0\n",
       "2        3   130    66   72     76      880   480.0\n",
       "3       11   141    65   78     37      200   500.0\n",
       "4        2    87    39   42     30      805    91.5\n",
       "..     ...   ...   ...  ...    ...      ...     ...\n",
       "317      5   127    65   48     37      325   700.0\n",
       "318     12   136    76   50     94      313   875.0\n",
       "319      6   126    61   43     52       37   385.0\n",
       "320      8   144    85   60     78     1314   960.0\n",
       "321     11   170    77   44     31      408  1000.0\n",
       "\n",
       "[322 rows x 7 columns]"
      ]
     },
     "execution_count": 9,
     "metadata": {},
     "output_type": "execute_result"
    }
   ],
   "source": [
    "new_df = df[features]\n",
    "new_df"
   ]
  },
  {
   "cell_type": "markdown",
   "id": "ada9cefd",
   "metadata": {
    "papermill": {
     "duration": 0.009722,
     "end_time": "2023-06-11T15:52:12.714244",
     "exception": false,
     "start_time": "2023-06-11T15:52:12.704522",
     "status": "completed"
    },
    "tags": []
   },
   "source": [
    "<a id=\"5.\"></a>\n",
    "# Data Pre-processing"
   ]
  },
  {
   "cell_type": "markdown",
   "id": "360e2bbf",
   "metadata": {
    "papermill": {
     "duration": 0.00949,
     "end_time": "2023-06-11T15:52:12.733793",
     "exception": false,
     "start_time": "2023-06-11T15:52:12.724303",
     "status": "completed"
    },
    "tags": []
   },
   "source": [
    "<a id=\"5.1\"></a>\n",
    "#### Dropping null values in the target variable"
   ]
  },
  {
   "cell_type": "code",
   "execution_count": 10,
   "id": "81ba0612",
   "metadata": {
    "execution": {
     "iopub.execute_input": "2023-06-11T15:52:12.755659Z",
     "iopub.status.busy": "2023-06-11T15:52:12.755224Z",
     "iopub.status.idle": "2023-06-11T15:52:12.762335Z",
     "shell.execute_reply": "2023-06-11T15:52:12.761141Z"
    },
    "papermill": {
     "duration": 0.021494,
     "end_time": "2023-06-11T15:52:12.765252",
     "exception": false,
     "start_time": "2023-06-11T15:52:12.743758",
     "status": "completed"
    },
    "tags": []
   },
   "outputs": [
    {
     "name": "stderr",
     "output_type": "stream",
     "text": [
      "/tmp/ipykernel_20/117842389.py:1: SettingWithCopyWarning: \n",
      "A value is trying to be set on a copy of a slice from a DataFrame\n",
      "\n",
      "See the caveats in the documentation: https://pandas.pydata.org/pandas-docs/stable/user_guide/indexing.html#returning-a-view-versus-a-copy\n",
      "  new_df.dropna(inplace = True)\n"
     ]
    }
   ],
   "source": [
    "new_df.dropna(inplace = True)"
   ]
  },
  {
   "cell_type": "code",
   "execution_count": 11,
   "id": "bada63b9",
   "metadata": {
    "execution": {
     "iopub.execute_input": "2023-06-11T15:52:12.787961Z",
     "iopub.status.busy": "2023-06-11T15:52:12.787561Z",
     "iopub.status.idle": "2023-06-11T15:52:12.794069Z",
     "shell.execute_reply": "2023-06-11T15:52:12.792828Z"
    },
    "papermill": {
     "duration": 0.021044,
     "end_time": "2023-06-11T15:52:12.796606",
     "exception": false,
     "start_time": "2023-06-11T15:52:12.775562",
     "status": "completed"
    },
    "tags": []
   },
   "outputs": [],
   "source": [
    "X = new_df.drop(['Salary'], axis = 1)\n",
    "y = new_df['Salary']"
   ]
  },
  {
   "cell_type": "markdown",
   "id": "6d0d6df5",
   "metadata": {
    "papermill": {
     "duration": 0.009752,
     "end_time": "2023-06-11T15:52:12.816906",
     "exception": false,
     "start_time": "2023-06-11T15:52:12.807154",
     "status": "completed"
    },
    "tags": []
   },
   "source": [
    "<a id=\"5.2\"></a>\n",
    "#### Scaling features"
   ]
  },
  {
   "cell_type": "code",
   "execution_count": 12,
   "id": "72c39359",
   "metadata": {
    "execution": {
     "iopub.execute_input": "2023-06-11T15:52:12.839389Z",
     "iopub.status.busy": "2023-06-11T15:52:12.838913Z",
     "iopub.status.idle": "2023-06-11T15:52:12.851182Z",
     "shell.execute_reply": "2023-06-11T15:52:12.849969Z"
    },
    "papermill": {
     "duration": 0.026848,
     "end_time": "2023-06-11T15:52:12.853725",
     "exception": false,
     "start_time": "2023-06-11T15:52:12.826877",
     "status": "completed"
    },
    "tags": []
   },
   "outputs": [],
   "source": [
    "scaler = StandardScaler()\n",
    "X[['Years', 'Hits', 'Runs', 'RBI','Walks','PutOuts']] = scaler.fit_transform(X[['Years', 'Hits', 'Runs', 'RBI','Walks','PutOuts']])"
   ]
  },
  {
   "cell_type": "markdown",
   "id": "78ed293f",
   "metadata": {
    "papermill": {
     "duration": 0.009808,
     "end_time": "2023-06-11T15:52:12.873586",
     "exception": false,
     "start_time": "2023-06-11T15:52:12.863778",
     "status": "completed"
    },
    "tags": []
   },
   "source": [
    "<a id=\"6.\"></a>\n",
    "# Model Building & Evaluation"
   ]
  },
  {
   "cell_type": "code",
   "execution_count": 13,
   "id": "4ad66c51",
   "metadata": {
    "execution": {
     "iopub.execute_input": "2023-06-11T15:52:12.895771Z",
     "iopub.status.busy": "2023-06-11T15:52:12.895327Z",
     "iopub.status.idle": "2023-06-11T15:52:13.442598Z",
     "shell.execute_reply": "2023-06-11T15:52:13.441505Z"
    },
    "papermill": {
     "duration": 0.561313,
     "end_time": "2023-06-11T15:52:13.445013",
     "exception": false,
     "start_time": "2023-06-11T15:52:12.883700",
     "status": "completed"
    },
    "tags": []
   },
   "outputs": [
    {
     "name": "stdout",
     "output_type": "stream",
     "text": [
      "best r2 score  0.3462279955113515 is achieved with depth  2\n"
     ]
    },
    {
     "data": {
      "text/html": [
       "<style>#sk-container-id-1 {color: black;background-color: white;}#sk-container-id-1 pre{padding: 0;}#sk-container-id-1 div.sk-toggleable {background-color: white;}#sk-container-id-1 label.sk-toggleable__label {cursor: pointer;display: block;width: 100%;margin-bottom: 0;padding: 0.3em;box-sizing: border-box;text-align: center;}#sk-container-id-1 label.sk-toggleable__label-arrow:before {content: \"▸\";float: left;margin-right: 0.25em;color: #696969;}#sk-container-id-1 label.sk-toggleable__label-arrow:hover:before {color: black;}#sk-container-id-1 div.sk-estimator:hover label.sk-toggleable__label-arrow:before {color: black;}#sk-container-id-1 div.sk-toggleable__content {max-height: 0;max-width: 0;overflow: hidden;text-align: left;background-color: #f0f8ff;}#sk-container-id-1 div.sk-toggleable__content pre {margin: 0.2em;color: black;border-radius: 0.25em;background-color: #f0f8ff;}#sk-container-id-1 input.sk-toggleable__control:checked~div.sk-toggleable__content {max-height: 200px;max-width: 100%;overflow: auto;}#sk-container-id-1 input.sk-toggleable__control:checked~label.sk-toggleable__label-arrow:before {content: \"▾\";}#sk-container-id-1 div.sk-estimator input.sk-toggleable__control:checked~label.sk-toggleable__label {background-color: #d4ebff;}#sk-container-id-1 div.sk-label input.sk-toggleable__control:checked~label.sk-toggleable__label {background-color: #d4ebff;}#sk-container-id-1 input.sk-hidden--visually {border: 0;clip: rect(1px 1px 1px 1px);clip: rect(1px, 1px, 1px, 1px);height: 1px;margin: -1px;overflow: hidden;padding: 0;position: absolute;width: 1px;}#sk-container-id-1 div.sk-estimator {font-family: monospace;background-color: #f0f8ff;border: 1px dotted black;border-radius: 0.25em;box-sizing: border-box;margin-bottom: 0.5em;}#sk-container-id-1 div.sk-estimator:hover {background-color: #d4ebff;}#sk-container-id-1 div.sk-parallel-item::after {content: \"\";width: 100%;border-bottom: 1px solid gray;flex-grow: 1;}#sk-container-id-1 div.sk-label:hover label.sk-toggleable__label {background-color: #d4ebff;}#sk-container-id-1 div.sk-serial::before {content: \"\";position: absolute;border-left: 1px solid gray;box-sizing: border-box;top: 0;bottom: 0;left: 50%;z-index: 0;}#sk-container-id-1 div.sk-serial {display: flex;flex-direction: column;align-items: center;background-color: white;padding-right: 0.2em;padding-left: 0.2em;position: relative;}#sk-container-id-1 div.sk-item {position: relative;z-index: 1;}#sk-container-id-1 div.sk-parallel {display: flex;align-items: stretch;justify-content: center;background-color: white;position: relative;}#sk-container-id-1 div.sk-item::before, #sk-container-id-1 div.sk-parallel-item::before {content: \"\";position: absolute;border-left: 1px solid gray;box-sizing: border-box;top: 0;bottom: 0;left: 50%;z-index: -1;}#sk-container-id-1 div.sk-parallel-item {display: flex;flex-direction: column;z-index: 1;position: relative;background-color: white;}#sk-container-id-1 div.sk-parallel-item:first-child::after {align-self: flex-end;width: 50%;}#sk-container-id-1 div.sk-parallel-item:last-child::after {align-self: flex-start;width: 50%;}#sk-container-id-1 div.sk-parallel-item:only-child::after {width: 0;}#sk-container-id-1 div.sk-dashed-wrapped {border: 1px dashed gray;margin: 0 0.4em 0.5em 0.4em;box-sizing: border-box;padding-bottom: 0.4em;background-color: white;}#sk-container-id-1 div.sk-label label {font-family: monospace;font-weight: bold;display: inline-block;line-height: 1.2em;}#sk-container-id-1 div.sk-label-container {text-align: center;}#sk-container-id-1 div.sk-container {/* jupyter's `normalize.less` sets `[hidden] { display: none; }` but bootstrap.min.css set `[hidden] { display: none !important; }` so we also need the `!important` here to be able to override the default hidden behavior on the sphinx rendered scikit-learn.org. See: https://github.com/scikit-learn/scikit-learn/issues/21755 */display: inline-block !important;position: relative;}#sk-container-id-1 div.sk-text-repr-fallback {display: none;}</style><div id=\"sk-container-id-1\" class=\"sk-top-container\"><div class=\"sk-text-repr-fallback\"><pre>DecisionTreeRegressor(max_depth=2)</pre><b>In a Jupyter environment, please rerun this cell to show the HTML representation or trust the notebook. <br />On GitHub, the HTML representation is unable to render, please try loading this page with nbviewer.org.</b></div><div class=\"sk-container\" hidden><div class=\"sk-item\"><div class=\"sk-estimator sk-toggleable\"><input class=\"sk-toggleable__control sk-hidden--visually\" id=\"sk-estimator-id-1\" type=\"checkbox\" checked><label for=\"sk-estimator-id-1\" class=\"sk-toggleable__label sk-toggleable__label-arrow\">DecisionTreeRegressor</label><div class=\"sk-toggleable__content\"><pre>DecisionTreeRegressor(max_depth=2)</pre></div></div></div></div></div>"
      ],
      "text/plain": [
       "DecisionTreeRegressor(max_depth=2)"
      ]
     },
     "execution_count": 13,
     "metadata": {},
     "output_type": "execute_result"
    }
   ],
   "source": [
    "max_score = 0\n",
    "best_depth = 0\n",
    "for depth in range(1, 21):\n",
    "    dt_regressor = DecisionTreeRegressor(max_depth = depth)\n",
    "    scores = cross_val_score(dt_regressor, X, y, cv = 5)\n",
    "    mean_score = scores.mean()\n",
    "    if max_score < mean_score:\n",
    "        max_score = mean_score\n",
    "        best_depth = depth\n",
    "print('best r2 score ', max_score ,'is achieved with depth ', best_depth)\n",
    "dt_regressor = DecisionTreeRegressor(max_depth = best_depth)\n",
    "dt_regressor.fit(X, y)"
   ]
  },
  {
   "cell_type": "markdown",
   "id": "884f5c83",
   "metadata": {
    "papermill": {
     "duration": 0.010535,
     "end_time": "2023-06-11T15:52:13.465726",
     "exception": false,
     "start_time": "2023-06-11T15:52:13.455191",
     "status": "completed"
    },
    "tags": []
   },
   "source": [
    "<a id=\"7.\"></a>\n",
    "# Regression Tree"
   ]
  },
  {
   "cell_type": "code",
   "execution_count": 14,
   "id": "73f2c119",
   "metadata": {
    "execution": {
     "iopub.execute_input": "2023-06-11T15:52:13.487863Z",
     "iopub.status.busy": "2023-06-11T15:52:13.487423Z",
     "iopub.status.idle": "2023-06-11T15:52:14.279237Z",
     "shell.execute_reply": "2023-06-11T15:52:14.277962Z"
    },
    "papermill": {
     "duration": 0.80702,
     "end_time": "2023-06-11T15:52:14.282937",
     "exception": false,
     "start_time": "2023-06-11T15:52:13.475917",
     "status": "completed"
    },
    "tags": []
   },
   "outputs": [
    {
     "data": {
      "image/png": "[encoded data removed]",
      "text/plain": [
       "<Figure size 2500x2000 with 1 Axes>"
      ]
     },
     "metadata": {},
     "output_type": "display_data"
    }
   ],
   "source": [
    "fig = plt.figure(figsize=(25,20))\n",
    "tree.plot_tree(dt_regressor)\n",
    "plt.show()"
   ]
  },
  {
   "cell_type": "markdown",
   "id": "d0042b59",
   "metadata": {
    "papermill": {
     "duration": 0.013654,
     "end_time": "2023-06-11T15:52:14.310215",
     "exception": false,
     "start_time": "2023-06-11T15:52:14.296561",
     "status": "completed"
    },
    "tags": []
   },
   "source": [
    "<a id=\"8.\"></a>\n",
    "# Things tried"
   ]
  },
  {
   "cell_type": "markdown",
   "id": "5e718fde",
   "metadata": {
    "papermill": {
     "duration": 0.012753,
     "end_time": "2023-06-11T15:52:14.336731",
     "exception": false,
     "start_time": "2023-06-11T15:52:14.323978",
     "status": "completed"
    },
    "tags": []
   },
   "source": [
    "cross validation, dropping null values in the target variable, no tree pruning = 0.1 (mean r2 score)  \n",
    "cross validation, dropping null values in the target variable, tree pruning with max depth = 0.34 with depth 2  (**Method we finally choose)**   \n",
    "cross validation, imputing values in the target variable, no tree pruning = -0.3   \n",
    "cross validation, imputing values in the target variable, tree pruning with max depth = 0.3 with depth 3  "
   ]
  }
 ],
 "metadata": {
  "kernelspec": {
   "display_name": "Python 3",
   "language": "python",
   "name": "python3"
  },
  "language_info": {
   "codemirror_mode": {
    "name": "ipython",
    "version": 3
   },
   "file_extension": ".py",
   "mimetype": "text/x-python",
   "name": "python",
   "nbconvert_exporter": "python",
   "pygments_lexer": "ipython3",
   "version": "3.10.10"
  },
  "papermill": {
   "default_parameters": {},
   "duration": 18.144052,
   "end_time": "2023-06-11T15:52:15.373064",
   "environment_variables": {},
   "exception": null,
   "input_path": "__notebook__.ipynb",
   "output_path": "__notebook__.ipynb",
   "parameters": {},
   "start_time": "2023-06-11T15:51:57.229012",
   "version": "2.4.0"
  }
 },
 "nbformat": 4,
 "nbformat_minor": 5
}
