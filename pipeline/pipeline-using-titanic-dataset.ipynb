{
 "cells": [
  {
   "cell_type": "markdown",
   "id": "ac79418f",
   "metadata": {
    "papermill": {
     "duration": 0.008926,
     "end_time": "2023-05-29T12:10:15.164977",
     "exception": false,
     "start_time": "2023-05-29T12:10:15.156051",
     "status": "completed"
    },
    "tags": []
   },
   "source": [
    "### Importing Libraries"
   ]
  },
  {
   "cell_type": "code",
   "execution_count": 1,
   "id": "c980432b",
   "metadata": {
    "execution": {
     "iopub.execute_input": "2023-05-29T12:10:15.184052Z",
     "iopub.status.busy": "2023-05-29T12:10:15.183587Z",
     "iopub.status.idle": "2023-05-29T12:10:17.012412Z",
     "shell.execute_reply": "2023-05-29T12:10:17.011330Z"
    },
    "papermill": {
     "duration": 1.841964,
     "end_time": "2023-05-29T12:10:17.015357",
     "exception": false,
     "start_time": "2023-05-29T12:10:15.173393",
     "status": "completed"
    },
    "tags": []
   },
   "outputs": [],
   "source": [
    "import numpy as np\n",
    "import pandas as pd\n",
    "\n",
    "from sklearn.impute import SimpleImputer\n",
    "from sklearn.compose import ColumnTransformer\n",
    "from sklearn.preprocessing import OneHotEncoder\n",
    "from sklearn.preprocessing import StandardScaler\n",
    "\n",
    "from sklearn.tree import DecisionTreeClassifier\n",
    "\n",
    "from sklearn.pipeline import Pipeline\n",
    "\n",
    "from sklearn.metrics import accuracy_score"
   ]
  },
  {
   "cell_type": "markdown",
   "id": "b5be0006",
   "metadata": {
    "papermill": {
     "duration": 0.008007,
     "end_time": "2023-05-29T12:10:17.031709",
     "exception": false,
     "start_time": "2023-05-29T12:10:17.023702",
     "status": "completed"
    },
    "tags": []
   },
   "source": [
    "### Dataset Description"
   ]
  },
  {
   "cell_type": "code",
   "execution_count": 2,
   "id": "544c5b42",
   "metadata": {
    "execution": {
     "iopub.execute_input": "2023-05-29T12:10:17.051052Z",
     "iopub.status.busy": "2023-05-29T12:10:17.050677Z",
     "iopub.status.idle": "2023-05-29T12:10:17.121734Z",
     "shell.execute_reply": "2023-05-29T12:10:17.120359Z"
    },
    "papermill": {
     "duration": 0.084452,
     "end_time": "2023-05-29T12:10:17.124724",
     "exception": false,
     "start_time": "2023-05-29T12:10:17.040272",
     "status": "completed"
    },
    "tags": []
   },
   "outputs": [],
   "source": [
    "train = pd.read_csv('/kaggle/input/titanic/train.csv')\n",
    "test = pd.read_csv('/kaggle/input/titanic/test.csv')"
   ]
  },
  {
   "cell_type": "code",
   "execution_count": 3,
   "id": "642a17af",
   "metadata": {
    "execution": {
     "iopub.execute_input": "2023-05-29T12:10:17.145171Z",
     "iopub.status.busy": "2023-05-29T12:10:17.144478Z",
     "iopub.status.idle": "2023-05-29T12:10:17.153719Z",
     "shell.execute_reply": "2023-05-29T12:10:17.152736Z"
    },
    "papermill": {
     "duration": 0.021647,
     "end_time": "2023-05-29T12:10:17.156216",
     "exception": false,
     "start_time": "2023-05-29T12:10:17.134569",
     "status": "completed"
    },
    "tags": []
   },
   "outputs": [
    {
     "data": {
      "text/plain": [
       "(891, 12)"
      ]
     },
     "execution_count": 3,
     "metadata": {},
     "output_type": "execute_result"
    }
   ],
   "source": [
    "train.shape"
   ]
  },
  {
   "cell_type": "code",
   "execution_count": 4,
   "id": "5f1d1bc3",
   "metadata": {
    "execution": {
     "iopub.execute_input": "2023-05-29T12:10:17.175291Z",
     "iopub.status.busy": "2023-05-29T12:10:17.174915Z",
     "iopub.status.idle": "2023-05-29T12:10:17.181169Z",
     "shell.execute_reply": "2023-05-29T12:10:17.180097Z"
    },
    "papermill": {
     "duration": 0.018814,
     "end_time": "2023-05-29T12:10:17.183723",
     "exception": false,
     "start_time": "2023-05-29T12:10:17.164909",
     "status": "completed"
    },
    "tags": []
   },
   "outputs": [
    {
     "data": {
      "text/plain": [
       "(418, 11)"
      ]
     },
     "execution_count": 4,
     "metadata": {},
     "output_type": "execute_result"
    }
   ],
   "source": [
    "test.shape"
   ]
  },
  {
   "cell_type": "code",
   "execution_count": 5,
   "id": "a3adccc8",
   "metadata": {
    "execution": {
     "iopub.execute_input": "2023-05-29T12:10:17.202578Z",
     "iopub.status.busy": "2023-05-29T12:10:17.202196Z",
     "iopub.status.idle": "2023-05-29T12:10:17.239945Z",
     "shell.execute_reply": "2023-05-29T12:10:17.238981Z"
    },
    "papermill": {
     "duration": 0.050464,
     "end_time": "2023-05-29T12:10:17.242613",
     "exception": false,
     "start_time": "2023-05-29T12:10:17.192149",
     "status": "completed"
    },
    "tags": []
   },
   "outputs": [
    {
     "data": {
      "text/html": [
       "<div>\n",
       "<style scoped>\n",
       "    .dataframe tbody tr th:only-of-type {\n",
       "        vertical-align: middle;\n",
       "    }\n",
       "\n",
       "    .dataframe tbody tr th {\n",
       "        vertical-align: top;\n",
       "    }\n",
       "\n",
       "    .dataframe thead th {\n",
       "        text-align: right;\n",
       "    }\n",
       "</style>\n",
       "<table border=\"1\" class=\"dataframe\">\n",
       "  <thead>\n",
       "    <tr style=\"text-align: right;\">\n",
       "      <th></th>\n",
       "      <th>PassengerId</th>\n",
       "      <th>Survived</th>\n",
       "      <th>Pclass</th>\n",
       "      <th>Name</th>\n",
       "      <th>Sex</th>\n",
       "      <th>Age</th>\n",
       "      <th>SibSp</th>\n",
       "      <th>Parch</th>\n",
       "      <th>Ticket</th>\n",
       "      <th>Fare</th>\n",
       "      <th>Cabin</th>\n",
       "      <th>Embarked</th>\n",
       "    </tr>\n",
       "  </thead>\n",
       "  <tbody>\n",
       "    <tr>\n",
       "      <th>0</th>\n",
       "      <td>1</td>\n",
       "      <td>0</td>\n",
       "      <td>3</td>\n",
       "      <td>Braund, Mr. Owen Harris</td>\n",
       "      <td>male</td>\n",
       "      <td>22.0</td>\n",
       "      <td>1</td>\n",
       "      <td>0</td>\n",
       "      <td>A/5 21171</td>\n",
       "      <td>7.2500</td>\n",
       "      <td>NaN</td>\n",
       "      <td>S</td>\n",
       "    </tr>\n",
       "    <tr>\n",
       "      <th>1</th>\n",
       "      <td>2</td>\n",
       "      <td>1</td>\n",
       "      <td>1</td>\n",
       "      <td>Cumings, Mrs. John Bradley (Florence Briggs Th...</td>\n",
       "      <td>female</td>\n",
       "      <td>38.0</td>\n",
       "      <td>1</td>\n",
       "      <td>0</td>\n",
       "      <td>PC 17599</td>\n",
       "      <td>71.2833</td>\n",
       "      <td>C85</td>\n",
       "      <td>C</td>\n",
       "    </tr>\n",
       "    <tr>\n",
       "      <th>2</th>\n",
       "      <td>3</td>\n",
       "      <td>1</td>\n",
       "      <td>3</td>\n",
       "      <td>Heikkinen, Miss. Laina</td>\n",
       "      <td>female</td>\n",
       "      <td>26.0</td>\n",
       "      <td>0</td>\n",
       "      <td>0</td>\n",
       "      <td>STON/O2. 3101282</td>\n",
       "      <td>7.9250</td>\n",
       "      <td>NaN</td>\n",
       "      <td>S</td>\n",
       "    </tr>\n",
       "    <tr>\n",
       "      <th>3</th>\n",
       "      <td>4</td>\n",
       "      <td>1</td>\n",
       "      <td>1</td>\n",
       "      <td>Futrelle, Mrs. Jacques Heath (Lily May Peel)</td>\n",
       "      <td>female</td>\n",
       "      <td>35.0</td>\n",
       "      <td>1</td>\n",
       "      <td>0</td>\n",
       "      <td>113803</td>\n",
       "      <td>53.1000</td>\n",
       "      <td>C123</td>\n",
       "      <td>S</td>\n",
       "    </tr>\n",
       "    <tr>\n",
       "      <th>4</th>\n",
       "      <td>5</td>\n",
       "      <td>0</td>\n",
       "      <td>3</td>\n",
       "      <td>Allen, Mr. William Henry</td>\n",
       "      <td>male</td>\n",
       "      <td>35.0</td>\n",
       "      <td>0</td>\n",
       "      <td>0</td>\n",
       "      <td>373450</td>\n",
       "      <td>8.0500</td>\n",
       "      <td>NaN</td>\n",
       "      <td>S</td>\n",
       "    </tr>\n",
       "  </tbody>\n",
       "</table>\n",
       "</div>"
      ],
      "text/plain": [
       "   PassengerId  Survived  Pclass  \\\n",
       "0            1         0       3   \n",
       "1            2         1       1   \n",
       "2            3         1       3   \n",
       "3            4         1       1   \n",
       "4            5         0       3   \n",
       "\n",
       "                                                Name     Sex   Age  SibSp  \\\n",
       "0                            Braund, Mr. Owen Harris    male  22.0      1   \n",
       "1  Cumings, Mrs. John Bradley (Florence Briggs Th...  female  38.0      1   \n",
       "2                             Heikkinen, Miss. Laina  female  26.0      0   \n",
       "3       Futrelle, Mrs. Jacques Heath (Lily May Peel)  female  35.0      1   \n",
       "4                           Allen, Mr. William Henry    male  35.0      0   \n",
       "\n",
       "   Parch            Ticket     Fare Cabin Embarked  \n",
       "0      0         A/5 21171   7.2500   NaN        S  \n",
       "1      0          PC 17599  71.2833   C85        C  \n",
       "2      0  STON/O2. 3101282   7.9250   NaN        S  \n",
       "3      0            113803  53.1000  C123        S  \n",
       "4      0            373450   8.0500   NaN        S  "
      ]
     },
     "execution_count": 5,
     "metadata": {},
     "output_type": "execute_result"
    }
   ],
   "source": [
    "train.head()"
   ]
  },
  {
   "cell_type": "markdown",
   "id": "95ed9182",
   "metadata": {
    "papermill": {
     "duration": 0.00891,
     "end_time": "2023-05-29T12:10:17.261249",
     "exception": false,
     "start_time": "2023-05-29T12:10:17.252339",
     "status": "completed"
    },
    "tags": []
   },
   "source": [
    "### Data Pre-processing"
   ]
  },
  {
   "cell_type": "code",
   "execution_count": 6,
   "id": "4897be92",
   "metadata": {
    "execution": {
     "iopub.execute_input": "2023-05-29T12:10:17.282112Z",
     "iopub.status.busy": "2023-05-29T12:10:17.281690Z",
     "iopub.status.idle": "2023-05-29T12:10:17.296099Z",
     "shell.execute_reply": "2023-05-29T12:10:17.295063Z"
    },
    "papermill": {
     "duration": 0.027844,
     "end_time": "2023-05-29T12:10:17.298401",
     "exception": false,
     "start_time": "2023-05-29T12:10:17.270557",
     "status": "completed"
    },
    "tags": []
   },
   "outputs": [],
   "source": [
    "train.drop(['PassengerId', 'Name', 'Ticket', 'Cabin'], axis = 1, inplace = True)\n",
    "test.drop(['PassengerId', 'Name', 'Ticket', 'Cabin'], axis = 1, inplace = True)"
   ]
  },
  {
   "cell_type": "code",
   "execution_count": 7,
   "id": "0f223d25",
   "metadata": {
    "execution": {
     "iopub.execute_input": "2023-05-29T12:10:17.318893Z",
     "iopub.status.busy": "2023-05-29T12:10:17.318134Z",
     "iopub.status.idle": "2023-05-29T12:10:17.332913Z",
     "shell.execute_reply": "2023-05-29T12:10:17.331545Z"
    },
    "papermill": {
     "duration": 0.027684,
     "end_time": "2023-05-29T12:10:17.335160",
     "exception": false,
     "start_time": "2023-05-29T12:10:17.307476",
     "status": "completed"
    },
    "tags": []
   },
   "outputs": [
    {
     "data": {
      "text/html": [
       "<div>\n",
       "<style scoped>\n",
       "    .dataframe tbody tr th:only-of-type {\n",
       "        vertical-align: middle;\n",
       "    }\n",
       "\n",
       "    .dataframe tbody tr th {\n",
       "        vertical-align: top;\n",
       "    }\n",
       "\n",
       "    .dataframe thead th {\n",
       "        text-align: right;\n",
       "    }\n",
       "</style>\n",
       "<table border=\"1\" class=\"dataframe\">\n",
       "  <thead>\n",
       "    <tr style=\"text-align: right;\">\n",
       "      <th></th>\n",
       "      <th>Survived</th>\n",
       "      <th>Pclass</th>\n",
       "      <th>Sex</th>\n",
       "      <th>Age</th>\n",
       "      <th>SibSp</th>\n",
       "      <th>Parch</th>\n",
       "      <th>Fare</th>\n",
       "      <th>Embarked</th>\n",
       "    </tr>\n",
       "  </thead>\n",
       "  <tbody>\n",
       "    <tr>\n",
       "      <th>0</th>\n",
       "      <td>0</td>\n",
       "      <td>3</td>\n",
       "      <td>male</td>\n",
       "      <td>22.0</td>\n",
       "      <td>1</td>\n",
       "      <td>0</td>\n",
       "      <td>7.2500</td>\n",
       "      <td>S</td>\n",
       "    </tr>\n",
       "    <tr>\n",
       "      <th>1</th>\n",
       "      <td>1</td>\n",
       "      <td>1</td>\n",
       "      <td>female</td>\n",
       "      <td>38.0</td>\n",
       "      <td>1</td>\n",
       "      <td>0</td>\n",
       "      <td>71.2833</td>\n",
       "      <td>C</td>\n",
       "    </tr>\n",
       "    <tr>\n",
       "      <th>2</th>\n",
       "      <td>1</td>\n",
       "      <td>3</td>\n",
       "      <td>female</td>\n",
       "      <td>26.0</td>\n",
       "      <td>0</td>\n",
       "      <td>0</td>\n",
       "      <td>7.9250</td>\n",
       "      <td>S</td>\n",
       "    </tr>\n",
       "    <tr>\n",
       "      <th>3</th>\n",
       "      <td>1</td>\n",
       "      <td>1</td>\n",
       "      <td>female</td>\n",
       "      <td>35.0</td>\n",
       "      <td>1</td>\n",
       "      <td>0</td>\n",
       "      <td>53.1000</td>\n",
       "      <td>S</td>\n",
       "    </tr>\n",
       "    <tr>\n",
       "      <th>4</th>\n",
       "      <td>0</td>\n",
       "      <td>3</td>\n",
       "      <td>male</td>\n",
       "      <td>35.0</td>\n",
       "      <td>0</td>\n",
       "      <td>0</td>\n",
       "      <td>8.0500</td>\n",
       "      <td>S</td>\n",
       "    </tr>\n",
       "  </tbody>\n",
       "</table>\n",
       "</div>"
      ],
      "text/plain": [
       "   Survived  Pclass     Sex   Age  SibSp  Parch     Fare Embarked\n",
       "0         0       3    male  22.0      1      0   7.2500        S\n",
       "1         1       1  female  38.0      1      0  71.2833        C\n",
       "2         1       3  female  26.0      0      0   7.9250        S\n",
       "3         1       1  female  35.0      1      0  53.1000        S\n",
       "4         0       3    male  35.0      0      0   8.0500        S"
      ]
     },
     "execution_count": 7,
     "metadata": {},
     "output_type": "execute_result"
    }
   ],
   "source": [
    "train.head()"
   ]
  },
  {
   "cell_type": "code",
   "execution_count": 8,
   "id": "4f6ae602",
   "metadata": {
    "execution": {
     "iopub.execute_input": "2023-05-29T12:10:17.355243Z",
     "iopub.status.busy": "2023-05-29T12:10:17.354819Z",
     "iopub.status.idle": "2023-05-29T12:10:17.364788Z",
     "shell.execute_reply": "2023-05-29T12:10:17.363457Z"
    },
    "papermill": {
     "duration": 0.02295,
     "end_time": "2023-05-29T12:10:17.367279",
     "exception": false,
     "start_time": "2023-05-29T12:10:17.344329",
     "status": "completed"
    },
    "tags": []
   },
   "outputs": [
    {
     "data": {
      "text/plain": [
       "Survived      0\n",
       "Pclass        0\n",
       "Sex           0\n",
       "Age         177\n",
       "SibSp         0\n",
       "Parch         0\n",
       "Fare          0\n",
       "Embarked      2\n",
       "dtype: int64"
      ]
     },
     "execution_count": 8,
     "metadata": {},
     "output_type": "execute_result"
    }
   ],
   "source": [
    "train.isna().sum()"
   ]
  },
  {
   "cell_type": "code",
   "execution_count": 9,
   "id": "fd90a39c",
   "metadata": {
    "execution": {
     "iopub.execute_input": "2023-05-29T12:10:17.388730Z",
     "iopub.status.busy": "2023-05-29T12:10:17.388158Z",
     "iopub.status.idle": "2023-05-29T12:10:17.397516Z",
     "shell.execute_reply": "2023-05-29T12:10:17.396397Z"
    },
    "papermill": {
     "duration": 0.02297,
     "end_time": "2023-05-29T12:10:17.399965",
     "exception": false,
     "start_time": "2023-05-29T12:10:17.376995",
     "status": "completed"
    },
    "tags": []
   },
   "outputs": [],
   "source": [
    "#as only 2 values are null we will drop it\n",
    "train.dropna(subset = ['Embarked'], inplace = True)"
   ]
  },
  {
   "cell_type": "code",
   "execution_count": 10,
   "id": "3884e483",
   "metadata": {
    "execution": {
     "iopub.execute_input": "2023-05-29T12:10:17.420694Z",
     "iopub.status.busy": "2023-05-29T12:10:17.420242Z",
     "iopub.status.idle": "2023-05-29T12:10:17.430496Z",
     "shell.execute_reply": "2023-05-29T12:10:17.429292Z"
    },
    "papermill": {
     "duration": 0.023623,
     "end_time": "2023-05-29T12:10:17.433022",
     "exception": false,
     "start_time": "2023-05-29T12:10:17.409399",
     "status": "completed"
    },
    "tags": []
   },
   "outputs": [
    {
     "data": {
      "text/plain": [
       "Pclass       0\n",
       "Sex          0\n",
       "Age         86\n",
       "SibSp        0\n",
       "Parch        0\n",
       "Fare         1\n",
       "Embarked     0\n",
       "dtype: int64"
      ]
     },
     "execution_count": 10,
     "metadata": {},
     "output_type": "execute_result"
    }
   ],
   "source": [
    "test.isna().sum()"
   ]
  },
  {
   "cell_type": "code",
   "execution_count": 11,
   "id": "a932d7cd",
   "metadata": {
    "execution": {
     "iopub.execute_input": "2023-05-29T12:10:17.454008Z",
     "iopub.status.busy": "2023-05-29T12:10:17.453583Z",
     "iopub.status.idle": "2023-05-29T12:10:17.460612Z",
     "shell.execute_reply": "2023-05-29T12:10:17.459515Z"
    },
    "papermill": {
     "duration": 0.020224,
     "end_time": "2023-05-29T12:10:17.463026",
     "exception": false,
     "start_time": "2023-05-29T12:10:17.442802",
     "status": "completed"
    },
    "tags": []
   },
   "outputs": [
    {
     "data": {
      "text/plain": [
       "(418, 7)"
      ]
     },
     "execution_count": 11,
     "metadata": {},
     "output_type": "execute_result"
    }
   ],
   "source": [
    "test.shape"
   ]
  },
  {
   "cell_type": "code",
   "execution_count": 12,
   "id": "ff0da2cf",
   "metadata": {
    "execution": {
     "iopub.execute_input": "2023-05-29T12:10:17.484647Z",
     "iopub.status.busy": "2023-05-29T12:10:17.483590Z",
     "iopub.status.idle": "2023-05-29T12:10:17.491998Z",
     "shell.execute_reply": "2023-05-29T12:10:17.490970Z"
    },
    "papermill": {
     "duration": 0.021378,
     "end_time": "2023-05-29T12:10:17.494132",
     "exception": false,
     "start_time": "2023-05-29T12:10:17.472754",
     "status": "completed"
    },
    "tags": []
   },
   "outputs": [],
   "source": [
    "test.dropna(subset = ['Fare'], inplace = True)"
   ]
  },
  {
   "cell_type": "code",
   "execution_count": 13,
   "id": "a113d5f2",
   "metadata": {
    "execution": {
     "iopub.execute_input": "2023-05-29T12:10:17.515504Z",
     "iopub.status.busy": "2023-05-29T12:10:17.515075Z",
     "iopub.status.idle": "2023-05-29T12:10:17.523292Z",
     "shell.execute_reply": "2023-05-29T12:10:17.522138Z"
    },
    "papermill": {
     "duration": 0.021545,
     "end_time": "2023-05-29T12:10:17.525459",
     "exception": false,
     "start_time": "2023-05-29T12:10:17.503914",
     "status": "completed"
    },
    "tags": []
   },
   "outputs": [],
   "source": [
    "y_train = train['Survived']\n",
    "X_train = train.drop(['Survived'], axis = 1)\n",
    "\n",
    "y_test = train['Survived']\n",
    "X_test = train.drop(['Survived'], axis = 1)"
   ]
  },
  {
   "cell_type": "markdown",
   "id": "46e5d4d6",
   "metadata": {
    "papermill": {
     "duration": 0.009154,
     "end_time": "2023-05-29T12:10:17.544162",
     "exception": false,
     "start_time": "2023-05-29T12:10:17.535008",
     "status": "completed"
    },
    "tags": []
   },
   "source": [
    "Pre-processing steps  \n",
    "* One-Hot Encode Sex, Embarked     \n",
    "* Simple Imputer Age \n",
    "* Scaling\n"
   ]
  },
  {
   "cell_type": "markdown",
   "id": "47f3091a",
   "metadata": {
    "papermill": {
     "duration": 0.009077,
     "end_time": "2023-05-29T12:10:17.562803",
     "exception": false,
     "start_time": "2023-05-29T12:10:17.553726",
     "status": "completed"
    },
    "tags": []
   },
   "source": [
    "### Transformers"
   ]
  },
  {
   "cell_type": "code",
   "execution_count": 14,
   "id": "62a9419d",
   "metadata": {
    "execution": {
     "iopub.execute_input": "2023-05-29T12:10:17.583539Z",
     "iopub.status.busy": "2023-05-29T12:10:17.583079Z",
     "iopub.status.idle": "2023-05-29T12:10:17.589116Z",
     "shell.execute_reply": "2023-05-29T12:10:17.588004Z"
    },
    "papermill": {
     "duration": 0.019149,
     "end_time": "2023-05-29T12:10:17.591374",
     "exception": false,
     "start_time": "2023-05-29T12:10:17.572225",
     "status": "completed"
    },
    "tags": []
   },
   "outputs": [],
   "source": [
    "trf1 = ColumnTransformer([\n",
    "    ('age_imputer', SimpleImputer(), [2]),\n",
    "    ('embarked_sex_encoder', OneHotEncoder(), [1, 6])\n",
    "], remainder = 'passthrough')"
   ]
  },
  {
   "cell_type": "code",
   "execution_count": 15,
   "id": "c099ba56",
   "metadata": {
    "execution": {
     "iopub.execute_input": "2023-05-29T12:10:17.612463Z",
     "iopub.status.busy": "2023-05-29T12:10:17.611799Z",
     "iopub.status.idle": "2023-05-29T12:10:17.617536Z",
     "shell.execute_reply": "2023-05-29T12:10:17.616495Z"
    },
    "papermill": {
     "duration": 0.01887,
     "end_time": "2023-05-29T12:10:17.619919",
     "exception": false,
     "start_time": "2023-05-29T12:10:17.601049",
     "status": "completed"
    },
    "tags": []
   },
   "outputs": [],
   "source": [
    "trf2 = ColumnTransformer([\n",
    "    ('scaler', StandardScaler(), [2, 3, 4, 5])\n",
    "], remainder = 'passthrough')"
   ]
  },
  {
   "cell_type": "code",
   "execution_count": 16,
   "id": "89c58b6e",
   "metadata": {
    "execution": {
     "iopub.execute_input": "2023-05-29T12:10:17.641035Z",
     "iopub.status.busy": "2023-05-29T12:10:17.640555Z",
     "iopub.status.idle": "2023-05-29T12:10:17.645937Z",
     "shell.execute_reply": "2023-05-29T12:10:17.644879Z"
    },
    "papermill": {
     "duration": 0.018888,
     "end_time": "2023-05-29T12:10:17.648290",
     "exception": false,
     "start_time": "2023-05-29T12:10:17.629402",
     "status": "completed"
    },
    "tags": []
   },
   "outputs": [],
   "source": [
    "trf3 = DecisionTreeClassifier()"
   ]
  },
  {
   "cell_type": "markdown",
   "id": "42d9c306",
   "metadata": {
    "papermill": {
     "duration": 0.00961,
     "end_time": "2023-05-29T12:10:17.668069",
     "exception": false,
     "start_time": "2023-05-29T12:10:17.658459",
     "status": "completed"
    },
    "tags": []
   },
   "source": [
    "### Pipeline"
   ]
  },
  {
   "cell_type": "code",
   "execution_count": 17,
   "id": "49989dbf",
   "metadata": {
    "execution": {
     "iopub.execute_input": "2023-05-29T12:10:17.689738Z",
     "iopub.status.busy": "2023-05-29T12:10:17.689122Z",
     "iopub.status.idle": "2023-05-29T12:10:17.694412Z",
     "shell.execute_reply": "2023-05-29T12:10:17.693370Z"
    },
    "papermill": {
     "duration": 0.018997,
     "end_time": "2023-05-29T12:10:17.696753",
     "exception": false,
     "start_time": "2023-05-29T12:10:17.677756",
     "status": "completed"
    },
    "tags": []
   },
   "outputs": [],
   "source": [
    "pipe = Pipeline([\n",
    "    ('trf1', trf1),\n",
    "    ('trf2', trf2),\n",
    "    ('trf3', trf3)\n",
    "])"
   ]
  },
  {
   "cell_type": "code",
   "execution_count": 18,
   "id": "2ee0969a",
   "metadata": {
    "execution": {
     "iopub.execute_input": "2023-05-29T12:10:17.718322Z",
     "iopub.status.busy": "2023-05-29T12:10:17.717957Z",
     "iopub.status.idle": "2023-05-29T12:10:17.782040Z",
     "shell.execute_reply": "2023-05-29T12:10:17.780993Z"
    },
    "papermill": {
     "duration": 0.077848,
     "end_time": "2023-05-29T12:10:17.784561",
     "exception": false,
     "start_time": "2023-05-29T12:10:17.706713",
     "status": "completed"
    },
    "tags": []
   },
   "outputs": [
    {
     "data": {
      "text/html": [
       "<style>#sk-container-id-1 {color: black;background-color: white;}#sk-container-id-1 pre{padding: 0;}#sk-container-id-1 div.sk-toggleable {background-color: white;}#sk-container-id-1 label.sk-toggleable__label {cursor: pointer;display: block;width: 100%;margin-bottom: 0;padding: 0.3em;box-sizing: border-box;text-align: center;}#sk-container-id-1 label.sk-toggleable__label-arrow:before {content: \"▸\";float: left;margin-right: 0.25em;color: #696969;}#sk-container-id-1 label.sk-toggleable__label-arrow:hover:before {color: black;}#sk-container-id-1 div.sk-estimator:hover label.sk-toggleable__label-arrow:before {color: black;}#sk-container-id-1 div.sk-toggleable__content {max-height: 0;max-width: 0;overflow: hidden;text-align: left;background-color: #f0f8ff;}#sk-container-id-1 div.sk-toggleable__content pre {margin: 0.2em;color: black;border-radius: 0.25em;background-color: #f0f8ff;}#sk-container-id-1 input.sk-toggleable__control:checked~div.sk-toggleable__content {max-height: 200px;max-width: 100%;overflow: auto;}#sk-container-id-1 input.sk-toggleable__control:checked~label.sk-toggleable__label-arrow:before {content: \"▾\";}#sk-container-id-1 div.sk-estimator input.sk-toggleable__control:checked~label.sk-toggleable__label {background-color: #d4ebff;}#sk-container-id-1 div.sk-label input.sk-toggleable__control:checked~label.sk-toggleable__label {background-color: #d4ebff;}#sk-container-id-1 input.sk-hidden--visually {border: 0;clip: rect(1px 1px 1px 1px);clip: rect(1px, 1px, 1px, 1px);height: 1px;margin: -1px;overflow: hidden;padding: 0;position: absolute;width: 1px;}#sk-container-id-1 div.sk-estimator {font-family: monospace;background-color: #f0f8ff;border: 1px dotted black;border-radius: 0.25em;box-sizing: border-box;margin-bottom: 0.5em;}#sk-container-id-1 div.sk-estimator:hover {background-color: #d4ebff;}#sk-container-id-1 div.sk-parallel-item::after {content: \"\";width: 100%;border-bottom: 1px solid gray;flex-grow: 1;}#sk-container-id-1 div.sk-label:hover label.sk-toggleable__label {background-color: #d4ebff;}#sk-container-id-1 div.sk-serial::before {content: \"\";position: absolute;border-left: 1px solid gray;box-sizing: border-box;top: 0;bottom: 0;left: 50%;z-index: 0;}#sk-container-id-1 div.sk-serial {display: flex;flex-direction: column;align-items: center;background-color: white;padding-right: 0.2em;padding-left: 0.2em;position: relative;}#sk-container-id-1 div.sk-item {position: relative;z-index: 1;}#sk-container-id-1 div.sk-parallel {display: flex;align-items: stretch;justify-content: center;background-color: white;position: relative;}#sk-container-id-1 div.sk-item::before, #sk-container-id-1 div.sk-parallel-item::before {content: \"\";position: absolute;border-left: 1px solid gray;box-sizing: border-box;top: 0;bottom: 0;left: 50%;z-index: -1;}#sk-container-id-1 div.sk-parallel-item {display: flex;flex-direction: column;z-index: 1;position: relative;background-color: white;}#sk-container-id-1 div.sk-parallel-item:first-child::after {align-self: flex-end;width: 50%;}#sk-container-id-1 div.sk-parallel-item:last-child::after {align-self: flex-start;width: 50%;}#sk-container-id-1 div.sk-parallel-item:only-child::after {width: 0;}#sk-container-id-1 div.sk-dashed-wrapped {border: 1px dashed gray;margin: 0 0.4em 0.5em 0.4em;box-sizing: border-box;padding-bottom: 0.4em;background-color: white;}#sk-container-id-1 div.sk-label label {font-family: monospace;font-weight: bold;display: inline-block;line-height: 1.2em;}#sk-container-id-1 div.sk-label-container {text-align: center;}#sk-container-id-1 div.sk-container {/* jupyter's `normalize.less` sets `[hidden] { display: none; }` but bootstrap.min.css set `[hidden] { display: none !important; }` so we also need the `!important` here to be able to override the default hidden behavior on the sphinx rendered scikit-learn.org. See: https://github.com/scikit-learn/scikit-learn/issues/21755 */display: inline-block !important;position: relative;}#sk-container-id-1 div.sk-text-repr-fallback {display: none;}</style><div id=\"sk-container-id-1\" class=\"sk-top-container\"><div class=\"sk-text-repr-fallback\"><pre>Pipeline(steps=[(&#x27;trf1&#x27;,\n",
       "                 ColumnTransformer(remainder=&#x27;passthrough&#x27;,\n",
       "                                   transformers=[(&#x27;age_imputer&#x27;,\n",
       "                                                  SimpleImputer(), [2]),\n",
       "                                                 (&#x27;embarked_sex_encoder&#x27;,\n",
       "                                                  OneHotEncoder(), [1, 6])])),\n",
       "                (&#x27;trf2&#x27;,\n",
       "                 ColumnTransformer(remainder=&#x27;passthrough&#x27;,\n",
       "                                   transformers=[(&#x27;scaler&#x27;, StandardScaler(),\n",
       "                                                  [2, 3, 4, 5])])),\n",
       "                (&#x27;trf3&#x27;, DecisionTreeClassifier())])</pre><b>In a Jupyter environment, please rerun this cell to show the HTML representation or trust the notebook. <br />On GitHub, the HTML representation is unable to render, please try loading this page with nbviewer.org.</b></div><div class=\"sk-container\" hidden><div class=\"sk-item sk-dashed-wrapped\"><div class=\"sk-label-container\"><div class=\"sk-label sk-toggleable\"><input class=\"sk-toggleable__control sk-hidden--visually\" id=\"sk-estimator-id-1\" type=\"checkbox\" ><label for=\"sk-estimator-id-1\" class=\"sk-toggleable__label sk-toggleable__label-arrow\">Pipeline</label><div class=\"sk-toggleable__content\"><pre>Pipeline(steps=[(&#x27;trf1&#x27;,\n",
       "                 ColumnTransformer(remainder=&#x27;passthrough&#x27;,\n",
       "                                   transformers=[(&#x27;age_imputer&#x27;,\n",
       "                                                  SimpleImputer(), [2]),\n",
       "                                                 (&#x27;embarked_sex_encoder&#x27;,\n",
       "                                                  OneHotEncoder(), [1, 6])])),\n",
       "                (&#x27;trf2&#x27;,\n",
       "                 ColumnTransformer(remainder=&#x27;passthrough&#x27;,\n",
       "                                   transformers=[(&#x27;scaler&#x27;, StandardScaler(),\n",
       "                                                  [2, 3, 4, 5])])),\n",
       "                (&#x27;trf3&#x27;, DecisionTreeClassifier())])</pre></div></div></div><div class=\"sk-serial\"><div class=\"sk-item sk-dashed-wrapped\"><div class=\"sk-label-container\"><div class=\"sk-label sk-toggleable\"><input class=\"sk-toggleable__control sk-hidden--visually\" id=\"sk-estimator-id-2\" type=\"checkbox\" ><label for=\"sk-estimator-id-2\" class=\"sk-toggleable__label sk-toggleable__label-arrow\">trf1: ColumnTransformer</label><div class=\"sk-toggleable__content\"><pre>ColumnTransformer(remainder=&#x27;passthrough&#x27;,\n",
       "                  transformers=[(&#x27;age_imputer&#x27;, SimpleImputer(), [2]),\n",
       "                                (&#x27;embarked_sex_encoder&#x27;, OneHotEncoder(),\n",
       "                                 [1, 6])])</pre></div></div></div><div class=\"sk-parallel\"><div class=\"sk-parallel-item\"><div class=\"sk-item\"><div class=\"sk-label-container\"><div class=\"sk-label sk-toggleable\"><input class=\"sk-toggleable__control sk-hidden--visually\" id=\"sk-estimator-id-3\" type=\"checkbox\" ><label for=\"sk-estimator-id-3\" class=\"sk-toggleable__label sk-toggleable__label-arrow\">age_imputer</label><div class=\"sk-toggleable__content\"><pre>[2]</pre></div></div></div><div class=\"sk-serial\"><div class=\"sk-item\"><div class=\"sk-estimator sk-toggleable\"><input class=\"sk-toggleable__control sk-hidden--visually\" id=\"sk-estimator-id-4\" type=\"checkbox\" ><label for=\"sk-estimator-id-4\" class=\"sk-toggleable__label sk-toggleable__label-arrow\">SimpleImputer</label><div class=\"sk-toggleable__content\"><pre>SimpleImputer()</pre></div></div></div></div></div></div><div class=\"sk-parallel-item\"><div class=\"sk-item\"><div class=\"sk-label-container\"><div class=\"sk-label sk-toggleable\"><input class=\"sk-toggleable__control sk-hidden--visually\" id=\"sk-estimator-id-5\" type=\"checkbox\" ><label for=\"sk-estimator-id-5\" class=\"sk-toggleable__label sk-toggleable__label-arrow\">embarked_sex_encoder</label><div class=\"sk-toggleable__content\"><pre>[1, 6]</pre></div></div></div><div class=\"sk-serial\"><div class=\"sk-item\"><div class=\"sk-estimator sk-toggleable\"><input class=\"sk-toggleable__control sk-hidden--visually\" id=\"sk-estimator-id-6\" type=\"checkbox\" ><label for=\"sk-estimator-id-6\" class=\"sk-toggleable__label sk-toggleable__label-arrow\">OneHotEncoder</label><div class=\"sk-toggleable__content\"><pre>OneHotEncoder()</pre></div></div></div></div></div></div><div class=\"sk-parallel-item\"><div class=\"sk-item\"><div class=\"sk-label-container\"><div class=\"sk-label sk-toggleable\"><input class=\"sk-toggleable__control sk-hidden--visually\" id=\"sk-estimator-id-7\" type=\"checkbox\" ><label for=\"sk-estimator-id-7\" class=\"sk-toggleable__label sk-toggleable__label-arrow\">remainder</label><div class=\"sk-toggleable__content\"><pre>[&#x27;Pclass&#x27;, &#x27;SibSp&#x27;, &#x27;Parch&#x27;, &#x27;Fare&#x27;]</pre></div></div></div><div class=\"sk-serial\"><div class=\"sk-item\"><div class=\"sk-estimator sk-toggleable\"><input class=\"sk-toggleable__control sk-hidden--visually\" id=\"sk-estimator-id-8\" type=\"checkbox\" ><label for=\"sk-estimator-id-8\" class=\"sk-toggleable__label sk-toggleable__label-arrow\">passthrough</label><div class=\"sk-toggleable__content\"><pre>passthrough</pre></div></div></div></div></div></div></div></div><div class=\"sk-item sk-dashed-wrapped\"><div class=\"sk-label-container\"><div class=\"sk-label sk-toggleable\"><input class=\"sk-toggleable__control sk-hidden--visually\" id=\"sk-estimator-id-9\" type=\"checkbox\" ><label for=\"sk-estimator-id-9\" class=\"sk-toggleable__label sk-toggleable__label-arrow\">trf2: ColumnTransformer</label><div class=\"sk-toggleable__content\"><pre>ColumnTransformer(remainder=&#x27;passthrough&#x27;,\n",
       "                  transformers=[(&#x27;scaler&#x27;, StandardScaler(), [2, 3, 4, 5])])</pre></div></div></div><div class=\"sk-parallel\"><div class=\"sk-parallel-item\"><div class=\"sk-item\"><div class=\"sk-label-container\"><div class=\"sk-label sk-toggleable\"><input class=\"sk-toggleable__control sk-hidden--visually\" id=\"sk-estimator-id-10\" type=\"checkbox\" ><label for=\"sk-estimator-id-10\" class=\"sk-toggleable__label sk-toggleable__label-arrow\">scaler</label><div class=\"sk-toggleable__content\"><pre>[2, 3, 4, 5]</pre></div></div></div><div class=\"sk-serial\"><div class=\"sk-item\"><div class=\"sk-estimator sk-toggleable\"><input class=\"sk-toggleable__control sk-hidden--visually\" id=\"sk-estimator-id-11\" type=\"checkbox\" ><label for=\"sk-estimator-id-11\" class=\"sk-toggleable__label sk-toggleable__label-arrow\">StandardScaler</label><div class=\"sk-toggleable__content\"><pre>StandardScaler()</pre></div></div></div></div></div></div><div class=\"sk-parallel-item\"><div class=\"sk-item\"><div class=\"sk-label-container\"><div class=\"sk-label sk-toggleable\"><input class=\"sk-toggleable__control sk-hidden--visually\" id=\"sk-estimator-id-12\" type=\"checkbox\" ><label for=\"sk-estimator-id-12\" class=\"sk-toggleable__label sk-toggleable__label-arrow\">remainder</label><div class=\"sk-toggleable__content\"><pre>[0, 1, 6, 7, 8, 9]</pre></div></div></div><div class=\"sk-serial\"><div class=\"sk-item\"><div class=\"sk-estimator sk-toggleable\"><input class=\"sk-toggleable__control sk-hidden--visually\" id=\"sk-estimator-id-13\" type=\"checkbox\" ><label for=\"sk-estimator-id-13\" class=\"sk-toggleable__label sk-toggleable__label-arrow\">passthrough</label><div class=\"sk-toggleable__content\"><pre>passthrough</pre></div></div></div></div></div></div></div></div><div class=\"sk-item\"><div class=\"sk-estimator sk-toggleable\"><input class=\"sk-toggleable__control sk-hidden--visually\" id=\"sk-estimator-id-14\" type=\"checkbox\" ><label for=\"sk-estimator-id-14\" class=\"sk-toggleable__label sk-toggleable__label-arrow\">DecisionTreeClassifier</label><div class=\"sk-toggleable__content\"><pre>DecisionTreeClassifier()</pre></div></div></div></div></div></div></div>"
      ],
      "text/plain": [
       "Pipeline(steps=[('trf1',\n",
       "                 ColumnTransformer(remainder='passthrough',\n",
       "                                   transformers=[('age_imputer',\n",
       "                                                  SimpleImputer(), [2]),\n",
       "                                                 ('embarked_sex_encoder',\n",
       "                                                  OneHotEncoder(), [1, 6])])),\n",
       "                ('trf2',\n",
       "                 ColumnTransformer(remainder='passthrough',\n",
       "                                   transformers=[('scaler', StandardScaler(),\n",
       "                                                  [2, 3, 4, 5])])),\n",
       "                ('trf3', DecisionTreeClassifier())])"
      ]
     },
     "execution_count": 18,
     "metadata": {},
     "output_type": "execute_result"
    }
   ],
   "source": [
    "pipe.fit(X_train, y_train)"
   ]
  },
  {
   "cell_type": "code",
   "execution_count": 19,
   "id": "b5b68f0f",
   "metadata": {
    "execution": {
     "iopub.execute_input": "2023-05-29T12:10:17.806541Z",
     "iopub.status.busy": "2023-05-29T12:10:17.806159Z",
     "iopub.status.idle": "2023-05-29T12:10:17.813715Z",
     "shell.execute_reply": "2023-05-29T12:10:17.812648Z"
    },
    "papermill": {
     "duration": 0.021665,
     "end_time": "2023-05-29T12:10:17.816222",
     "exception": false,
     "start_time": "2023-05-29T12:10:17.794557",
     "status": "completed"
    },
    "tags": []
   },
   "outputs": [
    {
     "data": {
      "text/plain": [
       "array([29.6420927])"
      ]
     },
     "execution_count": 19,
     "metadata": {},
     "output_type": "execute_result"
    }
   ],
   "source": [
    "#using pipeline to get information\n",
    "pipe.named_steps['trf1'].transformers_[0][1].statistics_"
   ]
  },
  {
   "cell_type": "code",
   "execution_count": 20,
   "id": "8c8f52c2",
   "metadata": {
    "execution": {
     "iopub.execute_input": "2023-05-29T12:10:17.838650Z",
     "iopub.status.busy": "2023-05-29T12:10:17.838236Z",
     "iopub.status.idle": "2023-05-29T12:10:17.851978Z",
     "shell.execute_reply": "2023-05-29T12:10:17.850892Z"
    },
    "papermill": {
     "duration": 0.027346,
     "end_time": "2023-05-29T12:10:17.854272",
     "exception": false,
     "start_time": "2023-05-29T12:10:17.826926",
     "status": "completed"
    },
    "tags": []
   },
   "outputs": [],
   "source": [
    "y_pred = pipe.predict(X_test)"
   ]
  },
  {
   "cell_type": "code",
   "execution_count": 21,
   "id": "f138c774",
   "metadata": {
    "execution": {
     "iopub.execute_input": "2023-05-29T12:10:17.876769Z",
     "iopub.status.busy": "2023-05-29T12:10:17.875804Z",
     "iopub.status.idle": "2023-05-29T12:10:17.884796Z",
     "shell.execute_reply": "2023-05-29T12:10:17.883936Z"
    },
    "papermill": {
     "duration": 0.022227,
     "end_time": "2023-05-29T12:10:17.886912",
     "exception": false,
     "start_time": "2023-05-29T12:10:17.864685",
     "status": "completed"
    },
    "tags": []
   },
   "outputs": [
    {
     "data": {
      "text/plain": [
       "0.9820022497187851"
      ]
     },
     "execution_count": 21,
     "metadata": {},
     "output_type": "execute_result"
    }
   ],
   "source": [
    "accuracy_score(y_test, y_pred)"
   ]
  }
 ],
 "metadata": {
  "kernelspec": {
   "display_name": "Python 3",
   "language": "python",
   "name": "python3"
  },
  "language_info": {
   "codemirror_mode": {
    "name": "ipython",
    "version": 3
   },
   "file_extension": ".py",
   "mimetype": "text/x-python",
   "name": "python",
   "nbconvert_exporter": "python",
   "pygments_lexer": "ipython3",
   "version": "3.10.10"
  },
  "papermill": {
   "default_parameters": {},
   "duration": 16.466392,
   "end_time": "2023-05-29T12:10:18.819913",
   "environment_variables": {},
   "exception": null,
   "input_path": "__notebook__.ipynb",
   "output_path": "__notebook__.ipynb",
   "parameters": {},
   "start_time": "2023-05-29T12:10:02.353521",
   "version": "2.4.0"
  }
 },
 "nbformat": 4,
 "nbformat_minor": 5
}
