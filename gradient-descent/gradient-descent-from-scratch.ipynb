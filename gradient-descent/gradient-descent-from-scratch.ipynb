{
 "cells": [
  {
   "cell_type": "markdown",
   "id": "c99354b4",
   "metadata": {
    "papermill": {
     "duration": 0.006183,
     "end_time": "2023-07-27T11:04:59.570416",
     "exception": false,
     "start_time": "2023-07-27T11:04:59.564233",
     "status": "completed"
    },
    "tags": []
   },
   "source": [
    "# Problem Statement"
   ]
  },
  {
   "cell_type": "markdown",
   "id": "70f34a04",
   "metadata": {
    "papermill": {
     "duration": 0.005448,
     "end_time": "2023-07-27T11:04:59.581755",
     "exception": false,
     "start_time": "2023-07-27T11:04:59.576307",
     "status": "completed"
    },
    "tags": []
   },
   "source": [
    "Implement Gradient Descent from Scratch through Simple Linear Regression"
   ]
  },
  {
   "cell_type": "markdown",
   "id": "fd83dd99",
   "metadata": {
    "papermill": {
     "duration": 0.005395,
     "end_time": "2023-07-27T11:04:59.592840",
     "exception": false,
     "start_time": "2023-07-27T11:04:59.587445",
     "status": "completed"
    },
    "tags": []
   },
   "source": [
    "# Importing libraries"
   ]
  },
  {
   "cell_type": "code",
   "execution_count": 1,
   "id": "574d0771",
   "metadata": {
    "execution": {
     "iopub.execute_input": "2023-07-27T11:04:59.607092Z",
     "iopub.status.busy": "2023-07-27T11:04:59.606129Z",
     "iopub.status.idle": "2023-07-27T11:05:01.137200Z",
     "shell.execute_reply": "2023-07-27T11:05:01.135976Z"
    },
    "papermill": {
     "duration": 1.541156,
     "end_time": "2023-07-27T11:05:01.139821",
     "exception": false,
     "start_time": "2023-07-27T11:04:59.598665",
     "status": "completed"
    },
    "tags": []
   },
   "outputs": [
    {
     "name": "stderr",
     "output_type": "stream",
     "text": [
      "/opt/conda/lib/python3.10/site-packages/scipy/__init__.py:146: UserWarning: A NumPy version >=1.16.5 and <1.23.0 is required for this version of SciPy (detected version 1.23.5\n",
      "  warnings.warn(f\"A NumPy version >={np_minversion} and <{np_maxversion}\"\n"
     ]
    }
   ],
   "source": [
    "import numpy as np\n",
    "import pandas as pd\n",
    "\n",
    "import matplotlib.pyplot as plt\n",
    "\n",
    "from sklearn.model_selection import train_test_split\n",
    "\n",
    "from sklearn.linear_model import LinearRegression\n",
    "\n",
    "from sklearn.metrics import r2_score"
   ]
  },
  {
   "cell_type": "markdown",
   "id": "4a117a86",
   "metadata": {
    "papermill": {
     "duration": 0.005581,
     "end_time": "2023-07-27T11:05:01.151572",
     "exception": false,
     "start_time": "2023-07-27T11:05:01.145991",
     "status": "completed"
    },
    "tags": []
   },
   "source": [
    "# Dataset Description"
   ]
  },
  {
   "cell_type": "code",
   "execution_count": 2,
   "id": "1f5c9d86",
   "metadata": {
    "execution": {
     "iopub.execute_input": "2023-07-27T11:05:01.165257Z",
     "iopub.status.busy": "2023-07-27T11:05:01.164800Z",
     "iopub.status.idle": "2023-07-27T11:05:01.188055Z",
     "shell.execute_reply": "2023-07-27T11:05:01.186511Z"
    },
    "papermill": {
     "duration": 0.033703,
     "end_time": "2023-07-27T11:05:01.191140",
     "exception": false,
     "start_time": "2023-07-27T11:05:01.157437",
     "status": "completed"
    },
    "tags": []
   },
   "outputs": [],
   "source": [
    "df = pd.read_csv('/kaggle/input/salary-dataset-simple-linear-regression/Salary_dataset.csv')"
   ]
  },
  {
   "cell_type": "code",
   "execution_count": 3,
   "id": "ae7c5bb0",
   "metadata": {
    "execution": {
     "iopub.execute_input": "2023-07-27T11:05:01.207239Z",
     "iopub.status.busy": "2023-07-27T11:05:01.206266Z",
     "iopub.status.idle": "2023-07-27T11:05:01.221016Z",
     "shell.execute_reply": "2023-07-27T11:05:01.219793Z"
    },
    "papermill": {
     "duration": 0.025889,
     "end_time": "2023-07-27T11:05:01.223517",
     "exception": false,
     "start_time": "2023-07-27T11:05:01.197628",
     "status": "completed"
    },
    "tags": []
   },
   "outputs": [],
   "source": [
    "df.drop(['Unnamed: 0'], axis = 1, inplace = True)"
   ]
  },
  {
   "cell_type": "code",
   "execution_count": 4,
   "id": "c9b31a1a",
   "metadata": {
    "execution": {
     "iopub.execute_input": "2023-07-27T11:05:01.239743Z",
     "iopub.status.busy": "2023-07-27T11:05:01.239060Z",
     "iopub.status.idle": "2023-07-27T11:05:01.260434Z",
     "shell.execute_reply": "2023-07-27T11:05:01.259220Z"
    },
    "papermill": {
     "duration": 0.032732,
     "end_time": "2023-07-27T11:05:01.263624",
     "exception": false,
     "start_time": "2023-07-27T11:05:01.230892",
     "status": "completed"
    },
    "tags": []
   },
   "outputs": [
    {
     "data": {
      "text/html": [
       "<div>\n",
       "<style scoped>\n",
       "    .dataframe tbody tr th:only-of-type {\n",
       "        vertical-align: middle;\n",
       "    }\n",
       "\n",
       "    .dataframe tbody tr th {\n",
       "        vertical-align: top;\n",
       "    }\n",
       "\n",
       "    .dataframe thead th {\n",
       "        text-align: right;\n",
       "    }\n",
       "</style>\n",
       "<table border=\"1\" class=\"dataframe\">\n",
       "  <thead>\n",
       "    <tr style=\"text-align: right;\">\n",
       "      <th></th>\n",
       "      <th>YearsExperience</th>\n",
       "      <th>Salary</th>\n",
       "    </tr>\n",
       "  </thead>\n",
       "  <tbody>\n",
       "    <tr>\n",
       "      <th>0</th>\n",
       "      <td>1.2</td>\n",
       "      <td>39344.0</td>\n",
       "    </tr>\n",
       "    <tr>\n",
       "      <th>1</th>\n",
       "      <td>1.4</td>\n",
       "      <td>46206.0</td>\n",
       "    </tr>\n",
       "    <tr>\n",
       "      <th>2</th>\n",
       "      <td>1.6</td>\n",
       "      <td>37732.0</td>\n",
       "    </tr>\n",
       "    <tr>\n",
       "      <th>3</th>\n",
       "      <td>2.1</td>\n",
       "      <td>43526.0</td>\n",
       "    </tr>\n",
       "    <tr>\n",
       "      <th>4</th>\n",
       "      <td>2.3</td>\n",
       "      <td>39892.0</td>\n",
       "    </tr>\n",
       "  </tbody>\n",
       "</table>\n",
       "</div>"
      ],
      "text/plain": [
       "   YearsExperience   Salary\n",
       "0              1.2  39344.0\n",
       "1              1.4  46206.0\n",
       "2              1.6  37732.0\n",
       "3              2.1  43526.0\n",
       "4              2.3  39892.0"
      ]
     },
     "execution_count": 4,
     "metadata": {},
     "output_type": "execute_result"
    }
   ],
   "source": [
    "df.head()"
   ]
  },
  {
   "cell_type": "code",
   "execution_count": 5,
   "id": "7228bb28",
   "metadata": {
    "execution": {
     "iopub.execute_input": "2023-07-27T11:05:01.280826Z",
     "iopub.status.busy": "2023-07-27T11:05:01.280047Z",
     "iopub.status.idle": "2023-07-27T11:05:01.287719Z",
     "shell.execute_reply": "2023-07-27T11:05:01.286311Z"
    },
    "papermill": {
     "duration": 0.020778,
     "end_time": "2023-07-27T11:05:01.290938",
     "exception": false,
     "start_time": "2023-07-27T11:05:01.270160",
     "status": "completed"
    },
    "tags": []
   },
   "outputs": [
    {
     "data": {
      "text/plain": [
       "(30, 2)"
      ]
     },
     "execution_count": 5,
     "metadata": {},
     "output_type": "execute_result"
    }
   ],
   "source": [
    "df.shape"
   ]
  },
  {
   "cell_type": "markdown",
   "id": "874cbd3d",
   "metadata": {
    "papermill": {
     "duration": 0.007395,
     "end_time": "2023-07-27T11:05:01.305481",
     "exception": false,
     "start_time": "2023-07-27T11:05:01.298086",
     "status": "completed"
    },
    "tags": []
   },
   "source": [
    "# Linear Relationship"
   ]
  },
  {
   "cell_type": "code",
   "execution_count": 6,
   "id": "02526551",
   "metadata": {
    "execution": {
     "iopub.execute_input": "2023-07-27T11:05:01.322069Z",
     "iopub.status.busy": "2023-07-27T11:05:01.321329Z",
     "iopub.status.idle": "2023-07-27T11:05:01.655074Z",
     "shell.execute_reply": "2023-07-27T11:05:01.653326Z"
    },
    "papermill": {
     "duration": 0.344904,
     "end_time": "2023-07-27T11:05:01.658003",
     "exception": false,
     "start_time": "2023-07-27T11:05:01.313099",
     "status": "completed"
    },
    "tags": []
   },
   "outputs": [
    {
     "data": {
      "text/plain": [
       "<matplotlib.collections.PathCollection at 0x7dd5cc2d4b50>"
      ]
     },
     "execution_count": 6,
     "metadata": {},
     "output_type": "execute_result"
    },
    {
     "data": {
      "image/png": "[encoded data removed]",
      "text/plain": [
       "<Figure size 640x480 with 1 Axes>"
      ]
     },
     "metadata": {},
     "output_type": "display_data"
    }
   ],
   "source": [
    "plt.scatter(x = df['YearsExperience'], y = df['Salary'])"
   ]
  },
  {
   "cell_type": "markdown",
   "id": "c2b35aa4",
   "metadata": {
    "papermill": {
     "duration": 0.00685,
     "end_time": "2023-07-27T11:05:01.671765",
     "exception": false,
     "start_time": "2023-07-27T11:05:01.664915",
     "status": "completed"
    },
    "tags": []
   },
   "source": [
    "# Train-Test Split"
   ]
  },
  {
   "cell_type": "code",
   "execution_count": 7,
   "id": "2a8c20f1",
   "metadata": {
    "execution": {
     "iopub.execute_input": "2023-07-27T11:05:01.689501Z",
     "iopub.status.busy": "2023-07-27T11:05:01.689099Z",
     "iopub.status.idle": "2023-07-27T11:05:01.694207Z",
     "shell.execute_reply": "2023-07-27T11:05:01.692773Z"
    },
    "papermill": {
     "duration": 0.016409,
     "end_time": "2023-07-27T11:05:01.696733",
     "exception": false,
     "start_time": "2023-07-27T11:05:01.680324",
     "status": "completed"
    },
    "tags": []
   },
   "outputs": [],
   "source": [
    "X = df['YearsExperience']\n",
    "y = df['Salary']"
   ]
  },
  {
   "cell_type": "code",
   "execution_count": 8,
   "id": "d43b3e27",
   "metadata": {
    "execution": {
     "iopub.execute_input": "2023-07-27T11:05:01.712645Z",
     "iopub.status.busy": "2023-07-27T11:05:01.712238Z",
     "iopub.status.idle": "2023-07-27T11:05:01.719712Z",
     "shell.execute_reply": "2023-07-27T11:05:01.718420Z"
    },
    "papermill": {
     "duration": 0.018472,
     "end_time": "2023-07-27T11:05:01.722138",
     "exception": false,
     "start_time": "2023-07-27T11:05:01.703666",
     "status": "completed"
    },
    "tags": []
   },
   "outputs": [],
   "source": [
    "X_train, X_test, y_train, y_test = train_test_split(X, y, test_size = 0.2, random_state = 8, shuffle = True)"
   ]
  },
  {
   "cell_type": "markdown",
   "id": "a5e7ef0e",
   "metadata": {
    "papermill": {
     "duration": 0.006525,
     "end_time": "2023-07-27T11:05:01.735593",
     "exception": false,
     "start_time": "2023-07-27T11:05:01.729068",
     "status": "completed"
    },
    "tags": []
   },
   "source": [
    "# Linear Regression From Sklearn"
   ]
  },
  {
   "cell_type": "markdown",
   "id": "f13be628",
   "metadata": {
    "papermill": {
     "duration": 0.006724,
     "end_time": "2023-07-27T11:05:01.749576",
     "exception": false,
     "start_time": "2023-07-27T11:05:01.742852",
     "status": "completed"
    },
    "tags": []
   },
   "source": [
    "Here, internally linear regression is implemented using OLS method."
   ]
  },
  {
   "cell_type": "code",
   "execution_count": 9,
   "id": "5c067cdd",
   "metadata": {
    "execution": {
     "iopub.execute_input": "2023-07-27T11:05:01.765547Z",
     "iopub.status.busy": "2023-07-27T11:05:01.764757Z",
     "iopub.status.idle": "2023-07-27T11:05:01.789906Z",
     "shell.execute_reply": "2023-07-27T11:05:01.788779Z"
    },
    "papermill": {
     "duration": 0.035871,
     "end_time": "2023-07-27T11:05:01.792349",
     "exception": false,
     "start_time": "2023-07-27T11:05:01.756478",
     "status": "completed"
    },
    "tags": []
   },
   "outputs": [
    {
     "data": {
      "text/plain": [
       "0.9631182154839475"
      ]
     },
     "execution_count": 9,
     "metadata": {},
     "output_type": "execute_result"
    }
   ],
   "source": [
    "regressor = LinearRegression()\n",
    "regressor.fit(np.array(X_train).reshape(-1, 1), np.array(y_train).reshape(-1, 1))\n",
    "r2_score(y_test, regressor.predict(np.array(X_test).reshape(-1, 1)))"
   ]
  },
  {
   "cell_type": "markdown",
   "id": "3dc30c5e",
   "metadata": {
    "papermill": {
     "duration": 0.006598,
     "end_time": "2023-07-27T11:05:01.806068",
     "exception": false,
     "start_time": "2023-07-27T11:05:01.799470",
     "status": "completed"
    },
    "tags": []
   },
   "source": [
    "The equation of line is **y = mx + b** where m = coefficient and b = intercept"
   ]
  },
  {
   "cell_type": "code",
   "execution_count": 10,
   "id": "4fdd22c2",
   "metadata": {
    "execution": {
     "iopub.execute_input": "2023-07-27T11:05:01.823114Z",
     "iopub.status.busy": "2023-07-27T11:05:01.821867Z",
     "iopub.status.idle": "2023-07-27T11:05:01.829791Z",
     "shell.execute_reply": "2023-07-27T11:05:01.828846Z"
    },
    "papermill": {
     "duration": 0.018631,
     "end_time": "2023-07-27T11:05:01.832180",
     "exception": false,
     "start_time": "2023-07-27T11:05:01.813549",
     "status": "completed"
    },
    "tags": []
   },
   "outputs": [
    {
     "data": {
      "text/plain": [
       "array([[9468.58092734]])"
      ]
     },
     "execution_count": 10,
     "metadata": {},
     "output_type": "execute_result"
    }
   ],
   "source": [
    "m = regressor.coef_\n",
    "m"
   ]
  },
  {
   "cell_type": "code",
   "execution_count": 11,
   "id": "d5eef912",
   "metadata": {
    "execution": {
     "iopub.execute_input": "2023-07-27T11:05:01.848162Z",
     "iopub.status.busy": "2023-07-27T11:05:01.847152Z",
     "iopub.status.idle": "2023-07-27T11:05:01.854222Z",
     "shell.execute_reply": "2023-07-27T11:05:01.853437Z"
    },
    "papermill": {
     "duration": 0.017216,
     "end_time": "2023-07-27T11:05:01.856260",
     "exception": false,
     "start_time": "2023-07-27T11:05:01.839044",
     "status": "completed"
    },
    "tags": []
   },
   "outputs": [
    {
     "data": {
      "text/plain": [
       "array([25356.6368477])"
      ]
     },
     "execution_count": 11,
     "metadata": {},
     "output_type": "execute_result"
    }
   ],
   "source": [
    "b = regressor.intercept_\n",
    "b"
   ]
  },
  {
   "cell_type": "code",
   "execution_count": 12,
   "id": "cfb17e33",
   "metadata": {
    "execution": {
     "iopub.execute_input": "2023-07-27T11:05:01.872844Z",
     "iopub.status.busy": "2023-07-27T11:05:01.871832Z",
     "iopub.status.idle": "2023-07-27T11:05:01.878049Z",
     "shell.execute_reply": "2023-07-27T11:05:01.876640Z"
    },
    "papermill": {
     "duration": 0.017124,
     "end_time": "2023-07-27T11:05:01.880440",
     "exception": false,
     "start_time": "2023-07-27T11:05:01.863316",
     "status": "completed"
    },
    "tags": []
   },
   "outputs": [],
   "source": [
    "x_input = np.linspace(0, 12, 50)\n",
    "y_input = m * x_input + b\n",
    "y_input = y_input.reshape(50, -1)"
   ]
  },
  {
   "cell_type": "code",
   "execution_count": 13,
   "id": "2630ac74",
   "metadata": {
    "execution": {
     "iopub.execute_input": "2023-07-27T11:05:01.896233Z",
     "iopub.status.busy": "2023-07-27T11:05:01.895842Z",
     "iopub.status.idle": "2023-07-27T11:05:02.170374Z",
     "shell.execute_reply": "2023-07-27T11:05:02.169223Z"
    },
    "papermill": {
     "duration": 0.285327,
     "end_time": "2023-07-27T11:05:02.172692",
     "exception": false,
     "start_time": "2023-07-27T11:05:01.887365",
     "status": "completed"
    },
    "tags": []
   },
   "outputs": [
    {
     "data": {
      "text/plain": [
       "[<matplotlib.lines.Line2D at 0x7dd5ca1aeda0>]"
      ]
     },
     "execution_count": 13,
     "metadata": {},
     "output_type": "execute_result"
    },
    {
     "data": {
      "image/png": "[encoded data removed]",
      "text/plain": [
       "<Figure size 640x480 with 1 Axes>"
      ]
     },
     "metadata": {},
     "output_type": "display_data"
    }
   ],
   "source": [
    "plt.scatter(x = df['YearsExperience'], y = df['Salary'])\n",
    "plt.plot(x_input, y_input, c = 'r')"
   ]
  },
  {
   "cell_type": "markdown",
   "id": "40085527",
   "metadata": {
    "papermill": {
     "duration": 0.00719,
     "end_time": "2023-07-27T11:05:02.187400",
     "exception": false,
     "start_time": "2023-07-27T11:05:02.180210",
     "status": "completed"
    },
    "tags": []
   },
   "source": [
    "# Gradient Descent"
   ]
  },
  {
   "cell_type": "code",
   "execution_count": 14,
   "id": "91518217",
   "metadata": {
    "execution": {
     "iopub.execute_input": "2023-07-27T11:05:02.204205Z",
     "iopub.status.busy": "2023-07-27T11:05:02.203814Z",
     "iopub.status.idle": "2023-07-27T11:05:02.213244Z",
     "shell.execute_reply": "2023-07-27T11:05:02.212071Z"
    },
    "papermill": {
     "duration": 0.020697,
     "end_time": "2023-07-27T11:05:02.215624",
     "exception": false,
     "start_time": "2023-07-27T11:05:02.194927",
     "status": "completed"
    },
    "tags": []
   },
   "outputs": [],
   "source": [
    "class GDRegressor:\n",
    "    def __init__(self, epochs, learning_rate):\n",
    "        self.epochs = epochs\n",
    "        self.lr = learning_rate\n",
    "        self.m = 6000\n",
    "        self.b = 1000\n",
    "        \n",
    "    def fit(self, X_train, y_train):\n",
    "        for i in range(self.epochs):\n",
    "            b_slope = -2 * np.sum(y_train - self.m*X_train.ravel() - self.b)\n",
    "            m_slope = -2 * np.sum((y_train - self.m*X_train.ravel() - self.b) * X_train.ravel())\n",
    "            self.b = self.b - (self.lr * b_slope)\n",
    "            self.m = self.m - (self.lr * m_slope)\n",
    "        return self.m, self.b\n",
    "        \n",
    "    def predict(self, X_test):\n",
    "        return (self.m * X_test + self.b)"
   ]
  },
  {
   "cell_type": "code",
   "execution_count": 15,
   "id": "07ac3fdc",
   "metadata": {
    "execution": {
     "iopub.execute_input": "2023-07-27T11:05:02.232497Z",
     "iopub.status.busy": "2023-07-27T11:05:02.232101Z",
     "iopub.status.idle": "2023-07-27T11:05:03.002606Z",
     "shell.execute_reply": "2023-07-27T11:05:03.001223Z"
    },
    "papermill": {
     "duration": 0.782201,
     "end_time": "2023-07-27T11:05:03.005521",
     "exception": false,
     "start_time": "2023-07-27T11:05:02.223320",
     "status": "completed"
    },
    "tags": []
   },
   "outputs": [],
   "source": [
    "#if learning rate is small, we need high numbers of epochs\n",
    "gd_regressor = GDRegressor(1200, 0.001)\n",
    "m, b = gd_regressor.fit(X_train, y_train)"
   ]
  },
  {
   "cell_type": "code",
   "execution_count": 16,
   "id": "df1d34d9",
   "metadata": {
    "execution": {
     "iopub.execute_input": "2023-07-27T11:05:03.023020Z",
     "iopub.status.busy": "2023-07-27T11:05:03.022606Z",
     "iopub.status.idle": "2023-07-27T11:05:03.030160Z",
     "shell.execute_reply": "2023-07-27T11:05:03.028959Z"
    },
    "papermill": {
     "duration": 0.019004,
     "end_time": "2023-07-27T11:05:03.032660",
     "exception": false,
     "start_time": "2023-07-27T11:05:03.013656",
     "status": "completed"
    },
    "tags": []
   },
   "outputs": [
    {
     "data": {
      "text/plain": [
       "(9468.631350659156, 25356.284574768822)"
      ]
     },
     "execution_count": 16,
     "metadata": {},
     "output_type": "execute_result"
    }
   ],
   "source": [
    "m, b"
   ]
  },
  {
   "cell_type": "code",
   "execution_count": 17,
   "id": "040e88cd",
   "metadata": {
    "execution": {
     "iopub.execute_input": "2023-07-27T11:05:03.050075Z",
     "iopub.status.busy": "2023-07-27T11:05:03.049643Z",
     "iopub.status.idle": "2023-07-27T11:05:03.057870Z",
     "shell.execute_reply": "2023-07-27T11:05:03.056740Z"
    },
    "papermill": {
     "duration": 0.019437,
     "end_time": "2023-07-27T11:05:03.060014",
     "exception": false,
     "start_time": "2023-07-27T11:05:03.040577",
     "status": "completed"
    },
    "tags": []
   },
   "outputs": [
    {
     "data": {
      "text/plain": [
       "0.963118955906533"
      ]
     },
     "execution_count": 17,
     "metadata": {},
     "output_type": "execute_result"
    }
   ],
   "source": [
    "y_pred = gd_regressor.predict(X_test)\n",
    "r2_score(y_test, y_pred)"
   ]
  }
 ],
 "metadata": {
  "kernelspec": {
   "display_name": "Python 3",
   "language": "python",
   "name": "python3"
  },
  "language_info": {
   "codemirror_mode": {
    "name": "ipython",
    "version": 3
   },
   "file_extension": ".py",
   "mimetype": "text/x-python",
   "name": "python",
   "nbconvert_exporter": "python",
   "pygments_lexer": "ipython3",
   "version": "3.10.12"
  },
  "papermill": {
   "default_parameters": {},
   "duration": 16.915663,
   "end_time": "2023-07-27T11:05:04.091844",
   "environment_variables": {},
   "exception": null,
   "input_path": "__notebook__.ipynb",
   "output_path": "__notebook__.ipynb",
   "parameters": {},
   "start_time": "2023-07-27T11:04:47.176181",
   "version": "2.4.0"
  }
 },
 "nbformat": 4,
 "nbformat_minor": 5
}
