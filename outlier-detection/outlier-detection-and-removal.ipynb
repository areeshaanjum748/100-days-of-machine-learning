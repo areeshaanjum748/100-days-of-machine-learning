{
 "cells": [
  {
   "cell_type": "markdown",
   "id": "50da2de1",
   "metadata": {
    "papermill": {
     "duration": 0.01698,
     "end_time": "2023-07-09T18:22:51.740518",
     "exception": false,
     "start_time": "2023-07-09T18:22:51.723538",
     "status": "completed"
    },
    "tags": []
   },
   "source": [
    "# Problem Statement"
   ]
  },
  {
   "cell_type": "markdown",
   "id": "d792442c",
   "metadata": {
    "papermill": {
     "duration": 0.016493,
     "end_time": "2023-07-09T18:22:51.774143",
     "exception": false,
     "start_time": "2023-07-09T18:22:51.757650",
     "status": "completed"
    },
    "tags": []
   },
   "source": [
    "Outlier detection and removal using:\n",
    "\n",
    "1. Z-score \n",
    "2. Percentile\n",
    "3. IQR"
   ]
  },
  {
   "cell_type": "markdown",
   "id": "43e52ea0",
   "metadata": {
    "papermill": {
     "duration": 0.015844,
     "end_time": "2023-07-09T18:22:51.806272",
     "exception": false,
     "start_time": "2023-07-09T18:22:51.790428",
     "status": "completed"
    },
    "tags": []
   },
   "source": [
    "# Importing libraries"
   ]
  },
  {
   "cell_type": "code",
   "execution_count": 1,
   "id": "0383308a",
   "metadata": {
    "execution": {
     "iopub.execute_input": "2023-07-09T18:22:51.841767Z",
     "iopub.status.busy": "2023-07-09T18:22:51.841144Z",
     "iopub.status.idle": "2023-07-09T18:22:53.501006Z",
     "shell.execute_reply": "2023-07-09T18:22:53.499429Z"
    },
    "papermill": {
     "duration": 1.681738,
     "end_time": "2023-07-09T18:22:53.504241",
     "exception": false,
     "start_time": "2023-07-09T18:22:51.822503",
     "status": "completed"
    },
    "tags": []
   },
   "outputs": [],
   "source": [
    "import numpy as np\n",
    "import pandas as pd\n",
    "\n",
    "import matplotlib.pyplot as plt\n",
    "import seaborn as sns"
   ]
  },
  {
   "cell_type": "markdown",
   "id": "846d5414",
   "metadata": {
    "papermill": {
     "duration": 0.016199,
     "end_time": "2023-07-09T18:22:53.537680",
     "exception": false,
     "start_time": "2023-07-09T18:22:53.521481",
     "status": "completed"
    },
    "tags": []
   },
   "source": [
    "# Dataset Description"
   ]
  },
  {
   "cell_type": "code",
   "execution_count": 2,
   "id": "f8ef98cc",
   "metadata": {
    "execution": {
     "iopub.execute_input": "2023-07-09T18:22:53.573209Z",
     "iopub.status.busy": "2023-07-09T18:22:53.572763Z",
     "iopub.status.idle": "2023-07-09T18:22:53.655110Z",
     "shell.execute_reply": "2023-07-09T18:22:53.653800Z"
    },
    "papermill": {
     "duration": 0.104066,
     "end_time": "2023-07-09T18:22:53.658498",
     "exception": false,
     "start_time": "2023-07-09T18:22:53.554432",
     "status": "completed"
    },
    "tags": []
   },
   "outputs": [],
   "source": [
    "df1 = pd.read_csv('/kaggle/input/climate-insights-dataset/climate_change_data.csv')"
   ]
  },
  {
   "cell_type": "code",
   "execution_count": 3,
   "id": "7542d3b8",
   "metadata": {
    "execution": {
     "iopub.execute_input": "2023-07-09T18:22:53.693716Z",
     "iopub.status.busy": "2023-07-09T18:22:53.693250Z",
     "iopub.status.idle": "2023-07-09T18:22:53.733498Z",
     "shell.execute_reply": "2023-07-09T18:22:53.732004Z"
    },
    "papermill": {
     "duration": 0.061333,
     "end_time": "2023-07-09T18:22:53.736737",
     "exception": false,
     "start_time": "2023-07-09T18:22:53.675404",
     "status": "completed"
    },
    "tags": []
   },
   "outputs": [
    {
     "data": {
      "text/html": [
       "<div>\n",
       "<style scoped>\n",
       "    .dataframe tbody tr th:only-of-type {\n",
       "        vertical-align: middle;\n",
       "    }\n",
       "\n",
       "    .dataframe tbody tr th {\n",
       "        vertical-align: top;\n",
       "    }\n",
       "\n",
       "    .dataframe thead th {\n",
       "        text-align: right;\n",
       "    }\n",
       "</style>\n",
       "<table border=\"1\" class=\"dataframe\">\n",
       "  <thead>\n",
       "    <tr style=\"text-align: right;\">\n",
       "      <th></th>\n",
       "      <th>Date</th>\n",
       "      <th>Location</th>\n",
       "      <th>Country</th>\n",
       "      <th>Temperature</th>\n",
       "      <th>CO2 Emissions</th>\n",
       "      <th>Sea Level Rise</th>\n",
       "      <th>Precipitation</th>\n",
       "      <th>Humidity</th>\n",
       "      <th>Wind Speed</th>\n",
       "    </tr>\n",
       "  </thead>\n",
       "  <tbody>\n",
       "    <tr>\n",
       "      <th>0</th>\n",
       "      <td>2000-01-01 00:00:00.000000000</td>\n",
       "      <td>New Williamtown</td>\n",
       "      <td>Latvia</td>\n",
       "      <td>10.688986</td>\n",
       "      <td>403.118903</td>\n",
       "      <td>0.717506</td>\n",
       "      <td>13.835237</td>\n",
       "      <td>23.631256</td>\n",
       "      <td>18.492026</td>\n",
       "    </tr>\n",
       "    <tr>\n",
       "      <th>1</th>\n",
       "      <td>2000-01-01 20:09:43.258325832</td>\n",
       "      <td>North Rachel</td>\n",
       "      <td>South Africa</td>\n",
       "      <td>13.814430</td>\n",
       "      <td>396.663499</td>\n",
       "      <td>1.205715</td>\n",
       "      <td>40.974084</td>\n",
       "      <td>43.982946</td>\n",
       "      <td>34.249300</td>\n",
       "    </tr>\n",
       "    <tr>\n",
       "      <th>2</th>\n",
       "      <td>2000-01-02 16:19:26.516651665</td>\n",
       "      <td>West Williamland</td>\n",
       "      <td>French Guiana</td>\n",
       "      <td>27.323718</td>\n",
       "      <td>451.553155</td>\n",
       "      <td>-0.160783</td>\n",
       "      <td>42.697931</td>\n",
       "      <td>96.652600</td>\n",
       "      <td>34.124261</td>\n",
       "    </tr>\n",
       "    <tr>\n",
       "      <th>3</th>\n",
       "      <td>2000-01-03 12:29:09.774977497</td>\n",
       "      <td>South David</td>\n",
       "      <td>Vietnam</td>\n",
       "      <td>12.309581</td>\n",
       "      <td>422.404983</td>\n",
       "      <td>-0.475931</td>\n",
       "      <td>5.193341</td>\n",
       "      <td>47.467938</td>\n",
       "      <td>8.554563</td>\n",
       "    </tr>\n",
       "    <tr>\n",
       "      <th>4</th>\n",
       "      <td>2000-01-04 08:38:53.033303330</td>\n",
       "      <td>New Scottburgh</td>\n",
       "      <td>Moldova</td>\n",
       "      <td>13.210885</td>\n",
       "      <td>410.472999</td>\n",
       "      <td>1.135757</td>\n",
       "      <td>78.695280</td>\n",
       "      <td>61.789672</td>\n",
       "      <td>8.001164</td>\n",
       "    </tr>\n",
       "  </tbody>\n",
       "</table>\n",
       "</div>"
      ],
      "text/plain": [
       "                            Date          Location        Country  \\\n",
       "0  2000-01-01 00:00:00.000000000   New Williamtown         Latvia   \n",
       "1  2000-01-01 20:09:43.258325832      North Rachel   South Africa   \n",
       "2  2000-01-02 16:19:26.516651665  West Williamland  French Guiana   \n",
       "3  2000-01-03 12:29:09.774977497       South David        Vietnam   \n",
       "4  2000-01-04 08:38:53.033303330    New Scottburgh        Moldova   \n",
       "\n",
       "   Temperature  CO2 Emissions  Sea Level Rise  Precipitation   Humidity  \\\n",
       "0    10.688986     403.118903        0.717506      13.835237  23.631256   \n",
       "1    13.814430     396.663499        1.205715      40.974084  43.982946   \n",
       "2    27.323718     451.553155       -0.160783      42.697931  96.652600   \n",
       "3    12.309581     422.404983       -0.475931       5.193341  47.467938   \n",
       "4    13.210885     410.472999        1.135757      78.695280  61.789672   \n",
       "\n",
       "   Wind Speed  \n",
       "0   18.492026  \n",
       "1   34.249300  \n",
       "2   34.124261  \n",
       "3    8.554563  \n",
       "4    8.001164  "
      ]
     },
     "execution_count": 3,
     "metadata": {},
     "output_type": "execute_result"
    }
   ],
   "source": [
    "df1.head()"
   ]
  },
  {
   "cell_type": "markdown",
   "id": "1016dd51",
   "metadata": {
    "papermill": {
     "duration": 0.016857,
     "end_time": "2023-07-09T18:22:53.770010",
     "exception": false,
     "start_time": "2023-07-09T18:22:53.753153",
     "status": "completed"
    },
    "tags": []
   },
   "source": [
    "#### Numerical columns"
   ]
  },
  {
   "cell_type": "code",
   "execution_count": 4,
   "id": "fc4c0ad0",
   "metadata": {
    "execution": {
     "iopub.execute_input": "2023-07-09T18:22:53.805053Z",
     "iopub.status.busy": "2023-07-09T18:22:53.804647Z",
     "iopub.status.idle": "2023-07-09T18:22:53.813072Z",
     "shell.execute_reply": "2023-07-09T18:22:53.811354Z"
    },
    "papermill": {
     "duration": 0.029389,
     "end_time": "2023-07-09T18:22:53.815984",
     "exception": false,
     "start_time": "2023-07-09T18:22:53.786595",
     "status": "completed"
    },
    "tags": []
   },
   "outputs": [],
   "source": [
    "num_cols = []\n",
    "for col in df1.columns:\n",
    "    if df1[col].dtypes != 'O':\n",
    "        num_cols.append(col)"
   ]
  },
  {
   "cell_type": "markdown",
   "id": "85300ed4",
   "metadata": {
    "papermill": {
     "duration": 0.016326,
     "end_time": "2023-07-09T18:22:53.849278",
     "exception": false,
     "start_time": "2023-07-09T18:22:53.832952",
     "status": "completed"
    },
    "tags": []
   },
   "source": [
    "#### Distribution of numerical columns"
   ]
  },
  {
   "cell_type": "code",
   "execution_count": 5,
   "id": "f03a1152",
   "metadata": {
    "execution": {
     "iopub.execute_input": "2023-07-09T18:22:53.883938Z",
     "iopub.status.busy": "2023-07-09T18:22:53.883474Z",
     "iopub.status.idle": "2023-07-09T18:22:56.960919Z",
     "shell.execute_reply": "2023-07-09T18:22:56.959633Z"
    },
    "papermill": {
     "duration": 3.101027,
     "end_time": "2023-07-09T18:22:56.966362",
     "exception": false,
     "start_time": "2023-07-09T18:22:53.865335",
     "status": "completed"
    },
    "tags": []
   },
   "outputs": [
    {
     "data": {
      "image/png": "[encoded data removed]",
      "text/plain": [
       "<Figure size 2000x3000 with 6 Axes>"
      ]
     },
     "metadata": {},
     "output_type": "display_data"
    }
   ],
   "source": [
    "plt.figure(figsize = (20, 30))\n",
    "for i, col in enumerate(num_cols):\n",
    "    ax = plt.subplot(3, 2, i + 1)\n",
    "    sns.histplot(df1[col], kde = True)\n",
    "    ax.set_title(col + \" Histogram\")\n",
    "plt.show()"
   ]
  },
  {
   "cell_type": "markdown",
   "id": "9c00ce62",
   "metadata": {
    "papermill": {
     "duration": 0.020343,
     "end_time": "2023-07-09T18:22:57.006578",
     "exception": false,
     "start_time": "2023-07-09T18:22:56.986235",
     "status": "completed"
    },
    "tags": []
   },
   "source": [
    "# Z-score method"
   ]
  },
  {
   "cell_type": "markdown",
   "id": "09fee1ad",
   "metadata": {
    "papermill": {
     "duration": 0.018851,
     "end_time": "2023-07-09T18:22:57.047005",
     "exception": false,
     "start_time": "2023-07-09T18:22:57.028154",
     "status": "completed"
    },
    "tags": []
   },
   "source": [
    "Z-score method can only be applied on columns with normal or almost normal distribution.    \n",
    "Here, If a certain value falls outside of 3 standard deviations we can say it an outlier.  \n",
    "Temperature, CO2 Emissions, Sea Level Rise are almost normal distribution. So, we will choose z-score method for it.  "
   ]
  },
  {
   "cell_type": "markdown",
   "id": "81c4a24b",
   "metadata": {
    "papermill": {
     "duration": 0.018855,
     "end_time": "2023-07-09T18:22:57.085499",
     "exception": false,
     "start_time": "2023-07-09T18:22:57.066644",
     "status": "completed"
    },
    "tags": []
   },
   "source": [
    "### Trimming\n",
    "Simply removing the outliers"
   ]
  },
  {
   "cell_type": "code",
   "execution_count": 6,
   "id": "cf24dcd4",
   "metadata": {
    "execution": {
     "iopub.execute_input": "2023-07-09T18:22:57.127541Z",
     "iopub.status.busy": "2023-07-09T18:22:57.126677Z",
     "iopub.status.idle": "2023-07-09T18:22:57.134293Z",
     "shell.execute_reply": "2023-07-09T18:22:57.132979Z"
    },
    "papermill": {
     "duration": 0.031728,
     "end_time": "2023-07-09T18:22:57.137185",
     "exception": false,
     "start_time": "2023-07-09T18:22:57.105457",
     "status": "completed"
    },
    "tags": []
   },
   "outputs": [],
   "source": [
    "mean = df1['Temperature'].mean()\n",
    "std = df1['Temperature'].std()\n",
    "upper_limit = mean + 3 * std\n",
    "lower_limit = mean - 3 * std"
   ]
  },
  {
   "cell_type": "code",
   "execution_count": 7,
   "id": "0908ec1e",
   "metadata": {
    "execution": {
     "iopub.execute_input": "2023-07-09T18:22:57.178533Z",
     "iopub.status.busy": "2023-07-09T18:22:57.177943Z",
     "iopub.status.idle": "2023-07-09T18:22:57.185207Z",
     "shell.execute_reply": "2023-07-09T18:22:57.184260Z"
    },
    "papermill": {
     "duration": 0.031236,
     "end_time": "2023-07-09T18:22:57.187542",
     "exception": false,
     "start_time": "2023-07-09T18:22:57.156306",
     "status": "completed"
    },
    "tags": []
   },
   "outputs": [
    {
     "data": {
      "text/plain": [
       "(10000, 9)"
      ]
     },
     "execution_count": 7,
     "metadata": {},
     "output_type": "execute_result"
    }
   ],
   "source": [
    "df1.shape"
   ]
  },
  {
   "cell_type": "code",
   "execution_count": 8,
   "id": "6c241308",
   "metadata": {
    "execution": {
     "iopub.execute_input": "2023-07-09T18:22:57.229770Z",
     "iopub.status.busy": "2023-07-09T18:22:57.229276Z",
     "iopub.status.idle": "2023-07-09T18:22:57.238695Z",
     "shell.execute_reply": "2023-07-09T18:22:57.237823Z"
    },
    "papermill": {
     "duration": 0.034191,
     "end_time": "2023-07-09T18:22:57.241137",
     "exception": false,
     "start_time": "2023-07-09T18:22:57.206946",
     "status": "completed"
    },
    "tags": []
   },
   "outputs": [
    {
     "data": {
      "text/plain": [
       "28"
      ]
     },
     "execution_count": 8,
     "metadata": {},
     "output_type": "execute_result"
    }
   ],
   "source": [
    "# outliers\n",
    "len(df1[(df1['Temperature'] < lower_limit) | (df1['Temperature'] > upper_limit)])"
   ]
  },
  {
   "cell_type": "code",
   "execution_count": 9,
   "id": "8ca5ebeb",
   "metadata": {
    "execution": {
     "iopub.execute_input": "2023-07-09T18:22:57.284120Z",
     "iopub.status.busy": "2023-07-09T18:22:57.283287Z",
     "iopub.status.idle": "2023-07-09T18:22:57.291988Z",
     "shell.execute_reply": "2023-07-09T18:22:57.290523Z"
    },
    "papermill": {
     "duration": 0.033059,
     "end_time": "2023-07-09T18:22:57.294842",
     "exception": false,
     "start_time": "2023-07-09T18:22:57.261783",
     "status": "completed"
    },
    "tags": []
   },
   "outputs": [],
   "source": [
    "new_df1_1 = df1[(df1['Temperature'] >= lower_limit) & (df1['Temperature'] <= upper_limit)]"
   ]
  },
  {
   "cell_type": "code",
   "execution_count": 10,
   "id": "3d28b598",
   "metadata": {
    "execution": {
     "iopub.execute_input": "2023-07-09T18:22:57.338765Z",
     "iopub.status.busy": "2023-07-09T18:22:57.338080Z",
     "iopub.status.idle": "2023-07-09T18:22:57.346275Z",
     "shell.execute_reply": "2023-07-09T18:22:57.344976Z"
    },
    "papermill": {
     "duration": 0.032767,
     "end_time": "2023-07-09T18:22:57.348713",
     "exception": false,
     "start_time": "2023-07-09T18:22:57.315946",
     "status": "completed"
    },
    "tags": []
   },
   "outputs": [
    {
     "data": {
      "text/plain": [
       "(9972, 9)"
      ]
     },
     "execution_count": 10,
     "metadata": {},
     "output_type": "execute_result"
    }
   ],
   "source": [
    "new_df1_1.shape"
   ]
  },
  {
   "cell_type": "markdown",
   "id": "9a01fdcc",
   "metadata": {
    "papermill": {
     "duration": 0.019331,
     "end_time": "2023-07-09T18:22:57.387826",
     "exception": false,
     "start_time": "2023-07-09T18:22:57.368495",
     "status": "completed"
    },
    "tags": []
   },
   "source": [
    "### Capping\n",
    "Setting the outliers value to upper and lower limit"
   ]
  },
  {
   "cell_type": "code",
   "execution_count": 11,
   "id": "770ee476",
   "metadata": {
    "execution": {
     "iopub.execute_input": "2023-07-09T18:22:57.430594Z",
     "iopub.status.busy": "2023-07-09T18:22:57.429211Z",
     "iopub.status.idle": "2023-07-09T18:22:57.436251Z",
     "shell.execute_reply": "2023-07-09T18:22:57.434979Z"
    },
    "papermill": {
     "duration": 0.030572,
     "end_time": "2023-07-09T18:22:57.439086",
     "exception": false,
     "start_time": "2023-07-09T18:22:57.408514",
     "status": "completed"
    },
    "tags": []
   },
   "outputs": [],
   "source": [
    "new_df1_2 = df1.copy()"
   ]
  },
  {
   "cell_type": "code",
   "execution_count": 12,
   "id": "febea70f",
   "metadata": {
    "execution": {
     "iopub.execute_input": "2023-07-09T18:22:57.480773Z",
     "iopub.status.busy": "2023-07-09T18:22:57.480368Z",
     "iopub.status.idle": "2023-07-09T18:22:57.488948Z",
     "shell.execute_reply": "2023-07-09T18:22:57.487562Z"
    },
    "papermill": {
     "duration": 0.032982,
     "end_time": "2023-07-09T18:22:57.491705",
     "exception": false,
     "start_time": "2023-07-09T18:22:57.458723",
     "status": "completed"
    },
    "tags": []
   },
   "outputs": [],
   "source": [
    "new_df1_2['Temperature'] = np.where(df1['Temperature'] > upper_limit, \n",
    "         upper_limit,\n",
    "         np.where(df1['Temperature'] < lower_limit, \n",
    "                   lower_limit,\n",
    "                   df1['Temperature']\n",
    "                 )\n",
    "        )"
   ]
  },
  {
   "cell_type": "code",
   "execution_count": 13,
   "id": "01068d56",
   "metadata": {
    "execution": {
     "iopub.execute_input": "2023-07-09T18:22:57.533695Z",
     "iopub.status.busy": "2023-07-09T18:22:57.533303Z",
     "iopub.status.idle": "2023-07-09T18:22:57.552740Z",
     "shell.execute_reply": "2023-07-09T18:22:57.551403Z"
    },
    "papermill": {
     "duration": 0.043742,
     "end_time": "2023-07-09T18:22:57.555450",
     "exception": false,
     "start_time": "2023-07-09T18:22:57.511708",
     "status": "completed"
    },
    "tags": []
   },
   "outputs": [
    {
     "data": {
      "text/html": [
       "<div>\n",
       "<style scoped>\n",
       "    .dataframe tbody tr th:only-of-type {\n",
       "        vertical-align: middle;\n",
       "    }\n",
       "\n",
       "    .dataframe tbody tr th {\n",
       "        vertical-align: top;\n",
       "    }\n",
       "\n",
       "    .dataframe thead th {\n",
       "        text-align: right;\n",
       "    }\n",
       "</style>\n",
       "<table border=\"1\" class=\"dataframe\">\n",
       "  <thead>\n",
       "    <tr style=\"text-align: right;\">\n",
       "      <th></th>\n",
       "      <th>Date</th>\n",
       "      <th>Location</th>\n",
       "      <th>Country</th>\n",
       "      <th>Temperature</th>\n",
       "      <th>CO2 Emissions</th>\n",
       "      <th>Sea Level Rise</th>\n",
       "      <th>Precipitation</th>\n",
       "      <th>Humidity</th>\n",
       "      <th>Wind Speed</th>\n",
       "    </tr>\n",
       "  </thead>\n",
       "  <tbody>\n",
       "    <tr>\n",
       "      <th>0</th>\n",
       "      <td>2000-01-01 00:00:00.000000000</td>\n",
       "      <td>New Williamtown</td>\n",
       "      <td>Latvia</td>\n",
       "      <td>10.688986</td>\n",
       "      <td>403.118903</td>\n",
       "      <td>0.717506</td>\n",
       "      <td>13.835237</td>\n",
       "      <td>23.631256</td>\n",
       "      <td>18.492026</td>\n",
       "    </tr>\n",
       "    <tr>\n",
       "      <th>1</th>\n",
       "      <td>2000-01-01 20:09:43.258325832</td>\n",
       "      <td>North Rachel</td>\n",
       "      <td>South Africa</td>\n",
       "      <td>13.814430</td>\n",
       "      <td>396.663499</td>\n",
       "      <td>1.205715</td>\n",
       "      <td>40.974084</td>\n",
       "      <td>43.982946</td>\n",
       "      <td>34.249300</td>\n",
       "    </tr>\n",
       "    <tr>\n",
       "      <th>2</th>\n",
       "      <td>2000-01-02 16:19:26.516651665</td>\n",
       "      <td>West Williamland</td>\n",
       "      <td>French Guiana</td>\n",
       "      <td>27.323718</td>\n",
       "      <td>451.553155</td>\n",
       "      <td>-0.160783</td>\n",
       "      <td>42.697931</td>\n",
       "      <td>96.652600</td>\n",
       "      <td>34.124261</td>\n",
       "    </tr>\n",
       "    <tr>\n",
       "      <th>3</th>\n",
       "      <td>2000-01-03 12:29:09.774977497</td>\n",
       "      <td>South David</td>\n",
       "      <td>Vietnam</td>\n",
       "      <td>12.309581</td>\n",
       "      <td>422.404983</td>\n",
       "      <td>-0.475931</td>\n",
       "      <td>5.193341</td>\n",
       "      <td>47.467938</td>\n",
       "      <td>8.554563</td>\n",
       "    </tr>\n",
       "    <tr>\n",
       "      <th>4</th>\n",
       "      <td>2000-01-04 08:38:53.033303330</td>\n",
       "      <td>New Scottburgh</td>\n",
       "      <td>Moldova</td>\n",
       "      <td>13.210885</td>\n",
       "      <td>410.472999</td>\n",
       "      <td>1.135757</td>\n",
       "      <td>78.695280</td>\n",
       "      <td>61.789672</td>\n",
       "      <td>8.001164</td>\n",
       "    </tr>\n",
       "  </tbody>\n",
       "</table>\n",
       "</div>"
      ],
      "text/plain": [
       "                            Date          Location        Country  \\\n",
       "0  2000-01-01 00:00:00.000000000   New Williamtown         Latvia   \n",
       "1  2000-01-01 20:09:43.258325832      North Rachel   South Africa   \n",
       "2  2000-01-02 16:19:26.516651665  West Williamland  French Guiana   \n",
       "3  2000-01-03 12:29:09.774977497       South David        Vietnam   \n",
       "4  2000-01-04 08:38:53.033303330    New Scottburgh        Moldova   \n",
       "\n",
       "   Temperature  CO2 Emissions  Sea Level Rise  Precipitation   Humidity  \\\n",
       "0    10.688986     403.118903        0.717506      13.835237  23.631256   \n",
       "1    13.814430     396.663499        1.205715      40.974084  43.982946   \n",
       "2    27.323718     451.553155       -0.160783      42.697931  96.652600   \n",
       "3    12.309581     422.404983       -0.475931       5.193341  47.467938   \n",
       "4    13.210885     410.472999        1.135757      78.695280  61.789672   \n",
       "\n",
       "   Wind Speed  \n",
       "0   18.492026  \n",
       "1   34.249300  \n",
       "2   34.124261  \n",
       "3    8.554563  \n",
       "4    8.001164  "
      ]
     },
     "execution_count": 13,
     "metadata": {},
     "output_type": "execute_result"
    }
   ],
   "source": [
    "new_df1_1.head()"
   ]
  },
  {
   "cell_type": "markdown",
   "id": "644a4985",
   "metadata": {
    "papermill": {
     "duration": 0.020463,
     "end_time": "2023-07-09T18:22:57.596165",
     "exception": false,
     "start_time": "2023-07-09T18:22:57.575702",
     "status": "completed"
    },
    "tags": []
   },
   "source": [
    "# Percentile Method"
   ]
  },
  {
   "cell_type": "markdown",
   "id": "05a95464",
   "metadata": {
    "papermill": {
     "duration": 0.02014,
     "end_time": "2023-07-09T18:22:57.637319",
     "exception": false,
     "start_time": "2023-07-09T18:22:57.617179",
     "status": "completed"
    },
    "tags": []
   },
   "source": [
    "Percentile - describes how a compare to other scores from the same set.  \n",
    "If a value is in kth percentile, it is greater than k percent of the total values.       \n",
    "\n",
    "\n",
    "In percentile method, if a value is greater than 99/95 percentile(depends upon the problem statement) or less than 1/5 percentile than it is consider an outlier."
   ]
  },
  {
   "cell_type": "code",
   "execution_count": 14,
   "id": "bb4b7710",
   "metadata": {
    "execution": {
     "iopub.execute_input": "2023-07-09T18:22:57.680334Z",
     "iopub.status.busy": "2023-07-09T18:22:57.679939Z",
     "iopub.status.idle": "2023-07-09T18:22:57.687533Z",
     "shell.execute_reply": "2023-07-09T18:22:57.686102Z"
    },
    "papermill": {
     "duration": 0.032165,
     "end_time": "2023-07-09T18:22:57.690363",
     "exception": false,
     "start_time": "2023-07-09T18:22:57.658198",
     "status": "completed"
    },
    "tags": []
   },
   "outputs": [],
   "source": [
    "df2 = df1.copy()"
   ]
  },
  {
   "cell_type": "code",
   "execution_count": 15,
   "id": "30543d6c",
   "metadata": {
    "execution": {
     "iopub.execute_input": "2023-07-09T18:22:57.734653Z",
     "iopub.status.busy": "2023-07-09T18:22:57.734194Z",
     "iopub.status.idle": "2023-07-09T18:22:57.752628Z",
     "shell.execute_reply": "2023-07-09T18:22:57.751514Z"
    },
    "papermill": {
     "duration": 0.044195,
     "end_time": "2023-07-09T18:22:57.755446",
     "exception": false,
     "start_time": "2023-07-09T18:22:57.711251",
     "status": "completed"
    },
    "tags": []
   },
   "outputs": [
    {
     "data": {
      "text/html": [
       "<div>\n",
       "<style scoped>\n",
       "    .dataframe tbody tr th:only-of-type {\n",
       "        vertical-align: middle;\n",
       "    }\n",
       "\n",
       "    .dataframe tbody tr th {\n",
       "        vertical-align: top;\n",
       "    }\n",
       "\n",
       "    .dataframe thead th {\n",
       "        text-align: right;\n",
       "    }\n",
       "</style>\n",
       "<table border=\"1\" class=\"dataframe\">\n",
       "  <thead>\n",
       "    <tr style=\"text-align: right;\">\n",
       "      <th></th>\n",
       "      <th>Date</th>\n",
       "      <th>Location</th>\n",
       "      <th>Country</th>\n",
       "      <th>Temperature</th>\n",
       "      <th>CO2 Emissions</th>\n",
       "      <th>Sea Level Rise</th>\n",
       "      <th>Precipitation</th>\n",
       "      <th>Humidity</th>\n",
       "      <th>Wind Speed</th>\n",
       "    </tr>\n",
       "  </thead>\n",
       "  <tbody>\n",
       "    <tr>\n",
       "      <th>0</th>\n",
       "      <td>2000-01-01 00:00:00.000000000</td>\n",
       "      <td>New Williamtown</td>\n",
       "      <td>Latvia</td>\n",
       "      <td>10.688986</td>\n",
       "      <td>403.118903</td>\n",
       "      <td>0.717506</td>\n",
       "      <td>13.835237</td>\n",
       "      <td>23.631256</td>\n",
       "      <td>18.492026</td>\n",
       "    </tr>\n",
       "    <tr>\n",
       "      <th>1</th>\n",
       "      <td>2000-01-01 20:09:43.258325832</td>\n",
       "      <td>North Rachel</td>\n",
       "      <td>South Africa</td>\n",
       "      <td>13.814430</td>\n",
       "      <td>396.663499</td>\n",
       "      <td>1.205715</td>\n",
       "      <td>40.974084</td>\n",
       "      <td>43.982946</td>\n",
       "      <td>34.249300</td>\n",
       "    </tr>\n",
       "    <tr>\n",
       "      <th>2</th>\n",
       "      <td>2000-01-02 16:19:26.516651665</td>\n",
       "      <td>West Williamland</td>\n",
       "      <td>French Guiana</td>\n",
       "      <td>27.323718</td>\n",
       "      <td>451.553155</td>\n",
       "      <td>-0.160783</td>\n",
       "      <td>42.697931</td>\n",
       "      <td>96.652600</td>\n",
       "      <td>34.124261</td>\n",
       "    </tr>\n",
       "    <tr>\n",
       "      <th>3</th>\n",
       "      <td>2000-01-03 12:29:09.774977497</td>\n",
       "      <td>South David</td>\n",
       "      <td>Vietnam</td>\n",
       "      <td>12.309581</td>\n",
       "      <td>422.404983</td>\n",
       "      <td>-0.475931</td>\n",
       "      <td>5.193341</td>\n",
       "      <td>47.467938</td>\n",
       "      <td>8.554563</td>\n",
       "    </tr>\n",
       "    <tr>\n",
       "      <th>4</th>\n",
       "      <td>2000-01-04 08:38:53.033303330</td>\n",
       "      <td>New Scottburgh</td>\n",
       "      <td>Moldova</td>\n",
       "      <td>13.210885</td>\n",
       "      <td>410.472999</td>\n",
       "      <td>1.135757</td>\n",
       "      <td>78.695280</td>\n",
       "      <td>61.789672</td>\n",
       "      <td>8.001164</td>\n",
       "    </tr>\n",
       "  </tbody>\n",
       "</table>\n",
       "</div>"
      ],
      "text/plain": [
       "                            Date          Location        Country  \\\n",
       "0  2000-01-01 00:00:00.000000000   New Williamtown         Latvia   \n",
       "1  2000-01-01 20:09:43.258325832      North Rachel   South Africa   \n",
       "2  2000-01-02 16:19:26.516651665  West Williamland  French Guiana   \n",
       "3  2000-01-03 12:29:09.774977497       South David        Vietnam   \n",
       "4  2000-01-04 08:38:53.033303330    New Scottburgh        Moldova   \n",
       "\n",
       "   Temperature  CO2 Emissions  Sea Level Rise  Precipitation   Humidity  \\\n",
       "0    10.688986     403.118903        0.717506      13.835237  23.631256   \n",
       "1    13.814430     396.663499        1.205715      40.974084  43.982946   \n",
       "2    27.323718     451.553155       -0.160783      42.697931  96.652600   \n",
       "3    12.309581     422.404983       -0.475931       5.193341  47.467938   \n",
       "4    13.210885     410.472999        1.135757      78.695280  61.789672   \n",
       "\n",
       "   Wind Speed  \n",
       "0   18.492026  \n",
       "1   34.249300  \n",
       "2   34.124261  \n",
       "3    8.554563  \n",
       "4    8.001164  "
      ]
     },
     "execution_count": 15,
     "metadata": {},
     "output_type": "execute_result"
    }
   ],
   "source": [
    "df2.head()"
   ]
  },
  {
   "cell_type": "code",
   "execution_count": 16,
   "id": "d9ccce27",
   "metadata": {
    "execution": {
     "iopub.execute_input": "2023-07-09T18:22:57.800181Z",
     "iopub.status.busy": "2023-07-09T18:22:57.799733Z",
     "iopub.status.idle": "2023-07-09T18:22:58.476042Z",
     "shell.execute_reply": "2023-07-09T18:22:58.474880Z"
    },
    "papermill": {
     "duration": 0.701357,
     "end_time": "2023-07-09T18:22:58.478601",
     "exception": false,
     "start_time": "2023-07-09T18:22:57.777244",
     "status": "completed"
    },
    "tags": []
   },
   "outputs": [
    {
     "data": {
      "text/plain": [
       "<seaborn.axisgrid.FacetGrid at 0x7c7457df1180>"
      ]
     },
     "execution_count": 16,
     "metadata": {},
     "output_type": "execute_result"
    },
    {
     "data": {
      "image/png": "[encoded data removed]",
      "text/plain": [
       "<Figure size 500x500 with 1 Axes>"
      ]
     },
     "metadata": {},
     "output_type": "display_data"
    }
   ],
   "source": [
    "sns.displot(df2['Temperature'], kde = True)"
   ]
  },
  {
   "cell_type": "code",
   "execution_count": 17,
   "id": "4e1e194c",
   "metadata": {
    "execution": {
     "iopub.execute_input": "2023-07-09T18:22:58.524143Z",
     "iopub.status.busy": "2023-07-09T18:22:58.523349Z",
     "iopub.status.idle": "2023-07-09T18:22:58.533998Z",
     "shell.execute_reply": "2023-07-09T18:22:58.532456Z"
    },
    "papermill": {
     "duration": 0.036602,
     "end_time": "2023-07-09T18:22:58.536635",
     "exception": false,
     "start_time": "2023-07-09T18:22:58.500033",
     "status": "completed"
    },
    "tags": []
   },
   "outputs": [
    {
     "data": {
      "text/plain": [
       "26.54418440413302"
      ]
     },
     "execution_count": 17,
     "metadata": {},
     "output_type": "execute_result"
    }
   ],
   "source": [
    "#The value with 99th percentile\n",
    "upper_limit = df2['Temperature'].quantile(0.99)\n",
    "upper_limit"
   ]
  },
  {
   "cell_type": "code",
   "execution_count": 18,
   "id": "0a89a2ac",
   "metadata": {
    "execution": {
     "iopub.execute_input": "2023-07-09T18:22:58.582076Z",
     "iopub.status.busy": "2023-07-09T18:22:58.581621Z",
     "iopub.status.idle": "2023-07-09T18:22:58.591176Z",
     "shell.execute_reply": "2023-07-09T18:22:58.589992Z"
    },
    "papermill": {
     "duration": 0.03556,
     "end_time": "2023-07-09T18:22:58.593621",
     "exception": false,
     "start_time": "2023-07-09T18:22:58.558061",
     "status": "completed"
    },
    "tags": []
   },
   "outputs": [
    {
     "data": {
      "text/plain": [
       "3.158667894296705"
      ]
     },
     "execution_count": 18,
     "metadata": {},
     "output_type": "execute_result"
    }
   ],
   "source": [
    "#The value with 1th percentile\n",
    "lower_limit = df2['Temperature'].quantile(0.01)\n",
    "lower_limit"
   ]
  },
  {
   "cell_type": "markdown",
   "id": "cd2157c3",
   "metadata": {
    "papermill": {
     "duration": 0.022052,
     "end_time": "2023-07-09T18:22:58.637476",
     "exception": false,
     "start_time": "2023-07-09T18:22:58.615424",
     "status": "completed"
    },
    "tags": []
   },
   "source": [
    "### Trimming"
   ]
  },
  {
   "cell_type": "code",
   "execution_count": 19,
   "id": "c327dd53",
   "metadata": {
    "execution": {
     "iopub.execute_input": "2023-07-09T18:22:58.684612Z",
     "iopub.status.busy": "2023-07-09T18:22:58.683193Z",
     "iopub.status.idle": "2023-07-09T18:22:58.693297Z",
     "shell.execute_reply": "2023-07-09T18:22:58.691785Z"
    },
    "papermill": {
     "duration": 0.036867,
     "end_time": "2023-07-09T18:22:58.696200",
     "exception": false,
     "start_time": "2023-07-09T18:22:58.659333",
     "status": "completed"
    },
    "tags": []
   },
   "outputs": [
    {
     "data": {
      "text/plain": [
       "(10000, 9)"
      ]
     },
     "execution_count": 19,
     "metadata": {},
     "output_type": "execute_result"
    }
   ],
   "source": [
    "df2.shape"
   ]
  },
  {
   "cell_type": "code",
   "execution_count": 20,
   "id": "0765a050",
   "metadata": {
    "execution": {
     "iopub.execute_input": "2023-07-09T18:22:58.742898Z",
     "iopub.status.busy": "2023-07-09T18:22:58.742391Z",
     "iopub.status.idle": "2023-07-09T18:22:58.753266Z",
     "shell.execute_reply": "2023-07-09T18:22:58.752259Z"
    },
    "papermill": {
     "duration": 0.037205,
     "end_time": "2023-07-09T18:22:58.755544",
     "exception": false,
     "start_time": "2023-07-09T18:22:58.718339",
     "status": "completed"
    },
    "tags": []
   },
   "outputs": [
    {
     "data": {
      "text/plain": [
       "200"
      ]
     },
     "execution_count": 20,
     "metadata": {},
     "output_type": "execute_result"
    }
   ],
   "source": [
    "len(df2[(df2['Temperature'] > upper_limit) | (df2['Temperature'] < lower_limit)])"
   ]
  },
  {
   "cell_type": "code",
   "execution_count": 21,
   "id": "e87bbf8f",
   "metadata": {
    "execution": {
     "iopub.execute_input": "2023-07-09T18:22:58.802704Z",
     "iopub.status.busy": "2023-07-09T18:22:58.801566Z",
     "iopub.status.idle": "2023-07-09T18:22:58.811201Z",
     "shell.execute_reply": "2023-07-09T18:22:58.809629Z"
    },
    "papermill": {
     "duration": 0.036519,
     "end_time": "2023-07-09T18:22:58.814350",
     "exception": false,
     "start_time": "2023-07-09T18:22:58.777831",
     "status": "completed"
    },
    "tags": []
   },
   "outputs": [],
   "source": [
    "new_df2_1 = df2[(df2['Temperature'] <= upper_limit) & (df2['Temperature'] >= lower_limit)]"
   ]
  },
  {
   "cell_type": "code",
   "execution_count": 22,
   "id": "49a9b514",
   "metadata": {
    "execution": {
     "iopub.execute_input": "2023-07-09T18:22:58.864104Z",
     "iopub.status.busy": "2023-07-09T18:22:58.862431Z",
     "iopub.status.idle": "2023-07-09T18:22:58.870777Z",
     "shell.execute_reply": "2023-07-09T18:22:58.869539Z"
    },
    "papermill": {
     "duration": 0.035401,
     "end_time": "2023-07-09T18:22:58.873086",
     "exception": false,
     "start_time": "2023-07-09T18:22:58.837685",
     "status": "completed"
    },
    "tags": []
   },
   "outputs": [
    {
     "data": {
      "text/plain": [
       "(9800, 9)"
      ]
     },
     "execution_count": 22,
     "metadata": {},
     "output_type": "execute_result"
    }
   ],
   "source": [
    "new_df2_1.shape"
   ]
  },
  {
   "cell_type": "markdown",
   "id": "084926dd",
   "metadata": {
    "papermill": {
     "duration": 0.02233,
     "end_time": "2023-07-09T18:22:58.917391",
     "exception": false,
     "start_time": "2023-07-09T18:22:58.895061",
     "status": "completed"
    },
    "tags": []
   },
   "source": [
    "### Capping\n",
    "\n",
    "Capping using percentile method is called winsorization technique."
   ]
  },
  {
   "cell_type": "code",
   "execution_count": 23,
   "id": "4b593720",
   "metadata": {
    "execution": {
     "iopub.execute_input": "2023-07-09T18:22:58.964291Z",
     "iopub.status.busy": "2023-07-09T18:22:58.963261Z",
     "iopub.status.idle": "2023-07-09T18:22:58.968824Z",
     "shell.execute_reply": "2023-07-09T18:22:58.967898Z"
    },
    "papermill": {
     "duration": 0.03189,
     "end_time": "2023-07-09T18:22:58.971375",
     "exception": false,
     "start_time": "2023-07-09T18:22:58.939485",
     "status": "completed"
    },
    "tags": []
   },
   "outputs": [],
   "source": [
    "new_df2_2 = df2.copy()"
   ]
  },
  {
   "cell_type": "code",
   "execution_count": 24,
   "id": "efbdf8f1",
   "metadata": {
    "execution": {
     "iopub.execute_input": "2023-07-09T18:22:59.023080Z",
     "iopub.status.busy": "2023-07-09T18:22:59.022305Z",
     "iopub.status.idle": "2023-07-09T18:22:59.029539Z",
     "shell.execute_reply": "2023-07-09T18:22:59.028249Z"
    },
    "papermill": {
     "duration": 0.038733,
     "end_time": "2023-07-09T18:22:59.032631",
     "exception": false,
     "start_time": "2023-07-09T18:22:58.993898",
     "status": "completed"
    },
    "tags": []
   },
   "outputs": [],
   "source": [
    "new_df2_2['Temperature'] = np.where(df2['Temperature'] > upper_limit, \n",
    "         upper_limit,\n",
    "         np.where(df2['Temperature'] < lower_limit,\n",
    "                  lower_limit,\n",
    "                  df2['Temperature']\n",
    "                 )\n",
    "        )"
   ]
  },
  {
   "cell_type": "code",
   "execution_count": 25,
   "id": "b43c8d54",
   "metadata": {
    "execution": {
     "iopub.execute_input": "2023-07-09T18:22:59.080828Z",
     "iopub.status.busy": "2023-07-09T18:22:59.079977Z",
     "iopub.status.idle": "2023-07-09T18:22:59.097782Z",
     "shell.execute_reply": "2023-07-09T18:22:59.096277Z"
    },
    "papermill": {
     "duration": 0.045621,
     "end_time": "2023-07-09T18:22:59.100666",
     "exception": false,
     "start_time": "2023-07-09T18:22:59.055045",
     "status": "completed"
    },
    "tags": []
   },
   "outputs": [
    {
     "data": {
      "text/html": [
       "<div>\n",
       "<style scoped>\n",
       "    .dataframe tbody tr th:only-of-type {\n",
       "        vertical-align: middle;\n",
       "    }\n",
       "\n",
       "    .dataframe tbody tr th {\n",
       "        vertical-align: top;\n",
       "    }\n",
       "\n",
       "    .dataframe thead th {\n",
       "        text-align: right;\n",
       "    }\n",
       "</style>\n",
       "<table border=\"1\" class=\"dataframe\">\n",
       "  <thead>\n",
       "    <tr style=\"text-align: right;\">\n",
       "      <th></th>\n",
       "      <th>Date</th>\n",
       "      <th>Location</th>\n",
       "      <th>Country</th>\n",
       "      <th>Temperature</th>\n",
       "      <th>CO2 Emissions</th>\n",
       "      <th>Sea Level Rise</th>\n",
       "      <th>Precipitation</th>\n",
       "      <th>Humidity</th>\n",
       "      <th>Wind Speed</th>\n",
       "    </tr>\n",
       "  </thead>\n",
       "  <tbody>\n",
       "    <tr>\n",
       "      <th>0</th>\n",
       "      <td>2000-01-01 00:00:00.000000000</td>\n",
       "      <td>New Williamtown</td>\n",
       "      <td>Latvia</td>\n",
       "      <td>10.688986</td>\n",
       "      <td>403.118903</td>\n",
       "      <td>0.717506</td>\n",
       "      <td>13.835237</td>\n",
       "      <td>23.631256</td>\n",
       "      <td>18.492026</td>\n",
       "    </tr>\n",
       "    <tr>\n",
       "      <th>1</th>\n",
       "      <td>2000-01-01 20:09:43.258325832</td>\n",
       "      <td>North Rachel</td>\n",
       "      <td>South Africa</td>\n",
       "      <td>13.814430</td>\n",
       "      <td>396.663499</td>\n",
       "      <td>1.205715</td>\n",
       "      <td>40.974084</td>\n",
       "      <td>43.982946</td>\n",
       "      <td>34.249300</td>\n",
       "    </tr>\n",
       "    <tr>\n",
       "      <th>2</th>\n",
       "      <td>2000-01-02 16:19:26.516651665</td>\n",
       "      <td>West Williamland</td>\n",
       "      <td>French Guiana</td>\n",
       "      <td>26.544184</td>\n",
       "      <td>451.553155</td>\n",
       "      <td>-0.160783</td>\n",
       "      <td>42.697931</td>\n",
       "      <td>96.652600</td>\n",
       "      <td>34.124261</td>\n",
       "    </tr>\n",
       "    <tr>\n",
       "      <th>3</th>\n",
       "      <td>2000-01-03 12:29:09.774977497</td>\n",
       "      <td>South David</td>\n",
       "      <td>Vietnam</td>\n",
       "      <td>12.309581</td>\n",
       "      <td>422.404983</td>\n",
       "      <td>-0.475931</td>\n",
       "      <td>5.193341</td>\n",
       "      <td>47.467938</td>\n",
       "      <td>8.554563</td>\n",
       "    </tr>\n",
       "    <tr>\n",
       "      <th>4</th>\n",
       "      <td>2000-01-04 08:38:53.033303330</td>\n",
       "      <td>New Scottburgh</td>\n",
       "      <td>Moldova</td>\n",
       "      <td>13.210885</td>\n",
       "      <td>410.472999</td>\n",
       "      <td>1.135757</td>\n",
       "      <td>78.695280</td>\n",
       "      <td>61.789672</td>\n",
       "      <td>8.001164</td>\n",
       "    </tr>\n",
       "  </tbody>\n",
       "</table>\n",
       "</div>"
      ],
      "text/plain": [
       "                            Date          Location        Country  \\\n",
       "0  2000-01-01 00:00:00.000000000   New Williamtown         Latvia   \n",
       "1  2000-01-01 20:09:43.258325832      North Rachel   South Africa   \n",
       "2  2000-01-02 16:19:26.516651665  West Williamland  French Guiana   \n",
       "3  2000-01-03 12:29:09.774977497       South David        Vietnam   \n",
       "4  2000-01-04 08:38:53.033303330    New Scottburgh        Moldova   \n",
       "\n",
       "   Temperature  CO2 Emissions  Sea Level Rise  Precipitation   Humidity  \\\n",
       "0    10.688986     403.118903        0.717506      13.835237  23.631256   \n",
       "1    13.814430     396.663499        1.205715      40.974084  43.982946   \n",
       "2    26.544184     451.553155       -0.160783      42.697931  96.652600   \n",
       "3    12.309581     422.404983       -0.475931       5.193341  47.467938   \n",
       "4    13.210885     410.472999        1.135757      78.695280  61.789672   \n",
       "\n",
       "   Wind Speed  \n",
       "0   18.492026  \n",
       "1   34.249300  \n",
       "2   34.124261  \n",
       "3    8.554563  \n",
       "4    8.001164  "
      ]
     },
     "execution_count": 25,
     "metadata": {},
     "output_type": "execute_result"
    }
   ],
   "source": [
    "new_df2_2.head()"
   ]
  },
  {
   "cell_type": "markdown",
   "id": "11f1eb23",
   "metadata": {
    "papermill": {
     "duration": 0.022123,
     "end_time": "2023-07-09T18:22:59.144695",
     "exception": false,
     "start_time": "2023-07-09T18:22:59.122572",
     "status": "completed"
    },
    "tags": []
   },
   "source": [
    "# IQR Method"
   ]
  },
  {
   "cell_type": "markdown",
   "id": "156f8d8c",
   "metadata": {
    "papermill": {
     "duration": 0.021319,
     "end_time": "2023-07-09T18:22:59.187869",
     "exception": false,
     "start_time": "2023-07-09T18:22:59.166550",
     "status": "completed"
    },
    "tags": []
   },
   "source": [
    "IQR - Inter Quartile Range  \n",
    "Q1 - 25th percentile   \n",
    "Q2 - 50th percentile (Median)   \n",
    "Q3 - 75th percentile   \n",
    "\n",
    "Used for skewed data.   \n",
    "In this method, we calculate the minimum and maximum value. If any value is less than minimum value or greater than maximum value, then it is considered as an outlier.    \n",
    "IQR = Q3 - Q1   \n",
    "Minimum = Q1 - 1.5 * IQR   \n",
    "Maximum = Q3 + 1.5 * IQR   "
   ]
  },
  {
   "cell_type": "code",
   "execution_count": 26,
   "id": "f58730d4",
   "metadata": {
    "execution": {
     "iopub.execute_input": "2023-07-09T18:22:59.234698Z",
     "iopub.status.busy": "2023-07-09T18:22:59.233827Z",
     "iopub.status.idle": "2023-07-09T18:22:59.253079Z",
     "shell.execute_reply": "2023-07-09T18:22:59.251850Z"
    },
    "papermill": {
     "duration": 0.046596,
     "end_time": "2023-07-09T18:22:59.256304",
     "exception": false,
     "start_time": "2023-07-09T18:22:59.209708",
     "status": "completed"
    },
    "tags": []
   },
   "outputs": [],
   "source": [
    "df3 = pd.read_csv('/kaggle/input/titanic/train.csv')"
   ]
  },
  {
   "cell_type": "code",
   "execution_count": 27,
   "id": "6e487dd3",
   "metadata": {
    "execution": {
     "iopub.execute_input": "2023-07-09T18:22:59.303879Z",
     "iopub.status.busy": "2023-07-09T18:22:59.303017Z",
     "iopub.status.idle": "2023-07-09T18:22:59.322923Z",
     "shell.execute_reply": "2023-07-09T18:22:59.321593Z"
    },
    "papermill": {
     "duration": 0.046918,
     "end_time": "2023-07-09T18:22:59.326067",
     "exception": false,
     "start_time": "2023-07-09T18:22:59.279149",
     "status": "completed"
    },
    "tags": []
   },
   "outputs": [
    {
     "data": {
      "text/html": [
       "<div>\n",
       "<style scoped>\n",
       "    .dataframe tbody tr th:only-of-type {\n",
       "        vertical-align: middle;\n",
       "    }\n",
       "\n",
       "    .dataframe tbody tr th {\n",
       "        vertical-align: top;\n",
       "    }\n",
       "\n",
       "    .dataframe thead th {\n",
       "        text-align: right;\n",
       "    }\n",
       "</style>\n",
       "<table border=\"1\" class=\"dataframe\">\n",
       "  <thead>\n",
       "    <tr style=\"text-align: right;\">\n",
       "      <th></th>\n",
       "      <th>PassengerId</th>\n",
       "      <th>Survived</th>\n",
       "      <th>Pclass</th>\n",
       "      <th>Name</th>\n",
       "      <th>Sex</th>\n",
       "      <th>Age</th>\n",
       "      <th>SibSp</th>\n",
       "      <th>Parch</th>\n",
       "      <th>Ticket</th>\n",
       "      <th>Fare</th>\n",
       "      <th>Cabin</th>\n",
       "      <th>Embarked</th>\n",
       "    </tr>\n",
       "  </thead>\n",
       "  <tbody>\n",
       "    <tr>\n",
       "      <th>0</th>\n",
       "      <td>1</td>\n",
       "      <td>0</td>\n",
       "      <td>3</td>\n",
       "      <td>Braund, Mr. Owen Harris</td>\n",
       "      <td>male</td>\n",
       "      <td>22.0</td>\n",
       "      <td>1</td>\n",
       "      <td>0</td>\n",
       "      <td>A/5 21171</td>\n",
       "      <td>7.2500</td>\n",
       "      <td>NaN</td>\n",
       "      <td>S</td>\n",
       "    </tr>\n",
       "    <tr>\n",
       "      <th>1</th>\n",
       "      <td>2</td>\n",
       "      <td>1</td>\n",
       "      <td>1</td>\n",
       "      <td>Cumings, Mrs. John Bradley (Florence Briggs Th...</td>\n",
       "      <td>female</td>\n",
       "      <td>38.0</td>\n",
       "      <td>1</td>\n",
       "      <td>0</td>\n",
       "      <td>PC 17599</td>\n",
       "      <td>71.2833</td>\n",
       "      <td>C85</td>\n",
       "      <td>C</td>\n",
       "    </tr>\n",
       "    <tr>\n",
       "      <th>2</th>\n",
       "      <td>3</td>\n",
       "      <td>1</td>\n",
       "      <td>3</td>\n",
       "      <td>Heikkinen, Miss. Laina</td>\n",
       "      <td>female</td>\n",
       "      <td>26.0</td>\n",
       "      <td>0</td>\n",
       "      <td>0</td>\n",
       "      <td>STON/O2. 3101282</td>\n",
       "      <td>7.9250</td>\n",
       "      <td>NaN</td>\n",
       "      <td>S</td>\n",
       "    </tr>\n",
       "    <tr>\n",
       "      <th>3</th>\n",
       "      <td>4</td>\n",
       "      <td>1</td>\n",
       "      <td>1</td>\n",
       "      <td>Futrelle, Mrs. Jacques Heath (Lily May Peel)</td>\n",
       "      <td>female</td>\n",
       "      <td>35.0</td>\n",
       "      <td>1</td>\n",
       "      <td>0</td>\n",
       "      <td>113803</td>\n",
       "      <td>53.1000</td>\n",
       "      <td>C123</td>\n",
       "      <td>S</td>\n",
       "    </tr>\n",
       "    <tr>\n",
       "      <th>4</th>\n",
       "      <td>5</td>\n",
       "      <td>0</td>\n",
       "      <td>3</td>\n",
       "      <td>Allen, Mr. William Henry</td>\n",
       "      <td>male</td>\n",
       "      <td>35.0</td>\n",
       "      <td>0</td>\n",
       "      <td>0</td>\n",
       "      <td>373450</td>\n",
       "      <td>8.0500</td>\n",
       "      <td>NaN</td>\n",
       "      <td>S</td>\n",
       "    </tr>\n",
       "  </tbody>\n",
       "</table>\n",
       "</div>"
      ],
      "text/plain": [
       "   PassengerId  Survived  Pclass  \\\n",
       "0            1         0       3   \n",
       "1            2         1       1   \n",
       "2            3         1       3   \n",
       "3            4         1       1   \n",
       "4            5         0       3   \n",
       "\n",
       "                                                Name     Sex   Age  SibSp  \\\n",
       "0                            Braund, Mr. Owen Harris    male  22.0      1   \n",
       "1  Cumings, Mrs. John Bradley (Florence Briggs Th...  female  38.0      1   \n",
       "2                             Heikkinen, Miss. Laina  female  26.0      0   \n",
       "3       Futrelle, Mrs. Jacques Heath (Lily May Peel)  female  35.0      1   \n",
       "4                           Allen, Mr. William Henry    male  35.0      0   \n",
       "\n",
       "   Parch            Ticket     Fare Cabin Embarked  \n",
       "0      0         A/5 21171   7.2500   NaN        S  \n",
       "1      0          PC 17599  71.2833   C85        C  \n",
       "2      0  STON/O2. 3101282   7.9250   NaN        S  \n",
       "3      0            113803  53.1000  C123        S  \n",
       "4      0            373450   8.0500   NaN        S  "
      ]
     },
     "execution_count": 27,
     "metadata": {},
     "output_type": "execute_result"
    }
   ],
   "source": [
    "df3.head()"
   ]
  },
  {
   "cell_type": "code",
   "execution_count": 28,
   "id": "2229fa07",
   "metadata": {
    "execution": {
     "iopub.execute_input": "2023-07-09T18:22:59.374177Z",
     "iopub.status.busy": "2023-07-09T18:22:59.373674Z",
     "iopub.status.idle": "2023-07-09T18:23:00.229255Z",
     "shell.execute_reply": "2023-07-09T18:23:00.227706Z"
    },
    "papermill": {
     "duration": 0.882932,
     "end_time": "2023-07-09T18:23:00.232376",
     "exception": false,
     "start_time": "2023-07-09T18:22:59.349444",
     "status": "completed"
    },
    "tags": []
   },
   "outputs": [
    {
     "data": {
      "text/plain": [
       "<Axes: xlabel='Fare', ylabel='Count'>"
      ]
     },
     "execution_count": 28,
     "metadata": {},
     "output_type": "execute_result"
    },
    {
     "data": {
      "image/png": "[encoded data removed]",
      "text/plain": [
       "<Figure size 640x480 with 1 Axes>"
      ]
     },
     "metadata": {},
     "output_type": "display_data"
    }
   ],
   "source": [
    "sns.histplot(df3['Fare'], kde = True)\n",
    "#we have positively skewed data"
   ]
  },
  {
   "cell_type": "code",
   "execution_count": 29,
   "id": "aff00ea1",
   "metadata": {
    "execution": {
     "iopub.execute_input": "2023-07-09T18:23:00.283010Z",
     "iopub.status.busy": "2023-07-09T18:23:00.282568Z",
     "iopub.status.idle": "2023-07-09T18:23:00.513156Z",
     "shell.execute_reply": "2023-07-09T18:23:00.511754Z"
    },
    "papermill": {
     "duration": 0.259461,
     "end_time": "2023-07-09T18:23:00.515839",
     "exception": false,
     "start_time": "2023-07-09T18:23:00.256378",
     "status": "completed"
    },
    "tags": []
   },
   "outputs": [
    {
     "data": {
      "text/plain": [
       "<Axes: xlabel='Fare'>"
      ]
     },
     "execution_count": 29,
     "metadata": {},
     "output_type": "execute_result"
    },
    {
     "data": {
      "image/png": "[encoded data removed]",
      "text/plain": [
       "<Figure size 640x480 with 1 Axes>"
      ]
     },
     "metadata": {},
     "output_type": "display_data"
    }
   ],
   "source": [
    "sns.boxplot(x = df3['Fare'])"
   ]
  },
  {
   "cell_type": "code",
   "execution_count": 30,
   "id": "d93ddcfd",
   "metadata": {
    "execution": {
     "iopub.execute_input": "2023-07-09T18:23:00.564861Z",
     "iopub.status.busy": "2023-07-09T18:23:00.564348Z",
     "iopub.status.idle": "2023-07-09T18:23:00.574998Z",
     "shell.execute_reply": "2023-07-09T18:23:00.573644Z"
    },
    "papermill": {
     "duration": 0.038246,
     "end_time": "2023-07-09T18:23:00.577507",
     "exception": false,
     "start_time": "2023-07-09T18:23:00.539261",
     "status": "completed"
    },
    "tags": []
   },
   "outputs": [],
   "source": [
    "q1 = df3['Fare'].quantile(0.25)\n",
    "q3 = df3['Fare'].quantile(0.75)\n",
    "iqr = q3 - q1"
   ]
  },
  {
   "cell_type": "code",
   "execution_count": 31,
   "id": "9bbe716d",
   "metadata": {
    "execution": {
     "iopub.execute_input": "2023-07-09T18:23:00.627598Z",
     "iopub.status.busy": "2023-07-09T18:23:00.627101Z",
     "iopub.status.idle": "2023-07-09T18:23:00.633379Z",
     "shell.execute_reply": "2023-07-09T18:23:00.632087Z"
    },
    "papermill": {
     "duration": 0.034455,
     "end_time": "2023-07-09T18:23:00.635908",
     "exception": false,
     "start_time": "2023-07-09T18:23:00.601453",
     "status": "completed"
    },
    "tags": []
   },
   "outputs": [],
   "source": [
    "min_val = q1 - (1.5 * iqr)\n",
    "max_val = q3 + (1.5 * iqr)"
   ]
  },
  {
   "cell_type": "code",
   "execution_count": 32,
   "id": "1d4b333c",
   "metadata": {
    "execution": {
     "iopub.execute_input": "2023-07-09T18:23:00.685518Z",
     "iopub.status.busy": "2023-07-09T18:23:00.685040Z",
     "iopub.status.idle": "2023-07-09T18:23:00.695405Z",
     "shell.execute_reply": "2023-07-09T18:23:00.694306Z"
    },
    "papermill": {
     "duration": 0.038002,
     "end_time": "2023-07-09T18:23:00.697886",
     "exception": false,
     "start_time": "2023-07-09T18:23:00.659884",
     "status": "completed"
    },
    "tags": []
   },
   "outputs": [
    {
     "data": {
      "text/plain": [
       "116"
      ]
     },
     "execution_count": 32,
     "metadata": {},
     "output_type": "execute_result"
    }
   ],
   "source": [
    "len(df3[(df3['Fare'] > max_val) | (df3['Fare'] < min_val)])"
   ]
  },
  {
   "cell_type": "markdown",
   "id": "fa6858ae",
   "metadata": {
    "papermill": {
     "duration": 0.02332,
     "end_time": "2023-07-09T18:23:00.745684",
     "exception": false,
     "start_time": "2023-07-09T18:23:00.722364",
     "status": "completed"
    },
    "tags": []
   },
   "source": [
    "### Trimming"
   ]
  },
  {
   "cell_type": "code",
   "execution_count": 33,
   "id": "2ae597fa",
   "metadata": {
    "execution": {
     "iopub.execute_input": "2023-07-09T18:23:00.795376Z",
     "iopub.status.busy": "2023-07-09T18:23:00.794893Z",
     "iopub.status.idle": "2023-07-09T18:23:00.803079Z",
     "shell.execute_reply": "2023-07-09T18:23:00.801803Z"
    },
    "papermill": {
     "duration": 0.037011,
     "end_time": "2023-07-09T18:23:00.806103",
     "exception": false,
     "start_time": "2023-07-09T18:23:00.769092",
     "status": "completed"
    },
    "tags": []
   },
   "outputs": [
    {
     "data": {
      "text/plain": [
       "(891, 12)"
      ]
     },
     "execution_count": 33,
     "metadata": {},
     "output_type": "execute_result"
    }
   ],
   "source": [
    "df3.shape"
   ]
  },
  {
   "cell_type": "code",
   "execution_count": 34,
   "id": "31bbe409",
   "metadata": {
    "execution": {
     "iopub.execute_input": "2023-07-09T18:23:00.858099Z",
     "iopub.status.busy": "2023-07-09T18:23:00.857615Z",
     "iopub.status.idle": "2023-07-09T18:23:00.865510Z",
     "shell.execute_reply": "2023-07-09T18:23:00.864144Z"
    },
    "papermill": {
     "duration": 0.037133,
     "end_time": "2023-07-09T18:23:00.868258",
     "exception": false,
     "start_time": "2023-07-09T18:23:00.831125",
     "status": "completed"
    },
    "tags": []
   },
   "outputs": [],
   "source": [
    "new_df3_1 = df3[(df3['Fare'] < max_val) & (df3['Fare'] > min_val)]"
   ]
  },
  {
   "cell_type": "code",
   "execution_count": 35,
   "id": "6c23f34e",
   "metadata": {
    "execution": {
     "iopub.execute_input": "2023-07-09T18:23:00.919165Z",
     "iopub.status.busy": "2023-07-09T18:23:00.918640Z",
     "iopub.status.idle": "2023-07-09T18:23:00.926653Z",
     "shell.execute_reply": "2023-07-09T18:23:00.925387Z"
    },
    "papermill": {
     "duration": 0.035873,
     "end_time": "2023-07-09T18:23:00.929008",
     "exception": false,
     "start_time": "2023-07-09T18:23:00.893135",
     "status": "completed"
    },
    "tags": []
   },
   "outputs": [
    {
     "data": {
      "text/plain": [
       "(775, 12)"
      ]
     },
     "execution_count": 35,
     "metadata": {},
     "output_type": "execute_result"
    }
   ],
   "source": [
    "new_df3_1.shape"
   ]
  },
  {
   "cell_type": "code",
   "execution_count": 36,
   "id": "7eb41e45",
   "metadata": {
    "execution": {
     "iopub.execute_input": "2023-07-09T18:23:00.982010Z",
     "iopub.status.busy": "2023-07-09T18:23:00.981368Z",
     "iopub.status.idle": "2023-07-09T18:23:01.419338Z",
     "shell.execute_reply": "2023-07-09T18:23:01.416864Z"
    },
    "papermill": {
     "duration": 0.469068,
     "end_time": "2023-07-09T18:23:01.423688",
     "exception": false,
     "start_time": "2023-07-09T18:23:00.954620",
     "status": "completed"
    },
    "tags": []
   },
   "outputs": [
    {
     "data": {
      "text/plain": [
       "<Axes: xlabel='Fare', ylabel='Count'>"
      ]
     },
     "execution_count": 36,
     "metadata": {},
     "output_type": "execute_result"
    },
    {
     "data": {
      "image/png": "[encoded data removed]",
      "text/plain": [
       "<Figure size 640x480 with 1 Axes>"
      ]
     },
     "metadata": {},
     "output_type": "display_data"
    }
   ],
   "source": [
    "sns.histplot(new_df3_1['Fare'], kde = True)"
   ]
  },
  {
   "cell_type": "code",
   "execution_count": 37,
   "id": "99db0944",
   "metadata": {
    "execution": {
     "iopub.execute_input": "2023-07-09T18:23:01.476698Z",
     "iopub.status.busy": "2023-07-09T18:23:01.476209Z",
     "iopub.status.idle": "2023-07-09T18:23:01.721472Z",
     "shell.execute_reply": "2023-07-09T18:23:01.719972Z"
    },
    "papermill": {
     "duration": 0.275533,
     "end_time": "2023-07-09T18:23:01.724296",
     "exception": false,
     "start_time": "2023-07-09T18:23:01.448763",
     "status": "completed"
    },
    "tags": []
   },
   "outputs": [
    {
     "data": {
      "text/plain": [
       "<Axes: xlabel='Fare'>"
      ]
     },
     "execution_count": 37,
     "metadata": {},
     "output_type": "execute_result"
    },
    {
     "data": {
      "image/png": "[encoded data removed]",
      "text/plain": [
       "<Figure size 640x480 with 1 Axes>"
      ]
     },
     "metadata": {},
     "output_type": "display_data"
    }
   ],
   "source": [
    "sns.boxplot(x = new_df3_1['Fare'])\n",
    "#selfnote - why still outliers are present in the box plot"
   ]
  },
  {
   "cell_type": "markdown",
   "id": "07babc12",
   "metadata": {
    "papermill": {
     "duration": 0.025287,
     "end_time": "2023-07-09T18:23:01.775140",
     "exception": false,
     "start_time": "2023-07-09T18:23:01.749853",
     "status": "completed"
    },
    "tags": []
   },
   "source": [
    "### Capping"
   ]
  },
  {
   "cell_type": "code",
   "execution_count": 38,
   "id": "71cd70dc",
   "metadata": {
    "execution": {
     "iopub.execute_input": "2023-07-09T18:23:01.827533Z",
     "iopub.status.busy": "2023-07-09T18:23:01.827052Z",
     "iopub.status.idle": "2023-07-09T18:23:01.833096Z",
     "shell.execute_reply": "2023-07-09T18:23:01.831861Z"
    },
    "papermill": {
     "duration": 0.035974,
     "end_time": "2023-07-09T18:23:01.835686",
     "exception": false,
     "start_time": "2023-07-09T18:23:01.799712",
     "status": "completed"
    },
    "tags": []
   },
   "outputs": [],
   "source": [
    "new_df3_2 = df3.copy()"
   ]
  },
  {
   "cell_type": "code",
   "execution_count": 39,
   "id": "c01e5905",
   "metadata": {
    "execution": {
     "iopub.execute_input": "2023-07-09T18:23:01.890571Z",
     "iopub.status.busy": "2023-07-09T18:23:01.889551Z",
     "iopub.status.idle": "2023-07-09T18:23:01.899270Z",
     "shell.execute_reply": "2023-07-09T18:23:01.897363Z"
    },
    "papermill": {
     "duration": 0.041425,
     "end_time": "2023-07-09T18:23:01.902344",
     "exception": false,
     "start_time": "2023-07-09T18:23:01.860919",
     "status": "completed"
    },
    "tags": []
   },
   "outputs": [],
   "source": [
    "new_df3_2['Fare'] = np.where(df3['Fare'] > max_val,\n",
    "         max_val,\n",
    "         np.where(df3['Fare'] < min_val,\n",
    "                  min_val,\n",
    "                  df3['Fare']\n",
    "                 )\n",
    "        )"
   ]
  },
  {
   "cell_type": "code",
   "execution_count": 40,
   "id": "305acc24",
   "metadata": {
    "execution": {
     "iopub.execute_input": "2023-07-09T18:23:01.957974Z",
     "iopub.status.busy": "2023-07-09T18:23:01.957445Z",
     "iopub.status.idle": "2023-07-09T18:23:01.981173Z",
     "shell.execute_reply": "2023-07-09T18:23:01.979550Z"
    },
    "papermill": {
     "duration": 0.055801,
     "end_time": "2023-07-09T18:23:01.984308",
     "exception": false,
     "start_time": "2023-07-09T18:23:01.928507",
     "status": "completed"
    },
    "tags": []
   },
   "outputs": [
    {
     "data": {
      "text/html": [
       "<div>\n",
       "<style scoped>\n",
       "    .dataframe tbody tr th:only-of-type {\n",
       "        vertical-align: middle;\n",
       "    }\n",
       "\n",
       "    .dataframe tbody tr th {\n",
       "        vertical-align: top;\n",
       "    }\n",
       "\n",
       "    .dataframe thead th {\n",
       "        text-align: right;\n",
       "    }\n",
       "</style>\n",
       "<table border=\"1\" class=\"dataframe\">\n",
       "  <thead>\n",
       "    <tr style=\"text-align: right;\">\n",
       "      <th></th>\n",
       "      <th>PassengerId</th>\n",
       "      <th>Survived</th>\n",
       "      <th>Pclass</th>\n",
       "      <th>Name</th>\n",
       "      <th>Sex</th>\n",
       "      <th>Age</th>\n",
       "      <th>SibSp</th>\n",
       "      <th>Parch</th>\n",
       "      <th>Ticket</th>\n",
       "      <th>Fare</th>\n",
       "      <th>Cabin</th>\n",
       "      <th>Embarked</th>\n",
       "    </tr>\n",
       "  </thead>\n",
       "  <tbody>\n",
       "    <tr>\n",
       "      <th>346</th>\n",
       "      <td>347</td>\n",
       "      <td>1</td>\n",
       "      <td>2</td>\n",
       "      <td>Smith, Miss. Marion Elsie</td>\n",
       "      <td>female</td>\n",
       "      <td>40.00</td>\n",
       "      <td>0</td>\n",
       "      <td>0</td>\n",
       "      <td>31418</td>\n",
       "      <td>13.0000</td>\n",
       "      <td>NaN</td>\n",
       "      <td>S</td>\n",
       "    </tr>\n",
       "    <tr>\n",
       "      <th>544</th>\n",
       "      <td>545</td>\n",
       "      <td>0</td>\n",
       "      <td>1</td>\n",
       "      <td>Douglas, Mr. Walter Donald</td>\n",
       "      <td>male</td>\n",
       "      <td>50.00</td>\n",
       "      <td>1</td>\n",
       "      <td>0</td>\n",
       "      <td>PC 17761</td>\n",
       "      <td>65.6344</td>\n",
       "      <td>C86</td>\n",
       "      <td>C</td>\n",
       "    </tr>\n",
       "    <tr>\n",
       "      <th>755</th>\n",
       "      <td>756</td>\n",
       "      <td>1</td>\n",
       "      <td>2</td>\n",
       "      <td>Hamalainen, Master. Viljo</td>\n",
       "      <td>male</td>\n",
       "      <td>0.67</td>\n",
       "      <td>1</td>\n",
       "      <td>1</td>\n",
       "      <td>250649</td>\n",
       "      <td>14.5000</td>\n",
       "      <td>NaN</td>\n",
       "      <td>S</td>\n",
       "    </tr>\n",
       "    <tr>\n",
       "      <th>393</th>\n",
       "      <td>394</td>\n",
       "      <td>1</td>\n",
       "      <td>1</td>\n",
       "      <td>Newell, Miss. Marjorie</td>\n",
       "      <td>female</td>\n",
       "      <td>23.00</td>\n",
       "      <td>1</td>\n",
       "      <td>0</td>\n",
       "      <td>35273</td>\n",
       "      <td>65.6344</td>\n",
       "      <td>D36</td>\n",
       "      <td>C</td>\n",
       "    </tr>\n",
       "    <tr>\n",
       "      <th>364</th>\n",
       "      <td>365</td>\n",
       "      <td>0</td>\n",
       "      <td>3</td>\n",
       "      <td>O'Brien, Mr. Thomas</td>\n",
       "      <td>male</td>\n",
       "      <td>NaN</td>\n",
       "      <td>1</td>\n",
       "      <td>0</td>\n",
       "      <td>370365</td>\n",
       "      <td>15.5000</td>\n",
       "      <td>NaN</td>\n",
       "      <td>Q</td>\n",
       "    </tr>\n",
       "  </tbody>\n",
       "</table>\n",
       "</div>"
      ],
      "text/plain": [
       "     PassengerId  Survived  Pclass                        Name     Sex    Age  \\\n",
       "346          347         1       2   Smith, Miss. Marion Elsie  female  40.00   \n",
       "544          545         0       1  Douglas, Mr. Walter Donald    male  50.00   \n",
       "755          756         1       2   Hamalainen, Master. Viljo    male   0.67   \n",
       "393          394         1       1      Newell, Miss. Marjorie  female  23.00   \n",
       "364          365         0       3         O'Brien, Mr. Thomas    male    NaN   \n",
       "\n",
       "     SibSp  Parch    Ticket     Fare Cabin Embarked  \n",
       "346      0      0     31418  13.0000   NaN        S  \n",
       "544      1      0  PC 17761  65.6344   C86        C  \n",
       "755      1      1    250649  14.5000   NaN        S  \n",
       "393      1      0     35273  65.6344   D36        C  \n",
       "364      1      0    370365  15.5000   NaN        Q  "
      ]
     },
     "execution_count": 40,
     "metadata": {},
     "output_type": "execute_result"
    }
   ],
   "source": [
    "new_df3_2.sample(5)"
   ]
  }
 ],
 "metadata": {
  "kernelspec": {
   "display_name": "Python 3",
   "language": "python",
   "name": "python3"
  },
  "language_info": {
   "codemirror_mode": {
    "name": "ipython",
    "version": 3
   },
   "file_extension": ".py",
   "mimetype": "text/x-python",
   "name": "python",
   "nbconvert_exporter": "python",
   "pygments_lexer": "ipython3",
   "version": "3.10.10"
  },
  "papermill": {
   "default_parameters": {},
   "duration": 27.20898,
   "end_time": "2023-07-09T18:23:03.545132",
   "environment_variables": {},
   "exception": null,
   "input_path": "__notebook__.ipynb",
   "output_path": "__notebook__.ipynb",
   "parameters": {},
   "start_time": "2023-07-09T18:22:36.336152",
   "version": "2.4.0"
  }
 },
 "nbformat": 4,
 "nbformat_minor": 5
}
