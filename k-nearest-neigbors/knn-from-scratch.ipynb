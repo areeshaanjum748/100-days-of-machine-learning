{
 "cells": [
  {
   "cell_type": "markdown",
   "id": "8d0ab761",
   "metadata": {
    "papermill": {
     "duration": 0.006224,
     "end_time": "2023-08-21T08:55:52.741476",
     "exception": false,
     "start_time": "2023-08-21T08:55:52.735252",
     "status": "completed"
    },
    "tags": []
   },
   "source": [
    "# Importing Libraries"
   ]
  },
  {
   "cell_type": "code",
   "execution_count": 1,
   "id": "39086e00",
   "metadata": {
    "execution": {
     "iopub.execute_input": "2023-08-21T08:55:52.755211Z",
     "iopub.status.busy": "2023-08-21T08:55:52.754358Z",
     "iopub.status.idle": "2023-08-21T08:55:54.065563Z",
     "shell.execute_reply": "2023-08-21T08:55:54.064035Z"
    },
    "papermill": {
     "duration": 1.3217,
     "end_time": "2023-08-21T08:55:54.068809",
     "exception": false,
     "start_time": "2023-08-21T08:55:52.747109",
     "status": "completed"
    },
    "tags": []
   },
   "outputs": [
    {
     "name": "stderr",
     "output_type": "stream",
     "text": [
      "/opt/conda/lib/python3.10/site-packages/scipy/__init__.py:146: UserWarning: A NumPy version >=1.16.5 and <1.23.0 is required for this version of SciPy (detected version 1.23.5\n",
      "  warnings.warn(f\"A NumPy version >={np_minversion} and <{np_maxversion}\"\n"
     ]
    }
   ],
   "source": [
    "import numpy as np\n",
    "\n",
    "import pandas as pd\n",
    "\n",
    "from sklearn.preprocessing import StandardScaler\n",
    "\n",
    "from sklearn.model_selection import train_test_split\n",
    "\n",
    "from collections import Counter\n",
    "\n",
    "from sklearn.metrics import accuracy_score"
   ]
  },
  {
   "cell_type": "markdown",
   "id": "fecf89b6",
   "metadata": {
    "papermill": {
     "duration": 0.005213,
     "end_time": "2023-08-21T08:55:54.079949",
     "exception": false,
     "start_time": "2023-08-21T08:55:54.074736",
     "status": "completed"
    },
    "tags": []
   },
   "source": [
    "# Dataset Description"
   ]
  },
  {
   "cell_type": "code",
   "execution_count": 2,
   "id": "4a23dbec",
   "metadata": {
    "execution": {
     "iopub.execute_input": "2023-08-21T08:55:54.093378Z",
     "iopub.status.busy": "2023-08-21T08:55:54.092489Z",
     "iopub.status.idle": "2023-08-21T08:55:54.117871Z",
     "shell.execute_reply": "2023-08-21T08:55:54.116607Z"
    },
    "papermill": {
     "duration": 0.036374,
     "end_time": "2023-08-21T08:55:54.121657",
     "exception": false,
     "start_time": "2023-08-21T08:55:54.085283",
     "status": "completed"
    },
    "tags": []
   },
   "outputs": [],
   "source": [
    "df = pd.read_csv('/kaggle/input/very-simple-dataset-of-social-network-ads/Social_Network_Ads.csv')"
   ]
  },
  {
   "cell_type": "code",
   "execution_count": 3,
   "id": "95d45a70",
   "metadata": {
    "execution": {
     "iopub.execute_input": "2023-08-21T08:55:54.136128Z",
     "iopub.status.busy": "2023-08-21T08:55:54.135267Z",
     "iopub.status.idle": "2023-08-21T08:55:54.144076Z",
     "shell.execute_reply": "2023-08-21T08:55:54.142920Z"
    },
    "papermill": {
     "duration": 0.019146,
     "end_time": "2023-08-21T08:55:54.146577",
     "exception": false,
     "start_time": "2023-08-21T08:55:54.127431",
     "status": "completed"
    },
    "tags": []
   },
   "outputs": [
    {
     "data": {
      "text/plain": [
       "(400, 3)"
      ]
     },
     "execution_count": 3,
     "metadata": {},
     "output_type": "execute_result"
    }
   ],
   "source": [
    "df.shape"
   ]
  },
  {
   "cell_type": "code",
   "execution_count": 4,
   "id": "407ccf85",
   "metadata": {
    "execution": {
     "iopub.execute_input": "2023-08-21T08:55:54.159829Z",
     "iopub.status.busy": "2023-08-21T08:55:54.159415Z",
     "iopub.status.idle": "2023-08-21T08:55:54.181738Z",
     "shell.execute_reply": "2023-08-21T08:55:54.180431Z"
    },
    "papermill": {
     "duration": 0.032337,
     "end_time": "2023-08-21T08:55:54.184632",
     "exception": false,
     "start_time": "2023-08-21T08:55:54.152295",
     "status": "completed"
    },
    "tags": []
   },
   "outputs": [
    {
     "data": {
      "text/html": [
       "<div>\n",
       "<style scoped>\n",
       "    .dataframe tbody tr th:only-of-type {\n",
       "        vertical-align: middle;\n",
       "    }\n",
       "\n",
       "    .dataframe tbody tr th {\n",
       "        vertical-align: top;\n",
       "    }\n",
       "\n",
       "    .dataframe thead th {\n",
       "        text-align: right;\n",
       "    }\n",
       "</style>\n",
       "<table border=\"1\" class=\"dataframe\">\n",
       "  <thead>\n",
       "    <tr style=\"text-align: right;\">\n",
       "      <th></th>\n",
       "      <th>Age</th>\n",
       "      <th>EstimatedSalary</th>\n",
       "      <th>Purchased</th>\n",
       "    </tr>\n",
       "  </thead>\n",
       "  <tbody>\n",
       "    <tr>\n",
       "      <th>0</th>\n",
       "      <td>19</td>\n",
       "      <td>19000</td>\n",
       "      <td>0</td>\n",
       "    </tr>\n",
       "    <tr>\n",
       "      <th>1</th>\n",
       "      <td>35</td>\n",
       "      <td>20000</td>\n",
       "      <td>0</td>\n",
       "    </tr>\n",
       "    <tr>\n",
       "      <th>2</th>\n",
       "      <td>26</td>\n",
       "      <td>43000</td>\n",
       "      <td>0</td>\n",
       "    </tr>\n",
       "    <tr>\n",
       "      <th>3</th>\n",
       "      <td>27</td>\n",
       "      <td>57000</td>\n",
       "      <td>0</td>\n",
       "    </tr>\n",
       "    <tr>\n",
       "      <th>4</th>\n",
       "      <td>19</td>\n",
       "      <td>76000</td>\n",
       "      <td>0</td>\n",
       "    </tr>\n",
       "  </tbody>\n",
       "</table>\n",
       "</div>"
      ],
      "text/plain": [
       "   Age  EstimatedSalary  Purchased\n",
       "0   19            19000          0\n",
       "1   35            20000          0\n",
       "2   26            43000          0\n",
       "3   27            57000          0\n",
       "4   19            76000          0"
      ]
     },
     "execution_count": 4,
     "metadata": {},
     "output_type": "execute_result"
    }
   ],
   "source": [
    "df.head()"
   ]
  },
  {
   "cell_type": "markdown",
   "id": "1ea4e58f",
   "metadata": {
    "papermill": {
     "duration": 0.005691,
     "end_time": "2023-08-21T08:55:54.196396",
     "exception": false,
     "start_time": "2023-08-21T08:55:54.190705",
     "status": "completed"
    },
    "tags": []
   },
   "source": [
    "# Train-Test Split"
   ]
  },
  {
   "cell_type": "code",
   "execution_count": 5,
   "id": "3a37b69f",
   "metadata": {
    "execution": {
     "iopub.execute_input": "2023-08-21T08:55:54.210382Z",
     "iopub.status.busy": "2023-08-21T08:55:54.209889Z",
     "iopub.status.idle": "2023-08-21T08:55:54.223330Z",
     "shell.execute_reply": "2023-08-21T08:55:54.221925Z"
    },
    "papermill": {
     "duration": 0.023629,
     "end_time": "2023-08-21T08:55:54.225887",
     "exception": false,
     "start_time": "2023-08-21T08:55:54.202258",
     "status": "completed"
    },
    "tags": []
   },
   "outputs": [],
   "source": [
    "X = df.drop(['Purchased'], axis = 1)\n",
    "y = df['Purchased']"
   ]
  },
  {
   "cell_type": "code",
   "execution_count": 6,
   "id": "991bca73",
   "metadata": {
    "execution": {
     "iopub.execute_input": "2023-08-21T08:55:54.240202Z",
     "iopub.status.busy": "2023-08-21T08:55:54.239739Z",
     "iopub.status.idle": "2023-08-21T08:55:54.247892Z",
     "shell.execute_reply": "2023-08-21T08:55:54.246670Z"
    },
    "papermill": {
     "duration": 0.019147,
     "end_time": "2023-08-21T08:55:54.251073",
     "exception": false,
     "start_time": "2023-08-21T08:55:54.231926",
     "status": "completed"
    },
    "tags": []
   },
   "outputs": [],
   "source": [
    "X_train, X_test, y_train, y_test = train_test_split(X, y, test_size = 0.3)"
   ]
  },
  {
   "cell_type": "code",
   "execution_count": 7,
   "id": "6ee2bb66",
   "metadata": {
    "execution": {
     "iopub.execute_input": "2023-08-21T08:55:54.266249Z",
     "iopub.status.busy": "2023-08-21T08:55:54.265760Z",
     "iopub.status.idle": "2023-08-21T08:55:54.277923Z",
     "shell.execute_reply": "2023-08-21T08:55:54.276463Z"
    },
    "papermill": {
     "duration": 0.023379,
     "end_time": "2023-08-21T08:55:54.280918",
     "exception": false,
     "start_time": "2023-08-21T08:55:54.257539",
     "status": "completed"
    },
    "tags": []
   },
   "outputs": [],
   "source": [
    "scaler = StandardScaler()\n",
    "X_train = scaler.fit_transform(X_train)\n",
    "X_test = scaler.transform(X_test)"
   ]
  },
  {
   "cell_type": "markdown",
   "id": "8d447e50",
   "metadata": {
    "papermill": {
     "duration": 0.005777,
     "end_time": "2023-08-21T08:55:54.293313",
     "exception": false,
     "start_time": "2023-08-21T08:55:54.287536",
     "status": "completed"
    },
    "tags": []
   },
   "source": [
    "# Model Building"
   ]
  },
  {
   "cell_type": "code",
   "execution_count": 8,
   "id": "766b80e2",
   "metadata": {
    "execution": {
     "iopub.execute_input": "2023-08-21T08:55:54.309470Z",
     "iopub.status.busy": "2023-08-21T08:55:54.309003Z",
     "iopub.status.idle": "2023-08-21T08:55:54.315399Z",
     "shell.execute_reply": "2023-08-21T08:55:54.314126Z"
    },
    "papermill": {
     "duration": 0.018384,
     "end_time": "2023-08-21T08:55:54.317820",
     "exception": false,
     "start_time": "2023-08-21T08:55:54.299436",
     "status": "completed"
    },
    "tags": []
   },
   "outputs": [],
   "source": [
    "# Here, we are converting the X_train from numpy array to dataframe\n",
    "# setting its indices using y_train indices\n",
    "# as the indices of X_train gets removed while scaling\n",
    "X_train = pd.DataFrame(X_train)\n",
    "X_train = X_train.set_index(y_train.index)"
   ]
  },
  {
   "cell_type": "code",
   "execution_count": 9,
   "id": "4321cf32",
   "metadata": {
    "execution": {
     "iopub.execute_input": "2023-08-21T08:55:54.332531Z",
     "iopub.status.busy": "2023-08-21T08:55:54.331440Z",
     "iopub.status.idle": "2023-08-21T08:55:54.343589Z",
     "shell.execute_reply": "2023-08-21T08:55:54.342398Z"
    },
    "papermill": {
     "duration": 0.022042,
     "end_time": "2023-08-21T08:55:54.345979",
     "exception": false,
     "start_time": "2023-08-21T08:55:54.323937",
     "status": "completed"
    },
    "tags": []
   },
   "outputs": [],
   "source": [
    "class KNearestNeigbors:\n",
    "    def __init__(self, k):\n",
    "        self.k = k\n",
    "    \n",
    "    def fit(self, X_train, y_train):\n",
    "        self.X_train = X_train\n",
    "        self.y_train = y_train\n",
    "        print('Training completed')\n",
    "        \n",
    "    def predict(self, X_test):\n",
    "        y_pred = []\n",
    "        # calculates distance of every X_test point from every X_train point\n",
    "        for i in range(X_test.shape[0]):\n",
    "            distance = {}\n",
    "            #we are storing the indices because we require it to fetch y_train value\n",
    "            for j in X_train.index: \n",
    "                # euclidean distance\n",
    "                distance[j] = ((X_test[i][0] - X_train.loc[j][0])**2 + (X_test[i][1] - X_train.loc[j][1])**2)**1/2\n",
    "            #sorting the distances\n",
    "            distance = sorted(distance.items(), key = lambda item : item[1])\n",
    "            #we are considering the first k points with minimum distances\n",
    "            y_pred.append(self.classify(distance = distance[:self.k]))\n",
    "        return y_pred\n",
    "            \n",
    "    def classify(self, distance):\n",
    "        label = []\n",
    "        for i in distance:\n",
    "            #getting the labels for the k closest points\n",
    "            label.append(y_train[i[0]])\n",
    "            # returning the label with majority count\n",
    "        return Counter(label).most_common()[0][0]"
   ]
  },
  {
   "cell_type": "code",
   "execution_count": 10,
   "id": "be60c6d3",
   "metadata": {
    "execution": {
     "iopub.execute_input": "2023-08-21T08:55:54.359981Z",
     "iopub.status.busy": "2023-08-21T08:55:54.359471Z",
     "iopub.status.idle": "2023-08-21T08:55:58.404036Z",
     "shell.execute_reply": "2023-08-21T08:55:58.402544Z"
    },
    "papermill": {
     "duration": 4.05567,
     "end_time": "2023-08-21T08:55:58.407651",
     "exception": false,
     "start_time": "2023-08-21T08:55:54.351981",
     "status": "completed"
    },
    "tags": []
   },
   "outputs": [
    {
     "name": "stdout",
     "output_type": "stream",
     "text": [
      "Training completed\n"
     ]
    }
   ],
   "source": [
    "knn = KNearestNeigbors(k = 7)\n",
    "knn.fit(X_train, X_test)\n",
    "y_pred = knn.predict(X_test)"
   ]
  },
  {
   "cell_type": "code",
   "execution_count": 11,
   "id": "964476f1",
   "metadata": {
    "execution": {
     "iopub.execute_input": "2023-08-21T08:55:58.422564Z",
     "iopub.status.busy": "2023-08-21T08:55:58.422059Z",
     "iopub.status.idle": "2023-08-21T08:55:58.432801Z",
     "shell.execute_reply": "2023-08-21T08:55:58.431718Z"
    },
    "papermill": {
     "duration": 0.020867,
     "end_time": "2023-08-21T08:55:58.435080",
     "exception": false,
     "start_time": "2023-08-21T08:55:58.414213",
     "status": "completed"
    },
    "tags": []
   },
   "outputs": [
    {
     "data": {
      "text/plain": [
       "0.8916666666666667"
      ]
     },
     "execution_count": 11,
     "metadata": {},
     "output_type": "execute_result"
    }
   ],
   "source": [
    "accuracy_score(y_test, y_pred)"
   ]
  }
 ],
 "metadata": {
  "kernelspec": {
   "display_name": "Python 3",
   "language": "python",
   "name": "python3"
  },
  "language_info": {
   "codemirror_mode": {
    "name": "ipython",
    "version": 3
   },
   "file_extension": ".py",
   "mimetype": "text/x-python",
   "name": "python",
   "nbconvert_exporter": "python",
   "pygments_lexer": "ipython3",
   "version": "3.10.12"
  },
  "papermill": {
   "default_parameters": {},
   "duration": 19.404927,
   "end_time": "2023-08-21T08:55:59.867391",
   "environment_variables": {},
   "exception": null,
   "input_path": "__notebook__.ipynb",
   "output_path": "__notebook__.ipynb",
   "parameters": {},
   "start_time": "2023-08-21T08:55:40.462464",
   "version": "2.4.0"
  }
 },
 "nbformat": 4,
 "nbformat_minor": 5
}
